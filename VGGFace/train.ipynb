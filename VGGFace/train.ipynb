{
 "cells": [
  {
   "cell_type": "code",
   "execution_count": 91,
   "metadata": {},
   "outputs": [],
   "source": [
    "import tensorflow as tf\n",
    "import keras\n",
    "from keras_vggface.vggface import VGGFace\n",
    "from matplotlib import pyplot as plt\n",
    "import datetime\n",
    "import cv2\n",
    "import PIL\n",
    "from tensorflow.keras.models import load_model\n",
    "import numpy as np"
   ]
  },
  {
   "cell_type": "markdown",
   "metadata": {},
   "source": [
    "#### if encounter error \"ModuleNotFoundError: No module named 'keras.engine.topology'\"\n",
    "\n",
    "locate keras_vggface/models.py for example ../../../miniconda3/envs/ML/lib/python3.9/site-packages/keras_vggface/models.py\n",
    "\n",
    "changing the import from\n",
    "\n",
    "from keras.engine.topology import get_source_inputs\n",
    "\n",
    "to\n",
    "\n",
    "from keras.utils.layer_utils import get_source_inputs"
   ]
  },
  {
   "cell_type": "markdown",
   "metadata": {},
   "source": [
    "#### GPU Check"
   ]
  },
  {
   "cell_type": "code",
   "execution_count": 2,
   "metadata": {},
   "outputs": [
    {
     "name": "stderr",
     "output_type": "stream",
     "text": [
      "2023-09-18 10:32:23.966143: I tensorflow/stream_executor/cuda/cuda_gpu_executor.cc:975] successful NUMA node read from SysFS had negative value (-1), but there must be at least one NUMA node, so returning NUMA node zero\n",
      "2023-09-18 10:32:23.984833: I tensorflow/stream_executor/cuda/cuda_gpu_executor.cc:975] successful NUMA node read from SysFS had negative value (-1), but there must be at least one NUMA node, so returning NUMA node zero\n",
      "2023-09-18 10:32:23.985009: I tensorflow/stream_executor/cuda/cuda_gpu_executor.cc:975] successful NUMA node read from SysFS had negative value (-1), but there must be at least one NUMA node, so returning NUMA node zero\n"
     ]
    },
    {
     "data": {
      "text/plain": [
       "[PhysicalDevice(name='/physical_device:GPU:0', device_type='GPU')]"
      ]
     },
     "execution_count": 2,
     "metadata": {},
     "output_type": "execute_result"
    }
   ],
   "source": [
    "tf.config.list_physical_devices('GPU')"
   ]
  },
  {
   "cell_type": "code",
   "execution_count": 92,
   "metadata": {},
   "outputs": [
    {
     "name": "stdout",
     "output_type": "stream",
     "text": [
      "Found 1792 files belonging to 4 classes.\n",
      "Using 1613 files for training.\n"
     ]
    }
   ],
   "source": [
    "train_dataset = keras.utils.image_dataset_from_directory('datasets_VGG',\n",
    "                                                         validation_split = 0.1,\n",
    "                                                         subset=\"training\",\n",
    "                                                         seed = 69420,\n",
    "                                                         batch_size=16,\n",
    "                                                         image_size=(224,224))"
   ]
  },
  {
   "cell_type": "code",
   "execution_count": 93,
   "metadata": {},
   "outputs": [
    {
     "name": "stdout",
     "output_type": "stream",
     "text": [
      "Found 1792 files belonging to 4 classes.\n",
      "Using 179 files for validation.\n"
     ]
    }
   ],
   "source": [
    "valid_dataset = keras.utils.image_dataset_from_directory('datasets_VGG',\n",
    "                                                         validation_split = 0.1,\n",
    "                                                         subset=\"validation\",\n",
    "                                                         seed = 69420,\n",
    "                                                         batch_size=16,\n",
    "                                                         image_size=(224,224))"
   ]
  },
  {
   "cell_type": "code",
   "execution_count": 5,
   "metadata": {},
   "outputs": [],
   "source": [
    "valid_dataset_unbatch = valid_dataset.unbatch()\n",
    "valid_imgs = list(valid_dataset_unbatch.map(lambda x, y: x))\n",
    "valid_labels= list(valid_dataset_unbatch.map(lambda x, y: y))"
   ]
  },
  {
   "cell_type": "code",
   "execution_count": 6,
   "metadata": {},
   "outputs": [],
   "source": [
    "data_aug = keras.Sequential([\n",
    "    tf.keras.layers.RandomFlip('horizontal'),\n",
    "    tf.keras.layers.RandomRotation(0.2),\n",
    "    tf.keras.layers.RandomBrightness(0.1),\n",
    "    tf.keras.layers.RandomContrast(0.1)\n",
    "])"
   ]
  },
  {
   "cell_type": "code",
   "execution_count": 7,
   "metadata": {},
   "outputs": [],
   "source": [
    "vggface_resnet_base = VGGFace(model='resnet50')"
   ]
  },
  {
   "cell_type": "code",
   "execution_count": 8,
   "metadata": {},
   "outputs": [
    {
     "name": "stdout",
     "output_type": "stream",
     "text": [
      "Inputs: [<KerasTensor: shape=(None, 224, 224, 3) dtype=float32 (created by layer 'input_1')>]\n",
      "Outputs: [<KerasTensor: shape=(None, 8631) dtype=float32 (created by layer 'classifier')>]\n"
     ]
    }
   ],
   "source": [
    "print('Inputs: %s' % vggface_resnet_base.inputs)\n",
    "print('Outputs: %s' % vggface_resnet_base.outputs)"
   ]
  },
  {
   "cell_type": "code",
   "execution_count": 9,
   "metadata": {},
   "outputs": [],
   "source": [
    "from keras.layers import Flatten, Dense, Input"
   ]
  },
  {
   "cell_type": "code",
   "execution_count": 10,
   "metadata": {},
   "outputs": [],
   "source": [
    "vggface_resnet_base.trainable = False\n",
    "last_layer = vggface_resnet_base.get_layer('avg_pool').output\n",
    "\n",
    "inputs = tf.keras.Input(shape=(224,224,3))\n",
    "\n",
    "x = data_aug(inputs)\n",
    "x = vggface_resnet_base(x)\n",
    "x = Flatten(name='flatten')(x)\n",
    "\n",
    "out = Dense(4, name='classifier')(x)\n",
    "custom_model = keras.Model(inputs, out)"
   ]
  },
  {
   "cell_type": "code",
   "execution_count": 11,
   "metadata": {},
   "outputs": [],
   "source": [
    "base_lr = 0.001\n",
    "\n",
    "custom_model.compile(optimizer=tf.keras.optimizers.legacy.Adam(learning_rate=base_lr),\n",
    "                     loss = tf.keras.losses.SparseCategoricalCrossentropy(from_logits=True),\n",
    "                     metrics=['accuracy'])"
   ]
  },
  {
   "cell_type": "code",
   "execution_count": 12,
   "metadata": {},
   "outputs": [
    {
     "name": "stdout",
     "output_type": "stream",
     "text": [
      "Model: \"model\"\n",
      "_________________________________________________________________\n",
      " Layer (type)                Output Shape              Param #   \n",
      "=================================================================\n",
      " input_2 (InputLayer)        [(None, 224, 224, 3)]     0         \n",
      "                                                                 \n",
      " sequential (Sequential)     (None, 224, 224, 3)       0         \n",
      "                                                                 \n",
      " vggface_resnet50 (Functiona  (None, 8631)             41246071  \n",
      " l)                                                              \n",
      "                                                                 \n",
      " flatten (Flatten)           (None, 8631)              0         \n",
      "                                                                 \n",
      " classifier (Dense)          (None, 4)                 34528     \n",
      "                                                                 \n",
      "=================================================================\n",
      "Total params: 41,280,599\n",
      "Trainable params: 34,528\n",
      "Non-trainable params: 41,246,071\n",
      "_________________________________________________________________\n"
     ]
    }
   ],
   "source": [
    "custom_model.summary()"
   ]
  },
  {
   "cell_type": "code",
   "execution_count": 13,
   "metadata": {},
   "outputs": [],
   "source": [
    "early_stopping = tf.keras.callbacks.EarlyStopping(monitor='loss',\n",
    "                                                  patience=5)"
   ]
  },
  {
   "cell_type": "code",
   "execution_count": 14,
   "metadata": {},
   "outputs": [
    {
     "name": "stdout",
     "output_type": "stream",
     "text": [
      "Epoch 1/300\n"
     ]
    },
    {
     "name": "stdout",
     "output_type": "stream",
     "text": [
      "WARNING:tensorflow:Using a while_loop for converting RngReadAndSkip\n",
      "WARNING:tensorflow:Using a while_loop for converting Bitcast\n",
      "WARNING:tensorflow:Using a while_loop for converting Bitcast\n",
      "WARNING:tensorflow:Using a while_loop for converting StatelessRandomUniformV2\n",
      "WARNING:tensorflow:Using a while_loop for converting RngReadAndSkip\n",
      "WARNING:tensorflow:Using a while_loop for converting Bitcast\n",
      "WARNING:tensorflow:Using a while_loop for converting Bitcast\n",
      "WARNING:tensorflow:Using a while_loop for converting StatelessRandomUniformFullIntV2\n",
      "WARNING:tensorflow:Using a while_loop for converting StatelessRandomGetKeyCounter\n",
      "WARNING:tensorflow:Using a while_loop for converting StatelessRandomUniformV2\n",
      "WARNING:tensorflow:Using a while_loop for converting AdjustContrastv2\n",
      "WARNING:tensorflow:Using a while_loop for converting RngReadAndSkip\n",
      "WARNING:tensorflow:Using a while_loop for converting Bitcast\n",
      "WARNING:tensorflow:Using a while_loop for converting Bitcast\n",
      "WARNING:tensorflow:Using a while_loop for converting StatelessRandomUniformV2\n",
      "WARNING:tensorflow:Using a while_loop for converting RngReadAndSkip\n",
      "WARNING:tensorflow:Using a while_loop for converting Bitcast\n",
      "WARNING:tensorflow:Using a while_loop for converting Bitcast\n",
      "WARNING:tensorflow:Using a while_loop for converting StatelessRandomUniformFullIntV2\n",
      "WARNING:tensorflow:Using a while_loop for converting StatelessRandomGetKeyCounter\n",
      "WARNING:tensorflow:Using a while_loop for converting StatelessRandomUniformV2\n",
      "WARNING:tensorflow:Using a while_loop for converting AdjustContrastv2\n"
     ]
    },
    {
     "name": "stderr",
     "output_type": "stream",
     "text": [
      "2023-09-18 10:32:28.656022: I tensorflow/stream_executor/cuda/cuda_dnn.cc:384] Loaded cuDNN version 8600\n",
      "2023-09-18 10:32:28.720008: I tensorflow/core/platform/default/subprocess.cc:304] Start cannot spawn child process: No such file or directory\n",
      "2023-09-18 10:32:28.720442: I tensorflow/core/platform/default/subprocess.cc:304] Start cannot spawn child process: No such file or directory\n",
      "2023-09-18 10:32:28.720464: W tensorflow/stream_executor/gpu/asm_compiler.cc:80] Couldn't get ptxas version string: INTERNAL: Couldn't invoke ptxas --version\n",
      "2023-09-18 10:32:28.720913: I tensorflow/core/platform/default/subprocess.cc:304] Start cannot spawn child process: No such file or directory\n",
      "2023-09-18 10:32:28.720952: W tensorflow/stream_executor/gpu/redzone_allocator.cc:314] INTERNAL: Failed to launch ptxas\n",
      "Relying on driver to perform ptx compilation. \n",
      "Modify $PATH to customize ptxas location.\n",
      "This message will be only logged once.\n"
     ]
    },
    {
     "name": "stdout",
     "output_type": "stream",
     "text": [
      "  4/101 [>.............................] - ETA: 5s - loss: 1.3842 - accuracy: 0.3906"
     ]
    },
    {
     "name": "stderr",
     "output_type": "stream",
     "text": [
      "2023-09-18 10:32:29.186549: I tensorflow/stream_executor/cuda/cuda_blas.cc:1786] TensorFloat-32 will be used for the matrix multiplication. This will only be logged once.\n"
     ]
    },
    {
     "name": "stdout",
     "output_type": "stream",
     "text": [
      "101/101 [==============================] - 11s 70ms/step - loss: 1.3586 - accuracy: 0.4098 - val_loss: 1.3154 - val_accuracy: 0.4246\n",
      "Epoch 2/300\n",
      "101/101 [==============================] - 6s 58ms/step - loss: 1.3130 - accuracy: 0.4117 - val_loss: 1.2607 - val_accuracy: 0.4190\n",
      "Epoch 3/300\n",
      "101/101 [==============================] - 6s 59ms/step - loss: 1.2757 - accuracy: 0.4148 - val_loss: 1.2116 - val_accuracy: 0.4246\n",
      "Epoch 4/300\n",
      "101/101 [==============================] - 6s 58ms/step - loss: 1.2446 - accuracy: 0.4284 - val_loss: 1.1668 - val_accuracy: 0.4358\n",
      "Epoch 5/300\n",
      "101/101 [==============================] - 6s 58ms/step - loss: 1.2174 - accuracy: 0.4433 - val_loss: 1.1260 - val_accuracy: 0.4804\n",
      "Epoch 6/300\n",
      "101/101 [==============================] - 6s 59ms/step - loss: 1.1920 - accuracy: 0.4724 - val_loss: 1.0884 - val_accuracy: 0.5642\n",
      "Epoch 7/300\n",
      "101/101 [==============================] - 6s 58ms/step - loss: 1.1645 - accuracy: 0.5152 - val_loss: 1.0530 - val_accuracy: 0.6648\n",
      "Epoch 8/300\n",
      "101/101 [==============================] - 6s 58ms/step - loss: 1.1427 - accuracy: 0.5580 - val_loss: 1.0193 - val_accuracy: 0.8045\n",
      "Epoch 9/300\n",
      "101/101 [==============================] - 6s 59ms/step - loss: 1.1198 - accuracy: 0.6032 - val_loss: 0.9867 - val_accuracy: 0.8883\n",
      "Epoch 10/300\n",
      "101/101 [==============================] - 6s 58ms/step - loss: 1.0918 - accuracy: 0.6441 - val_loss: 0.9543 - val_accuracy: 0.9330\n",
      "Epoch 11/300\n",
      "101/101 [==============================] - 6s 59ms/step - loss: 1.0751 - accuracy: 0.6776 - val_loss: 0.9245 - val_accuracy: 0.9665\n",
      "Epoch 12/300\n",
      "101/101 [==============================] - 6s 58ms/step - loss: 1.0527 - accuracy: 0.7024 - val_loss: 0.8953 - val_accuracy: 0.9721\n",
      "Epoch 13/300\n",
      "101/101 [==============================] - 6s 59ms/step - loss: 1.0393 - accuracy: 0.6987 - val_loss: 0.8683 - val_accuracy: 0.9888\n",
      "Epoch 14/300\n",
      "101/101 [==============================] - 6s 59ms/step - loss: 1.0170 - accuracy: 0.7266 - val_loss: 0.8408 - val_accuracy: 0.9888\n",
      "Epoch 15/300\n",
      "101/101 [==============================] - 6s 59ms/step - loss: 1.0128 - accuracy: 0.7179 - val_loss: 0.8159 - val_accuracy: 0.9944\n",
      "Epoch 16/300\n",
      "101/101 [==============================] - 6s 59ms/step - loss: 0.9884 - accuracy: 0.7353 - val_loss: 0.7916 - val_accuracy: 0.9944\n",
      "Epoch 17/300\n",
      "101/101 [==============================] - 6s 59ms/step - loss: 0.9736 - accuracy: 0.7347 - val_loss: 0.7684 - val_accuracy: 0.9888\n",
      "Epoch 18/300\n",
      "101/101 [==============================] - 6s 58ms/step - loss: 0.9550 - accuracy: 0.7508 - val_loss: 0.7453 - val_accuracy: 0.9888\n",
      "Epoch 19/300\n",
      "101/101 [==============================] - 6s 59ms/step - loss: 0.9396 - accuracy: 0.7489 - val_loss: 0.7232 - val_accuracy: 0.9888\n",
      "Epoch 20/300\n",
      "101/101 [==============================] - 6s 59ms/step - loss: 0.9135 - accuracy: 0.7657 - val_loss: 0.7013 - val_accuracy: 0.9888\n",
      "Epoch 21/300\n",
      "101/101 [==============================] - 6s 59ms/step - loss: 0.9122 - accuracy: 0.7514 - val_loss: 0.6812 - val_accuracy: 0.9888\n",
      "Epoch 22/300\n",
      "101/101 [==============================] - 6s 59ms/step - loss: 0.8984 - accuracy: 0.7551 - val_loss: 0.6617 - val_accuracy: 0.9832\n",
      "Epoch 23/300\n",
      "101/101 [==============================] - 6s 59ms/step - loss: 0.8769 - accuracy: 0.7712 - val_loss: 0.6416 - val_accuracy: 0.9832\n",
      "Epoch 24/300\n",
      "101/101 [==============================] - 6s 59ms/step - loss: 0.8625 - accuracy: 0.7688 - val_loss: 0.6232 - val_accuracy: 0.9832\n",
      "Epoch 25/300\n",
      "101/101 [==============================] - 6s 59ms/step - loss: 0.8568 - accuracy: 0.7632 - val_loss: 0.6051 - val_accuracy: 0.9832\n",
      "Epoch 26/300\n",
      "101/101 [==============================] - 6s 59ms/step - loss: 0.8319 - accuracy: 0.7737 - val_loss: 0.5873 - val_accuracy: 0.9832\n",
      "Epoch 27/300\n",
      "101/101 [==============================] - 6s 59ms/step - loss: 0.8296 - accuracy: 0.7688 - val_loss: 0.5707 - val_accuracy: 0.9832\n",
      "Epoch 28/300\n",
      "101/101 [==============================] - 6s 59ms/step - loss: 0.8113 - accuracy: 0.7805 - val_loss: 0.5542 - val_accuracy: 0.9832\n",
      "Epoch 29/300\n",
      "101/101 [==============================] - 6s 59ms/step - loss: 0.8039 - accuracy: 0.7731 - val_loss: 0.5389 - val_accuracy: 0.9832\n",
      "Epoch 30/300\n",
      "101/101 [==============================] - 6s 59ms/step - loss: 0.7943 - accuracy: 0.7756 - val_loss: 0.5242 - val_accuracy: 0.9832\n",
      "Epoch 31/300\n",
      "101/101 [==============================] - 6s 59ms/step - loss: 0.7838 - accuracy: 0.7787 - val_loss: 0.5096 - val_accuracy: 0.9832\n",
      "Epoch 32/300\n",
      "101/101 [==============================] - 6s 59ms/step - loss: 0.7525 - accuracy: 0.7936 - val_loss: 0.4948 - val_accuracy: 0.9832\n",
      "Epoch 33/300\n",
      "101/101 [==============================] - 6s 59ms/step - loss: 0.7607 - accuracy: 0.7843 - val_loss: 0.4812 - val_accuracy: 0.9832\n",
      "Epoch 34/300\n",
      "101/101 [==============================] - 6s 59ms/step - loss: 0.7455 - accuracy: 0.7867 - val_loss: 0.4679 - val_accuracy: 0.9832\n",
      "Epoch 35/300\n",
      "101/101 [==============================] - 6s 59ms/step - loss: 0.7479 - accuracy: 0.7799 - val_loss: 0.4553 - val_accuracy: 0.9832\n",
      "Epoch 36/300\n",
      "101/101 [==============================] - 6s 59ms/step - loss: 0.7155 - accuracy: 0.7954 - val_loss: 0.4422 - val_accuracy: 0.9832\n",
      "Epoch 37/300\n",
      "101/101 [==============================] - 6s 59ms/step - loss: 0.7119 - accuracy: 0.7892 - val_loss: 0.4310 - val_accuracy: 0.9832\n",
      "Epoch 38/300\n",
      "101/101 [==============================] - 6s 59ms/step - loss: 0.7154 - accuracy: 0.7855 - val_loss: 0.4190 - val_accuracy: 0.9832\n",
      "Epoch 39/300\n",
      "101/101 [==============================] - 6s 59ms/step - loss: 0.7115 - accuracy: 0.7836 - val_loss: 0.4080 - val_accuracy: 0.9832\n",
      "Epoch 40/300\n",
      "101/101 [==============================] - 6s 58ms/step - loss: 0.6925 - accuracy: 0.7874 - val_loss: 0.3978 - val_accuracy: 0.9832\n",
      "Epoch 41/300\n",
      "101/101 [==============================] - 6s 59ms/step - loss: 0.6875 - accuracy: 0.7948 - val_loss: 0.3873 - val_accuracy: 0.9832\n",
      "Epoch 42/300\n",
      "101/101 [==============================] - 6s 58ms/step - loss: 0.6570 - accuracy: 0.8060 - val_loss: 0.3763 - val_accuracy: 0.9832\n",
      "Epoch 43/300\n",
      "101/101 [==============================] - 6s 59ms/step - loss: 0.6729 - accuracy: 0.7923 - val_loss: 0.3670 - val_accuracy: 0.9832\n",
      "Epoch 44/300\n",
      "101/101 [==============================] - 6s 59ms/step - loss: 0.6628 - accuracy: 0.7960 - val_loss: 0.3577 - val_accuracy: 0.9832\n",
      "Epoch 45/300\n",
      "101/101 [==============================] - 6s 59ms/step - loss: 0.6658 - accuracy: 0.7917 - val_loss: 0.3489 - val_accuracy: 0.9888\n",
      "Epoch 46/300\n",
      "101/101 [==============================] - 6s 59ms/step - loss: 0.6431 - accuracy: 0.7960 - val_loss: 0.3399 - val_accuracy: 0.9888\n",
      "Epoch 47/300\n",
      "101/101 [==============================] - 6s 58ms/step - loss: 0.6341 - accuracy: 0.7892 - val_loss: 0.3322 - val_accuracy: 0.9888\n",
      "Epoch 48/300\n",
      "101/101 [==============================] - 6s 59ms/step - loss: 0.6233 - accuracy: 0.8016 - val_loss: 0.3234 - val_accuracy: 0.9888\n",
      "Epoch 49/300\n",
      "101/101 [==============================] - 6s 59ms/step - loss: 0.6305 - accuracy: 0.7973 - val_loss: 0.3152 - val_accuracy: 0.9888\n",
      "Epoch 50/300\n",
      "101/101 [==============================] - 6s 58ms/step - loss: 0.6254 - accuracy: 0.7954 - val_loss: 0.3081 - val_accuracy: 0.9888\n",
      "Epoch 51/300\n",
      "101/101 [==============================] - 6s 59ms/step - loss: 0.6222 - accuracy: 0.7979 - val_loss: 0.3018 - val_accuracy: 0.9888\n",
      "Epoch 52/300\n",
      "101/101 [==============================] - 6s 59ms/step - loss: 0.6079 - accuracy: 0.8016 - val_loss: 0.2948 - val_accuracy: 0.9888\n",
      "Epoch 53/300\n",
      "101/101 [==============================] - 6s 59ms/step - loss: 0.6099 - accuracy: 0.7936 - val_loss: 0.2885 - val_accuracy: 0.9888\n",
      "Epoch 54/300\n",
      "101/101 [==============================] - 6s 59ms/step - loss: 0.6020 - accuracy: 0.7929 - val_loss: 0.2822 - val_accuracy: 0.9888\n",
      "Epoch 55/300\n",
      "101/101 [==============================] - 6s 59ms/step - loss: 0.5956 - accuracy: 0.7923 - val_loss: 0.2760 - val_accuracy: 0.9888\n",
      "Epoch 56/300\n",
      "101/101 [==============================] - 6s 59ms/step - loss: 0.6107 - accuracy: 0.7793 - val_loss: 0.2709 - val_accuracy: 0.9888\n",
      "Epoch 57/300\n",
      "101/101 [==============================] - 6s 58ms/step - loss: 0.5934 - accuracy: 0.7936 - val_loss: 0.2649 - val_accuracy: 0.9888\n",
      "Epoch 58/300\n",
      "101/101 [==============================] - 6s 58ms/step - loss: 0.5988 - accuracy: 0.7898 - val_loss: 0.2596 - val_accuracy: 0.9888\n",
      "Epoch 59/300\n",
      "101/101 [==============================] - 6s 59ms/step - loss: 0.5679 - accuracy: 0.8140 - val_loss: 0.2533 - val_accuracy: 0.9888\n",
      "Epoch 60/300\n",
      "101/101 [==============================] - 6s 58ms/step - loss: 0.5931 - accuracy: 0.7979 - val_loss: 0.2478 - val_accuracy: 0.9888\n",
      "Epoch 61/300\n",
      "101/101 [==============================] - 6s 59ms/step - loss: 0.5655 - accuracy: 0.8029 - val_loss: 0.2425 - val_accuracy: 0.9888\n",
      "Epoch 62/300\n",
      "101/101 [==============================] - 6s 59ms/step - loss: 0.5790 - accuracy: 0.7836 - val_loss: 0.2384 - val_accuracy: 0.9888\n",
      "Epoch 63/300\n",
      "101/101 [==============================] - 6s 58ms/step - loss: 0.5572 - accuracy: 0.8041 - val_loss: 0.2331 - val_accuracy: 0.9888\n",
      "Epoch 64/300\n",
      "101/101 [==============================] - 6s 59ms/step - loss: 0.5652 - accuracy: 0.7936 - val_loss: 0.2283 - val_accuracy: 0.9888\n",
      "Epoch 65/300\n",
      "101/101 [==============================] - 6s 58ms/step - loss: 0.5419 - accuracy: 0.8016 - val_loss: 0.2241 - val_accuracy: 0.9888\n",
      "Epoch 66/300\n",
      "101/101 [==============================] - 6s 58ms/step - loss: 0.5471 - accuracy: 0.8091 - val_loss: 0.2193 - val_accuracy: 0.9888\n",
      "Epoch 67/300\n",
      "101/101 [==============================] - 6s 59ms/step - loss: 0.5285 - accuracy: 0.8153 - val_loss: 0.2147 - val_accuracy: 0.9888\n",
      "Epoch 68/300\n",
      "101/101 [==============================] - 6s 58ms/step - loss: 0.5474 - accuracy: 0.8066 - val_loss: 0.2105 - val_accuracy: 0.9888\n",
      "Epoch 69/300\n",
      "101/101 [==============================] - 6s 59ms/step - loss: 0.5118 - accuracy: 0.8208 - val_loss: 0.2057 - val_accuracy: 0.9888\n",
      "Epoch 70/300\n",
      "101/101 [==============================] - 6s 58ms/step - loss: 0.5353 - accuracy: 0.7967 - val_loss: 0.2029 - val_accuracy: 0.9888\n",
      "Epoch 71/300\n",
      "101/101 [==============================] - 6s 59ms/step - loss: 0.5338 - accuracy: 0.7973 - val_loss: 0.1990 - val_accuracy: 0.9888\n",
      "Epoch 72/300\n",
      "101/101 [==============================] - 6s 59ms/step - loss: 0.5500 - accuracy: 0.7874 - val_loss: 0.1963 - val_accuracy: 0.9888\n",
      "Epoch 73/300\n",
      "101/101 [==============================] - 6s 58ms/step - loss: 0.5085 - accuracy: 0.8159 - val_loss: 0.1920 - val_accuracy: 0.9888\n",
      "Epoch 74/300\n",
      "101/101 [==============================] - 6s 59ms/step - loss: 0.5154 - accuracy: 0.8109 - val_loss: 0.1876 - val_accuracy: 0.9888\n",
      "Epoch 75/300\n",
      "101/101 [==============================] - 6s 59ms/step - loss: 0.5081 - accuracy: 0.8103 - val_loss: 0.1843 - val_accuracy: 0.9888\n",
      "Epoch 76/300\n",
      "101/101 [==============================] - 6s 58ms/step - loss: 0.5106 - accuracy: 0.8084 - val_loss: 0.1813 - val_accuracy: 0.9888\n",
      "Epoch 77/300\n",
      "101/101 [==============================] - 6s 59ms/step - loss: 0.4887 - accuracy: 0.8165 - val_loss: 0.1784 - val_accuracy: 0.9888\n",
      "Epoch 78/300\n",
      "101/101 [==============================] - 6s 58ms/step - loss: 0.5012 - accuracy: 0.8035 - val_loss: 0.1750 - val_accuracy: 0.9888\n",
      "Epoch 79/300\n",
      "101/101 [==============================] - 6s 59ms/step - loss: 0.5259 - accuracy: 0.7973 - val_loss: 0.1720 - val_accuracy: 0.9888\n",
      "Epoch 80/300\n",
      "101/101 [==============================] - 6s 58ms/step - loss: 0.5091 - accuracy: 0.8010 - val_loss: 0.1699 - val_accuracy: 0.9888\n",
      "Epoch 81/300\n",
      "101/101 [==============================] - 6s 59ms/step - loss: 0.5017 - accuracy: 0.8103 - val_loss: 0.1671 - val_accuracy: 0.9888\n",
      "Epoch 82/300\n",
      "101/101 [==============================] - 6s 59ms/step - loss: 0.4941 - accuracy: 0.8122 - val_loss: 0.1639 - val_accuracy: 0.9888\n"
     ]
    }
   ],
   "source": [
    "his = custom_model.fit(train_dataset, validation_data=valid_dataset, \n",
    "                       epochs=300, callbacks=[early_stopping])"
   ]
  },
  {
   "cell_type": "code",
   "execution_count": 15,
   "metadata": {},
   "outputs": [
    {
     "data": {
      "text/plain": [
       "Text(0, 0.5, 'Loss')"
      ]
     },
     "execution_count": 15,
     "metadata": {},
     "output_type": "execute_result"
    },
    {
     "data": {
      "image/png": "[encoded data removed]",
      "text/plain": [
       "<Figure size 640x480 with 1 Axes>"
      ]
     },
     "metadata": {},
     "output_type": "display_data"
    }
   ],
   "source": [
    "plt.figure()\n",
    "plt.plot(his.history['loss'])\n",
    "plt.plot(his.history['val_loss'])\n",
    "plt.title('Training Loss')\n",
    "plt.xlabel('Epoch #')\n",
    "plt.ylabel('Loss')"
   ]
  },
  {
   "cell_type": "code",
   "execution_count": 16,
   "metadata": {},
   "outputs": [
    {
     "data": {
      "text/plain": [
       "Text(0, 0.5, 'Accuracy')"
      ]
     },
     "execution_count": 16,
     "metadata": {},
     "output_type": "execute_result"
    },
    {
     "data": {
      "image/png": "[encoded data removed]",
      "text/plain": [
       "<Figure size 640x480 with 1 Axes>"
      ]
     },
     "metadata": {},
     "output_type": "display_data"
    }
   ],
   "source": [
    "plt.figure()\n",
    "plt.plot(his.history['accuracy'])\n",
    "plt.plot(his.history['val_accuracy'])\n",
    "plt.title('Training Accuracy')\n",
    "plt.xlabel('Epoch #')\n",
    "plt.ylabel('Accuracy')"
   ]
  },
  {
   "cell_type": "code",
   "execution_count": 17,
   "metadata": {},
   "outputs": [],
   "source": [
    "prob_model = keras.Sequential([custom_model,\n",
    "                               tf.keras.layers.Softmax()\n",
    "                               ])"
   ]
  },
  {
   "cell_type": "code",
   "execution_count": 18,
   "metadata": {},
   "outputs": [
    {
     "name": "stdout",
     "output_type": "stream",
     "text": [
      "WARNING:tensorflow:Compiled the loaded model, but the compiled metrics have yet to be built. `model.compile_metrics` will be empty until you train or evaluate the model.\n",
      "WARNING:tensorflow:Using a while_loop for converting RngReadAndSkip\n",
      "WARNING:tensorflow:Using a while_loop for converting Bitcast\n",
      "WARNING:tensorflow:Using a while_loop for converting Bitcast\n",
      "WARNING:tensorflow:Using a while_loop for converting StatelessRandomUniformFullIntV2\n",
      "WARNING:tensorflow:Using a while_loop for converting StatelessRandomGetKeyCounter\n",
      "WARNING:tensorflow:Using a while_loop for converting StatelessRandomUniformV2\n",
      "WARNING:tensorflow:Using a while_loop for converting AdjustContrastv2\n",
      "WARNING:tensorflow:Using a while_loop for converting RngReadAndSkip\n",
      "WARNING:tensorflow:Using a while_loop for converting Bitcast\n",
      "WARNING:tensorflow:Using a while_loop for converting Bitcast\n",
      "WARNING:tensorflow:Using a while_loop for converting StatelessRandomUniformV2\n",
      "WARNING:tensorflow:Using a while_loop for converting RngReadAndSkip\n",
      "WARNING:tensorflow:Using a while_loop for converting Bitcast\n",
      "WARNING:tensorflow:Using a while_loop for converting Bitcast\n",
      "WARNING:tensorflow:Using a while_loop for converting StatelessRandomUniformV2\n",
      "WARNING:tensorflow:Using a while_loop for converting RngReadAndSkip\n",
      "WARNING:tensorflow:Using a while_loop for converting Bitcast\n",
      "WARNING:tensorflow:Using a while_loop for converting Bitcast\n",
      "WARNING:tensorflow:Using a while_loop for converting StatelessRandomUniformFullIntV2\n",
      "WARNING:tensorflow:Using a while_loop for converting StatelessRandomGetKeyCounter\n",
      "WARNING:tensorflow:Using a while_loop for converting StatelessRandomUniformV2\n",
      "WARNING:tensorflow:Using a while_loop for converting AdjustContrastv2\n",
      "WARNING:tensorflow:Using a while_loop for converting RngReadAndSkip\n",
      "WARNING:tensorflow:Using a while_loop for converting Bitcast\n",
      "WARNING:tensorflow:Using a while_loop for converting Bitcast\n",
      "WARNING:tensorflow:Using a while_loop for converting StatelessRandomUniformV2\n",
      "WARNING:tensorflow:Using a while_loop for converting RngReadAndSkip\n",
      "WARNING:tensorflow:Using a while_loop for converting Bitcast\n",
      "WARNING:tensorflow:Using a while_loop for converting Bitcast\n",
      "WARNING:tensorflow:Using a while_loop for converting StatelessRandomUniformFullIntV2\n",
      "WARNING:tensorflow:Using a while_loop for converting StatelessRandomGetKeyCounter\n",
      "WARNING:tensorflow:Using a while_loop for converting StatelessRandomUniformV2\n",
      "WARNING:tensorflow:Using a while_loop for converting AdjustContrastv2\n",
      "WARNING:tensorflow:Using a while_loop for converting RngReadAndSkip\n",
      "WARNING:tensorflow:Using a while_loop for converting Bitcast\n",
      "WARNING:tensorflow:Using a while_loop for converting Bitcast\n",
      "WARNING:tensorflow:Using a while_loop for converting StatelessRandomUniformV2\n",
      "WARNING:tensorflow:Using a while_loop for converting RngReadAndSkip\n",
      "WARNING:tensorflow:Using a while_loop for converting Bitcast\n",
      "WARNING:tensorflow:Using a while_loop for converting Bitcast\n",
      "WARNING:tensorflow:Using a while_loop for converting StatelessRandomUniformFullIntV2\n",
      "WARNING:tensorflow:Using a while_loop for converting StatelessRandomGetKeyCounter\n",
      "WARNING:tensorflow:Using a while_loop for converting StatelessRandomUniformV2\n",
      "WARNING:tensorflow:Using a while_loop for converting AdjustContrastv2\n",
      "WARNING:tensorflow:Using a while_loop for converting RngReadAndSkip\n",
      "WARNING:tensorflow:Using a while_loop for converting Bitcast\n",
      "WARNING:tensorflow:Using a while_loop for converting Bitcast\n",
      "WARNING:tensorflow:Using a while_loop for converting StatelessRandomUniformV2\n",
      "WARNING:tensorflow:Using a while_loop for converting RngReadAndSkip\n",
      "WARNING:tensorflow:Using a while_loop for converting Bitcast\n",
      "WARNING:tensorflow:Using a while_loop for converting Bitcast\n",
      "WARNING:tensorflow:Using a while_loop for converting StatelessRandomUniformFullIntV2\n",
      "WARNING:tensorflow:Using a while_loop for converting StatelessRandomGetKeyCounter\n",
      "WARNING:tensorflow:Using a while_loop for converting StatelessRandomUniformV2\n",
      "WARNING:tensorflow:Using a while_loop for converting AdjustContrastv2\n"
     ]
    },
    {
     "name": "stderr",
     "output_type": "stream",
     "text": [
      "WARNING:absl:Found untraced functions such as _jit_compiled_convolution_op, _jit_compiled_convolution_op, _jit_compiled_convolution_op, _jit_compiled_convolution_op, _jit_compiled_convolution_op while saving (showing 5 of 53). These functions will not be directly callable after loading.\n"
     ]
    },
    {
     "name": "stdout",
     "output_type": "stream",
     "text": [
      "INFO:tensorflow:Assets written to: model/model_2023-09-18 10:40:38.841441.tf/assets\n"
     ]
    },
    {
     "name": "stderr",
     "output_type": "stream",
     "text": [
      "INFO:tensorflow:Assets written to: model/model_2023-09-18 10:40:38.841441.tf/assets\n"
     ]
    }
   ],
   "source": [
    "time_stamp = datetime.datetime.now()\n",
    "time_stamp.strftime(\"%d_%b_%y_%H_%M_%S\")\n",
    "prob_model.save(f\"model/model_{time_stamp}.tf\")"
   ]
  },
  {
   "cell_type": "code",
   "execution_count": 94,
   "metadata": {},
   "outputs": [
    {
     "name": "stdout",
     "output_type": "stream",
     "text": [
      "WARNING:tensorflow:No training configuration found in save file, so the model was *not* compiled. Compile it manually.\n"
     ]
    }
   ],
   "source": [
    "model = load_model('model/model_2023-09-18 10:40:38.841441.tf')"
   ]
  }
 ],
 "metadata": {
  "kernelspec": {
   "display_name": "ML",
   "language": "python",
   "name": "python3"
  },
  "language_info": {
   "codemirror_mode": {
    "name": "ipython",
    "version": 3
   },
   "file_extension": ".py",
   "mimetype": "text/x-python",
   "name": "python",
   "nbconvert_exporter": "python",
   "pygments_lexer": "ipython3",
   "version": "3.9.18"
  },
  "orig_nbformat": 4
 },
 "nbformat": 4,
 "nbformat_minor": 2
}
