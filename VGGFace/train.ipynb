{
 "cells": [
  {
   "cell_type": "code",
   "execution_count": 1,
   "metadata": {},
   "outputs": [],
   "source": [
    "import tensorflow as tf\n",
    "import keras\n",
    "from keras_vggface.vggface import VGGFace\n",
    "from matplotlib import pyplot as plt\n",
    "import datetime\n",
    "import cv2\n",
    "import PIL\n",
    "from tensorflow.keras.models import load_model\n",
    "import numpy as np"
   ]
  },
  {
   "cell_type": "markdown",
   "metadata": {},
   "source": [
    "#### if encounter error \"ModuleNotFoundError: No module named 'keras.engine.topology'\"\n",
    "\n",
    "locate keras_vggface/models.py for example ../../../miniconda3/envs/ML/lib/python3.9/site-packages/keras_vggface/models.py\n",
    "\n",
    "changing the import from\n",
    "\n",
    "from keras.engine.topology import get_source_inputs\n",
    "\n",
    "to\n",
    "\n",
    "from keras.utils.layer_utils import get_source_inputs"
   ]
  },
  {
   "cell_type": "markdown",
   "metadata": {},
   "source": [
    "#### GPU Check"
   ]
  },
  {
   "cell_type": "code",
   "execution_count": null,
   "metadata": {},
   "outputs": [],
   "source": []
  },
  {
   "cell_type": "code",
   "execution_count": 2,
   "metadata": {},
   "outputs": [
    {
     "data": {
      "text/plain": [
       "[PhysicalDevice(name='/physical_device:GPU:0', device_type='GPU')]"
      ]
     },
     "execution_count": 2,
     "metadata": {},
     "output_type": "execute_result"
    }
   ],
   "source": [
    "tf.config.list_physical_devices('GPU')"
   ]
  },
  {
   "cell_type": "code",
   "execution_count": 4,
   "metadata": {},
   "outputs": [
    {
     "name": "stdout",
     "output_type": "stream",
     "text": [
      "Found 570 files belonging to 2 classes.\n",
      "Using 513 files for training.\n"
     ]
    }
   ],
   "source": [
    "train_dataset = keras.utils.image_dataset_from_directory('datasets_VGG',\n",
    "                                                         validation_split = 0.1,\n",
    "                                                         subset=\"training\",\n",
    "                                                         seed = 69420,\n",
    "                                                         batch_size=16,\n",
    "                                                         image_size=(224,224))"
   ]
  },
  {
   "cell_type": "code",
   "execution_count": 5,
   "metadata": {},
   "outputs": [
    {
     "name": "stdout",
     "output_type": "stream",
     "text": [
      "Found 570 files belonging to 2 classes.\n",
      "Using 57 files for validation.\n"
     ]
    }
   ],
   "source": [
    "valid_dataset = keras.utils.image_dataset_from_directory('datasets_VGG',\n",
    "                                                         validation_split = 0.1,\n",
    "                                                         subset=\"validation\",\n",
    "                                                         seed = 69420,\n",
    "                                                         batch_size=16,\n",
    "                                                         image_size=(224,224))"
   ]
  },
  {
   "cell_type": "code",
   "execution_count": 6,
   "metadata": {},
   "outputs": [],
   "source": [
    "valid_dataset_unbatch = valid_dataset.unbatch()\n",
    "valid_imgs = list(valid_dataset_unbatch.map(lambda x, y: x))\n",
    "valid_labels= list(valid_dataset_unbatch.map(lambda x, y: y))"
   ]
  },
  {
   "cell_type": "code",
   "execution_count": 7,
   "metadata": {},
   "outputs": [],
   "source": [
    "data_aug = keras.Sequential([\n",
    "    tf.keras.layers.RandomFlip('horizontal'),\n",
    "    tf.keras.layers.RandomRotation(0.2),\n",
    "    tf.keras.layers.RandomBrightness(0.1),\n",
    "    tf.keras.layers.RandomContrast(0.1)\n",
    "])"
   ]
  },
  {
   "cell_type": "code",
   "execution_count": 8,
   "metadata": {},
   "outputs": [],
   "source": [
    "vggface_resnet_base = VGGFace(model='resnet50')"
   ]
  },
  {
   "cell_type": "code",
   "execution_count": 9,
   "metadata": {},
   "outputs": [
    {
     "name": "stdout",
     "output_type": "stream",
     "text": [
      "Inputs: [<KerasTensor: shape=(None, 224, 224, 3) dtype=float32 (created by layer 'input_1')>]\n",
      "Outputs: [<KerasTensor: shape=(None, 8631) dtype=float32 (created by layer 'classifier')>]\n"
     ]
    }
   ],
   "source": [
    "print('Inputs: %s' % vggface_resnet_base.inputs)\n",
    "print('Outputs: %s' % vggface_resnet_base.outputs)"
   ]
  },
  {
   "cell_type": "code",
   "execution_count": 10,
   "metadata": {},
   "outputs": [],
   "source": [
    "from keras.layers import Flatten, Dense, Input"
   ]
  },
  {
   "cell_type": "code",
   "execution_count": 11,
   "metadata": {},
   "outputs": [],
   "source": [
    "vggface_resnet_base.trainable = False\n",
    "last_layer = vggface_resnet_base.get_layer('avg_pool').output\n",
    "\n",
    "inputs = tf.keras.Input(shape=(224,224,3))\n",
    "\n",
    "x = data_aug(inputs)\n",
    "x = vggface_resnet_base(x)\n",
    "x = Flatten(name='flatten')(x)\n",
    "\n",
    "out = Dense(4, name='classifier')(x)\n",
    "custom_model = keras.Model(inputs, out)"
   ]
  },
  {
   "cell_type": "code",
   "execution_count": 12,
   "metadata": {},
   "outputs": [],
   "source": [
    "base_lr = 0.001\n",
    "\n",
    "custom_model.compile(optimizer=tf.keras.optimizers.legacy.Adam(learning_rate=base_lr),\n",
    "                     loss = tf.keras.losses.SparseCategoricalCrossentropy(from_logits=True),\n",
    "                     metrics=['accuracy'])"
   ]
  },
  {
   "cell_type": "code",
   "execution_count": 13,
   "metadata": {},
   "outputs": [
    {
     "name": "stdout",
     "output_type": "stream",
     "text": [
      "Model: \"model\"\n",
      "_________________________________________________________________\n",
      " Layer (type)                Output Shape              Param #   \n",
      "=================================================================\n",
      " input_2 (InputLayer)        [(None, 224, 224, 3)]     0         \n",
      "                                                                 \n",
      " sequential (Sequential)     (None, 224, 224, 3)       0         \n",
      "                                                                 \n",
      " vggface_resnet50 (Functiona  (None, 8631)             41246071  \n",
      " l)                                                              \n",
      "                                                                 \n",
      " flatten (Flatten)           (None, 8631)              0         \n",
      "                                                                 \n",
      " classifier (Dense)          (None, 4)                 34528     \n",
      "                                                                 \n",
      "=================================================================\n",
      "Total params: 41,280,599\n",
      "Trainable params: 34,528\n",
      "Non-trainable params: 41,246,071\n",
      "_________________________________________________________________\n"
     ]
    }
   ],
   "source": [
    "custom_model.summary()"
   ]
  },
  {
   "cell_type": "code",
   "execution_count": 14,
   "metadata": {},
   "outputs": [],
   "source": [
    "early_stopping = tf.keras.callbacks.EarlyStopping(monitor='loss',\n",
    "                                                  patience=5)"
   ]
  },
  {
   "cell_type": "code",
   "execution_count": 15,
   "metadata": {},
   "outputs": [
    {
     "name": "stdout",
     "output_type": "stream",
     "text": [
      "Epoch 1/300\n",
      "WARNING:tensorflow:Using a while_loop for converting RngReadAndSkip cause there is no registered converter for this op.\n",
      "WARNING:tensorflow:Using a while_loop for converting Bitcast cause there is no registered converter for this op.\n",
      "WARNING:tensorflow:Using a while_loop for converting Bitcast cause there is no registered converter for this op.\n",
      "WARNING:tensorflow:Using a while_loop for converting StatelessRandomUniformV2 cause there is no registered converter for this op.\n",
      "WARNING:tensorflow:Using a while_loop for converting ImageProjectiveTransformV3 cause there is no registered converter for this op.\n",
      "WARNING:tensorflow:Using a while_loop for converting RngReadAndSkip cause there is no registered converter for this op.\n",
      "WARNING:tensorflow:Using a while_loop for converting Bitcast cause there is no registered converter for this op.\n",
      "WARNING:tensorflow:Using a while_loop for converting Bitcast cause there is no registered converter for this op.\n",
      "WARNING:tensorflow:Using a while_loop for converting StatelessRandomUniformV2 cause there is no registered converter for this op.\n",
      "WARNING:tensorflow:Using a while_loop for converting RngReadAndSkip cause there is no registered converter for this op.\n",
      "WARNING:tensorflow:Using a while_loop for converting Bitcast cause there is no registered converter for this op.\n",
      "WARNING:tensorflow:Using a while_loop for converting Bitcast cause there is no registered converter for this op.\n",
      "WARNING:tensorflow:Using a while_loop for converting StatelessRandomUniformFullIntV2 cause there is no registered converter for this op.\n",
      "WARNING:tensorflow:Using a while_loop for converting StatelessRandomGetKeyCounter cause there is no registered converter for this op.\n",
      "WARNING:tensorflow:Using a while_loop for converting StatelessRandomUniformV2 cause there is no registered converter for this op.\n",
      "WARNING:tensorflow:Using a while_loop for converting AdjustContrastv2 cause Input \"contrast_factor\" of op 'AdjustContrastv2' expected to be loop invariant.\n",
      "WARNING:tensorflow:Using a while_loop for converting RngReadAndSkip cause there is no registered converter for this op.\n",
      "WARNING:tensorflow:Using a while_loop for converting Bitcast cause there is no registered converter for this op.\n",
      "WARNING:tensorflow:Using a while_loop for converting Bitcast cause there is no registered converter for this op.\n",
      "WARNING:tensorflow:Using a while_loop for converting StatelessRandomUniformV2 cause there is no registered converter for this op.\n",
      "WARNING:tensorflow:Using a while_loop for converting ImageProjectiveTransformV3 cause there is no registered converter for this op.\n",
      "WARNING:tensorflow:Using a while_loop for converting RngReadAndSkip cause there is no registered converter for this op.\n",
      "WARNING:tensorflow:Using a while_loop for converting Bitcast cause there is no registered converter for this op.\n",
      "WARNING:tensorflow:Using a while_loop for converting Bitcast cause there is no registered converter for this op.\n",
      "WARNING:tensorflow:Using a while_loop for converting StatelessRandomUniformV2 cause there is no registered converter for this op.\n",
      "WARNING:tensorflow:Using a while_loop for converting RngReadAndSkip cause there is no registered converter for this op.\n",
      "WARNING:tensorflow:Using a while_loop for converting Bitcast cause there is no registered converter for this op.\n",
      "WARNING:tensorflow:Using a while_loop for converting Bitcast cause there is no registered converter for this op.\n",
      "WARNING:tensorflow:Using a while_loop for converting StatelessRandomUniformFullIntV2 cause there is no registered converter for this op.\n",
      "WARNING:tensorflow:Using a while_loop for converting StatelessRandomGetKeyCounter cause there is no registered converter for this op.\n",
      "WARNING:tensorflow:Using a while_loop for converting StatelessRandomUniformV2 cause there is no registered converter for this op.\n",
      "WARNING:tensorflow:Using a while_loop for converting AdjustContrastv2 cause Input \"contrast_factor\" of op 'AdjustContrastv2' expected to be loop invariant.\n",
      "33/33 [==============================] - 38s 970ms/step - loss: 1.3582 - accuracy: 0.6998 - val_loss: 1.3235 - val_accuracy: 1.0000\n",
      "Epoch 2/300\n",
      "33/33 [==============================] - 24s 732ms/step - loss: 1.2999 - accuracy: 0.8655 - val_loss: 1.2636 - val_accuracy: 1.0000\n",
      "Epoch 3/300\n",
      "33/33 [==============================] - 27s 820ms/step - loss: 1.2472 - accuracy: 0.8421 - val_loss: 1.2093 - val_accuracy: 1.0000\n",
      "Epoch 4/300\n",
      "33/33 [==============================] - 23s 692ms/step - loss: 1.1978 - accuracy: 0.8402 - val_loss: 1.1572 - val_accuracy: 1.0000\n",
      "Epoch 5/300\n",
      "33/33 [==============================] - 23s 695ms/step - loss: 1.1520 - accuracy: 0.8635 - val_loss: 1.1081 - val_accuracy: 1.0000\n",
      "Epoch 6/300\n",
      "33/33 [==============================] - 24s 711ms/step - loss: 1.1077 - accuracy: 0.8694 - val_loss: 1.0616 - val_accuracy: 1.0000\n",
      "Epoch 7/300\n",
      "33/33 [==============================] - 30s 925ms/step - loss: 1.0697 - accuracy: 0.8577 - val_loss: 1.0179 - val_accuracy: 1.0000\n",
      "Epoch 8/300\n",
      "33/33 [==============================] - 24s 710ms/step - loss: 1.0351 - accuracy: 0.8441 - val_loss: 0.9776 - val_accuracy: 1.0000\n",
      "Epoch 9/300\n",
      "33/33 [==============================] - 24s 713ms/step - loss: 0.9965 - accuracy: 0.8733 - val_loss: 0.9394 - val_accuracy: 1.0000\n",
      "Epoch 10/300\n",
      "33/33 [==============================] - 24s 730ms/step - loss: 0.9654 - accuracy: 0.8635 - val_loss: 0.9033 - val_accuracy: 1.0000\n",
      "Epoch 11/300\n",
      "33/33 [==============================] - 24s 716ms/step - loss: 0.9382 - accuracy: 0.8343 - val_loss: 0.8695 - val_accuracy: 1.0000\n",
      "Epoch 12/300\n",
      "33/33 [==============================] - 23s 698ms/step - loss: 0.9063 - accuracy: 0.8538 - val_loss: 0.8373 - val_accuracy: 1.0000\n",
      "Epoch 13/300\n",
      "33/33 [==============================] - 22s 657ms/step - loss: 0.8831 - accuracy: 0.8519 - val_loss: 0.8075 - val_accuracy: 1.0000\n",
      "Epoch 14/300\n",
      "33/33 [==============================] - 22s 673ms/step - loss: 0.8668 - accuracy: 0.8343 - val_loss: 0.7808 - val_accuracy: 1.0000\n",
      "Epoch 15/300\n",
      "33/33 [==============================] - 22s 663ms/step - loss: 0.8373 - accuracy: 0.8519 - val_loss: 0.7543 - val_accuracy: 1.0000\n",
      "Epoch 16/300\n",
      "33/33 [==============================] - 23s 683ms/step - loss: 0.8173 - accuracy: 0.8363 - val_loss: 0.7295 - val_accuracy: 1.0000\n",
      "Epoch 17/300\n",
      "33/33 [==============================] - 22s 659ms/step - loss: 0.7932 - accuracy: 0.8616 - val_loss: 0.7051 - val_accuracy: 1.0000\n",
      "Epoch 18/300\n",
      "33/33 [==============================] - 22s 667ms/step - loss: 0.7849 - accuracy: 0.8343 - val_loss: 0.6833 - val_accuracy: 1.0000\n",
      "Epoch 19/300\n",
      "33/33 [==============================] - 22s 669ms/step - loss: 0.7595 - accuracy: 0.8499 - val_loss: 0.6624 - val_accuracy: 1.0000\n",
      "Epoch 20/300\n",
      "33/33 [==============================] - 22s 666ms/step - loss: 0.7473 - accuracy: 0.8421 - val_loss: 0.6422 - val_accuracy: 1.0000\n",
      "Epoch 21/300\n",
      "33/33 [==============================] - 22s 668ms/step - loss: 0.7366 - accuracy: 0.8265 - val_loss: 0.6241 - val_accuracy: 1.0000\n",
      "Epoch 22/300\n",
      "33/33 [==============================] - 24s 716ms/step - loss: 0.7182 - accuracy: 0.8480 - val_loss: 0.6057 - val_accuracy: 1.0000\n",
      "Epoch 23/300\n",
      "33/33 [==============================] - 26s 774ms/step - loss: 0.7010 - accuracy: 0.8519 - val_loss: 0.5875 - val_accuracy: 1.0000\n",
      "Epoch 24/300\n",
      "33/33 [==============================] - 24s 711ms/step - loss: 0.6743 - accuracy: 0.8830 - val_loss: 0.5702 - val_accuracy: 1.0000\n",
      "Epoch 25/300\n",
      "33/33 [==============================] - 24s 735ms/step - loss: 0.6675 - accuracy: 0.8655 - val_loss: 0.5531 - val_accuracy: 1.0000\n",
      "Epoch 26/300\n",
      "33/33 [==============================] - 24s 728ms/step - loss: 0.6610 - accuracy: 0.8499 - val_loss: 0.5375 - val_accuracy: 1.0000\n",
      "Epoch 27/300\n",
      "33/33 [==============================] - 24s 715ms/step - loss: 0.6359 - accuracy: 0.8928 - val_loss: 0.5219 - val_accuracy: 1.0000\n",
      "Epoch 28/300\n",
      "33/33 [==============================] - 24s 729ms/step - loss: 0.6487 - accuracy: 0.8285 - val_loss: 0.5081 - val_accuracy: 1.0000\n",
      "Epoch 29/300\n",
      "33/33 [==============================] - 24s 710ms/step - loss: 0.6257 - accuracy: 0.8577 - val_loss: 0.4946 - val_accuracy: 1.0000\n",
      "Epoch 30/300\n",
      "33/33 [==============================] - 25s 745ms/step - loss: 0.6132 - accuracy: 0.8772 - val_loss: 0.4818 - val_accuracy: 1.0000\n",
      "Epoch 31/300\n",
      "33/33 [==============================] - 23s 689ms/step - loss: 0.6156 - accuracy: 0.8382 - val_loss: 0.4693 - val_accuracy: 1.0000\n",
      "Epoch 32/300\n",
      "33/33 [==============================] - 22s 675ms/step - loss: 0.6079 - accuracy: 0.8421 - val_loss: 0.4576 - val_accuracy: 1.0000\n",
      "Epoch 33/300\n",
      "33/33 [==============================] - 23s 688ms/step - loss: 0.5920 - accuracy: 0.8480 - val_loss: 0.4456 - val_accuracy: 1.0000\n",
      "Epoch 34/300\n",
      "33/33 [==============================] - 23s 680ms/step - loss: 0.5854 - accuracy: 0.8402 - val_loss: 0.4348 - val_accuracy: 1.0000\n",
      "Epoch 35/300\n",
      "33/33 [==============================] - 22s 676ms/step - loss: 0.5810 - accuracy: 0.8421 - val_loss: 0.4241 - val_accuracy: 1.0000\n",
      "Epoch 36/300\n",
      "33/33 [==============================] - 22s 670ms/step - loss: 0.5779 - accuracy: 0.8324 - val_loss: 0.4143 - val_accuracy: 1.0000\n",
      "Epoch 37/300\n",
      "33/33 [==============================] - 23s 679ms/step - loss: 0.5706 - accuracy: 0.8285 - val_loss: 0.4045 - val_accuracy: 1.0000\n",
      "Epoch 38/300\n",
      "33/33 [==============================] - 22s 667ms/step - loss: 0.5468 - accuracy: 0.8635 - val_loss: 0.3944 - val_accuracy: 1.0000\n",
      "Epoch 39/300\n",
      "33/33 [==============================] - 23s 687ms/step - loss: 0.5404 - accuracy: 0.8616 - val_loss: 0.3851 - val_accuracy: 1.0000\n",
      "Epoch 40/300\n",
      "33/33 [==============================] - 25s 749ms/step - loss: 0.5166 - accuracy: 0.8733 - val_loss: 0.3754 - val_accuracy: 1.0000\n",
      "Epoch 41/300\n",
      "33/33 [==============================] - 22s 671ms/step - loss: 0.5442 - accuracy: 0.8382 - val_loss: 0.3664 - val_accuracy: 1.0000\n",
      "Epoch 42/300\n",
      "33/33 [==============================] - 23s 711ms/step - loss: 0.5227 - accuracy: 0.8635 - val_loss: 0.3584 - val_accuracy: 1.0000\n",
      "Epoch 43/300\n",
      "33/33 [==============================] - 23s 697ms/step - loss: 0.5026 - accuracy: 0.8713 - val_loss: 0.3497 - val_accuracy: 1.0000\n",
      "Epoch 44/300\n",
      "33/33 [==============================] - 26s 787ms/step - loss: 0.5073 - accuracy: 0.8499 - val_loss: 0.3411 - val_accuracy: 1.0000\n",
      "Epoch 45/300\n",
      "33/33 [==============================] - 22s 667ms/step - loss: 0.5076 - accuracy: 0.8538 - val_loss: 0.3337 - val_accuracy: 1.0000\n",
      "Epoch 46/300\n",
      "33/33 [==============================] - 23s 684ms/step - loss: 0.5066 - accuracy: 0.8421 - val_loss: 0.3260 - val_accuracy: 1.0000\n",
      "Epoch 47/300\n",
      "33/33 [==============================] - 24s 720ms/step - loss: 0.5196 - accuracy: 0.8304 - val_loss: 0.3196 - val_accuracy: 1.0000\n",
      "Epoch 48/300\n",
      "33/33 [==============================] - 24s 717ms/step - loss: 0.4917 - accuracy: 0.8460 - val_loss: 0.3127 - val_accuracy: 1.0000\n",
      "Epoch 49/300\n",
      "33/33 [==============================] - 23s 694ms/step - loss: 0.4902 - accuracy: 0.8596 - val_loss: 0.3058 - val_accuracy: 1.0000\n",
      "Epoch 50/300\n",
      "33/33 [==============================] - 23s 707ms/step - loss: 0.4730 - accuracy: 0.8635 - val_loss: 0.2987 - val_accuracy: 1.0000\n",
      "Epoch 51/300\n",
      "33/33 [==============================] - 27s 805ms/step - loss: 0.4636 - accuracy: 0.8538 - val_loss: 0.2916 - val_accuracy: 1.0000\n",
      "Epoch 52/300\n",
      "33/33 [==============================] - 22s 656ms/step - loss: 0.4886 - accuracy: 0.8246 - val_loss: 0.2855 - val_accuracy: 1.0000\n",
      "Epoch 53/300\n",
      "33/33 [==============================] - 23s 705ms/step - loss: 0.4705 - accuracy: 0.8519 - val_loss: 0.2794 - val_accuracy: 1.0000\n",
      "Epoch 54/300\n",
      "33/33 [==============================] - 31s 933ms/step - loss: 0.4689 - accuracy: 0.8538 - val_loss: 0.2740 - val_accuracy: 1.0000\n",
      "Epoch 55/300\n",
      "33/33 [==============================] - 31s 960ms/step - loss: 0.4518 - accuracy: 0.8538 - val_loss: 0.2684 - val_accuracy: 1.0000\n",
      "Epoch 56/300\n",
      "33/33 [==============================] - 28s 835ms/step - loss: 0.4651 - accuracy: 0.8343 - val_loss: 0.2626 - val_accuracy: 1.0000\n",
      "Epoch 57/300\n",
      "33/33 [==============================] - 28s 839ms/step - loss: 0.4329 - accuracy: 0.8850 - val_loss: 0.2565 - val_accuracy: 1.0000\n",
      "Epoch 58/300\n",
      "33/33 [==============================] - 42s 1s/step - loss: 0.4550 - accuracy: 0.8480 - val_loss: 0.2511 - val_accuracy: 1.0000\n",
      "Epoch 59/300\n",
      "33/33 [==============================] - 35s 1s/step - loss: 0.4413 - accuracy: 0.8635 - val_loss: 0.2457 - val_accuracy: 1.0000\n",
      "Epoch 60/300\n",
      "33/33 [==============================] - 25s 765ms/step - loss: 0.4515 - accuracy: 0.8324 - val_loss: 0.2412 - val_accuracy: 1.0000\n",
      "Epoch 61/300\n",
      "33/33 [==============================] - 29s 874ms/step - loss: 0.4270 - accuracy: 0.8694 - val_loss: 0.2362 - val_accuracy: 1.0000\n",
      "Epoch 62/300\n",
      "33/33 [==============================] - 25s 749ms/step - loss: 0.4255 - accuracy: 0.8713 - val_loss: 0.2313 - val_accuracy: 1.0000\n",
      "Epoch 63/300\n",
      "33/33 [==============================] - 27s 788ms/step - loss: 0.4256 - accuracy: 0.8674 - val_loss: 0.2267 - val_accuracy: 1.0000\n",
      "Epoch 64/300\n",
      "33/33 [==============================] - 26s 801ms/step - loss: 0.4223 - accuracy: 0.8616 - val_loss: 0.2222 - val_accuracy: 1.0000\n",
      "Epoch 65/300\n",
      "33/33 [==============================] - 27s 809ms/step - loss: 0.4182 - accuracy: 0.8499 - val_loss: 0.2176 - val_accuracy: 1.0000\n",
      "Epoch 66/300\n",
      "33/33 [==============================] - 30s 886ms/step - loss: 0.4210 - accuracy: 0.8655 - val_loss: 0.2133 - val_accuracy: 1.0000\n",
      "Epoch 67/300\n",
      "33/33 [==============================] - 29s 875ms/step - loss: 0.4215 - accuracy: 0.8441 - val_loss: 0.2092 - val_accuracy: 1.0000\n",
      "Epoch 68/300\n",
      "33/33 [==============================] - 30s 926ms/step - loss: 0.4232 - accuracy: 0.8519 - val_loss: 0.2051 - val_accuracy: 1.0000\n",
      "Epoch 69/300\n",
      "33/33 [==============================] - 30s 922ms/step - loss: 0.4209 - accuracy: 0.8460 - val_loss: 0.2014 - val_accuracy: 1.0000\n",
      "Epoch 70/300\n",
      "33/33 [==============================] - 32s 983ms/step - loss: 0.4055 - accuracy: 0.8713 - val_loss: 0.1977 - val_accuracy: 1.0000\n",
      "Epoch 71/300\n",
      "33/33 [==============================] - 27s 806ms/step - loss: 0.3970 - accuracy: 0.8811 - val_loss: 0.1942 - val_accuracy: 1.0000\n",
      "Epoch 72/300\n",
      "33/33 [==============================] - 28s 859ms/step - loss: 0.4318 - accuracy: 0.8226 - val_loss: 0.1910 - val_accuracy: 1.0000\n",
      "Epoch 73/300\n",
      "33/33 [==============================] - 28s 856ms/step - loss: 0.4121 - accuracy: 0.8480 - val_loss: 0.1880 - val_accuracy: 1.0000\n",
      "Epoch 74/300\n",
      "33/33 [==============================] - 33s 1s/step - loss: 0.3919 - accuracy: 0.8460 - val_loss: 0.1843 - val_accuracy: 1.0000\n",
      "Epoch 75/300\n",
      "33/33 [==============================] - 26s 791ms/step - loss: 0.3997 - accuracy: 0.8655 - val_loss: 0.1809 - val_accuracy: 1.0000\n",
      "Epoch 76/300\n",
      "33/33 [==============================] - 24s 707ms/step - loss: 0.3779 - accuracy: 0.8772 - val_loss: 0.1777 - val_accuracy: 1.0000\n",
      "Epoch 77/300\n",
      "33/33 [==============================] - 23s 680ms/step - loss: 0.3966 - accuracy: 0.8480 - val_loss: 0.1745 - val_accuracy: 1.0000\n",
      "Epoch 78/300\n",
      "33/33 [==============================] - 22s 666ms/step - loss: 0.3947 - accuracy: 0.8480 - val_loss: 0.1714 - val_accuracy: 1.0000\n",
      "Epoch 79/300\n",
      "33/33 [==============================] - 22s 668ms/step - loss: 0.3924 - accuracy: 0.8538 - val_loss: 0.1685 - val_accuracy: 1.0000\n",
      "Epoch 80/300\n",
      "33/33 [==============================] - 23s 690ms/step - loss: 0.3704 - accuracy: 0.8674 - val_loss: 0.1657 - val_accuracy: 1.0000\n",
      "Epoch 81/300\n",
      "33/33 [==============================] - 24s 739ms/step - loss: 0.3840 - accuracy: 0.8382 - val_loss: 0.1625 - val_accuracy: 1.0000\n",
      "Epoch 82/300\n",
      "33/33 [==============================] - 134s 4s/step - loss: 0.3966 - accuracy: 0.8480 - val_loss: 0.1596 - val_accuracy: 1.0000\n",
      "Epoch 83/300\n",
      "33/33 [==============================] - 25s 762ms/step - loss: 0.3869 - accuracy: 0.8480 - val_loss: 0.1569 - val_accuracy: 1.0000\n",
      "Epoch 84/300\n",
      "33/33 [==============================] - 25s 749ms/step - loss: 0.3734 - accuracy: 0.8674 - val_loss: 0.1544 - val_accuracy: 1.0000\n",
      "Epoch 85/300\n",
      "33/33 [==============================] - 26s 802ms/step - loss: 0.3654 - accuracy: 0.8577 - val_loss: 0.1518 - val_accuracy: 1.0000\n",
      "Epoch 86/300\n",
      "33/33 [==============================] - 25s 752ms/step - loss: 0.3665 - accuracy: 0.8694 - val_loss: 0.1486 - val_accuracy: 1.0000\n",
      "Epoch 87/300\n",
      "33/33 [==============================] - 26s 774ms/step - loss: 0.3699 - accuracy: 0.8635 - val_loss: 0.1461 - val_accuracy: 1.0000\n",
      "Epoch 88/300\n",
      "33/33 [==============================] - 25s 745ms/step - loss: 0.3435 - accuracy: 0.8850 - val_loss: 0.1433 - val_accuracy: 1.0000\n",
      "Epoch 89/300\n",
      "33/33 [==============================] - 24s 729ms/step - loss: 0.3528 - accuracy: 0.8694 - val_loss: 0.1407 - val_accuracy: 1.0000\n",
      "Epoch 90/300\n",
      "33/33 [==============================] - 23s 702ms/step - loss: 0.3656 - accuracy: 0.8772 - val_loss: 0.1382 - val_accuracy: 1.0000\n",
      "Epoch 91/300\n",
      "33/33 [==============================] - 22s 666ms/step - loss: 0.3345 - accuracy: 0.8772 - val_loss: 0.1356 - val_accuracy: 1.0000\n",
      "Epoch 92/300\n",
      "33/33 [==============================] - 22s 662ms/step - loss: 0.3504 - accuracy: 0.8713 - val_loss: 0.1332 - val_accuracy: 1.0000\n",
      "Epoch 93/300\n",
      "33/33 [==============================] - 22s 660ms/step - loss: 0.3457 - accuracy: 0.8752 - val_loss: 0.1309 - val_accuracy: 1.0000\n",
      "Epoch 94/300\n",
      "33/33 [==============================] - 23s 679ms/step - loss: 0.3628 - accuracy: 0.8713 - val_loss: 0.1289 - val_accuracy: 1.0000\n",
      "Epoch 95/300\n",
      "33/33 [==============================] - 22s 671ms/step - loss: 0.3615 - accuracy: 0.8421 - val_loss: 0.1270 - val_accuracy: 1.0000\n",
      "Epoch 96/300\n",
      "33/33 [==============================] - 22s 667ms/step - loss: 0.3488 - accuracy: 0.8635 - val_loss: 0.1246 - val_accuracy: 1.0000\n"
     ]
    }
   ],
   "source": [
    "his = custom_model.fit(train_dataset, validation_data=valid_dataset, \n",
    "                       epochs=300, callbacks=[early_stopping])"
   ]
  },
  {
   "cell_type": "code",
   "execution_count": 16,
   "metadata": {},
   "outputs": [
    {
     "data": {
      "text/plain": [
       "Text(0, 0.5, 'Loss')"
      ]
     },
     "execution_count": 16,
     "metadata": {},
     "output_type": "execute_result"
    },
    {
     "data": {
      "image/png": "[encoded data removed]",
      "text/plain": [
       "<Figure size 640x480 with 1 Axes>"
      ]
     },
     "metadata": {},
     "output_type": "display_data"
    }
   ],
   "source": [
    "plt.figure()\n",
    "plt.plot(his.history['loss'])\n",
    "plt.plot(his.history['val_loss'])\n",
    "plt.title('Training Loss')\n",
    "plt.xlabel('Epoch #')\n",
    "plt.ylabel('Loss')"
   ]
  },
  {
   "cell_type": "code",
   "execution_count": 17,
   "metadata": {},
   "outputs": [
    {
     "data": {
      "text/plain": [
       "Text(0, 0.5, 'Accuracy')"
      ]
     },
     "execution_count": 17,
     "metadata": {},
     "output_type": "execute_result"
    },
    {
     "data": {
      "image/png": "[encoded data removed]",
      "text/plain": [
       "<Figure size 640x480 with 1 Axes>"
      ]
     },
     "metadata": {},
     "output_type": "display_data"
    }
   ],
   "source": [
    "plt.figure()\n",
    "plt.plot(his.history['accuracy'])\n",
    "plt.plot(his.history['val_accuracy'])\n",
    "plt.title('Training Accuracy')\n",
    "plt.xlabel('Epoch #')\n",
    "plt.ylabel('Accuracy')"
   ]
  },
  {
   "cell_type": "code",
   "execution_count": 18,
   "metadata": {},
   "outputs": [],
   "source": [
    "prob_model = keras.Sequential([custom_model,\n",
    "                               tf.keras.layers.Softmax()\n",
    "                               ])"
   ]
  },
  {
   "cell_type": "code",
   "execution_count": 22,
   "metadata": {},
   "outputs": [
    {
     "name": "stdout",
     "output_type": "stream",
     "text": [
      "WARNING:tensorflow:Compiled the loaded model, but the compiled metrics have yet to be built. `model.compile_metrics` will be empty until you train or evaluate the model.\n"
     ]
    },
    {
     "name": "stderr",
     "output_type": "stream",
     "text": [
      "WARNING:tensorflow:Compiled the loaded model, but the compiled metrics have yet to be built. `model.compile_metrics` will be empty until you train or evaluate the model.\n"
     ]
    },
    {
     "name": "stdout",
     "output_type": "stream",
     "text": [
      "WARNING:tensorflow:Using a while_loop for converting RngReadAndSkip cause there is no registered converter for this op.\n"
     ]
    },
    {
     "name": "stderr",
     "output_type": "stream",
     "text": [
      "WARNING:tensorflow:Using a while_loop for converting RngReadAndSkip cause there is no registered converter for this op.\n"
     ]
    },
    {
     "name": "stdout",
     "output_type": "stream",
     "text": [
      "WARNING:tensorflow:Using a while_loop for converting Bitcast cause there is no registered converter for this op.\n"
     ]
    },
    {
     "name": "stderr",
     "output_type": "stream",
     "text": [
      "WARNING:tensorflow:Using a while_loop for converting Bitcast cause there is no registered converter for this op.\n"
     ]
    },
    {
     "name": "stdout",
     "output_type": "stream",
     "text": [
      "WARNING:tensorflow:Using a while_loop for converting Bitcast cause there is no registered converter for this op.\n"
     ]
    },
    {
     "name": "stderr",
     "output_type": "stream",
     "text": [
      "WARNING:tensorflow:Using a while_loop for converting Bitcast cause there is no registered converter for this op.\n"
     ]
    },
    {
     "name": "stdout",
     "output_type": "stream",
     "text": [
      "WARNING:tensorflow:Using a while_loop for converting StatelessRandomUniformFullIntV2 cause there is no registered converter for this op.\n"
     ]
    },
    {
     "name": "stderr",
     "output_type": "stream",
     "text": [
      "WARNING:tensorflow:Using a while_loop for converting StatelessRandomUniformFullIntV2 cause there is no registered converter for this op.\n"
     ]
    },
    {
     "name": "stdout",
     "output_type": "stream",
     "text": [
      "WARNING:tensorflow:Using a while_loop for converting StatelessRandomGetKeyCounter cause there is no registered converter for this op.\n"
     ]
    },
    {
     "name": "stderr",
     "output_type": "stream",
     "text": [
      "WARNING:tensorflow:Using a while_loop for converting StatelessRandomGetKeyCounter cause there is no registered converter for this op.\n"
     ]
    },
    {
     "name": "stdout",
     "output_type": "stream",
     "text": [
      "WARNING:tensorflow:Using a while_loop for converting StatelessRandomUniformV2 cause there is no registered converter for this op.\n"
     ]
    },
    {
     "name": "stderr",
     "output_type": "stream",
     "text": [
      "WARNING:tensorflow:Using a while_loop for converting StatelessRandomUniformV2 cause there is no registered converter for this op.\n"
     ]
    },
    {
     "name": "stdout",
     "output_type": "stream",
     "text": [
      "WARNING:tensorflow:Using a while_loop for converting AdjustContrastv2 cause Input \"contrast_factor\" of op 'AdjustContrastv2' expected to be loop invariant.\n"
     ]
    },
    {
     "name": "stderr",
     "output_type": "stream",
     "text": [
      "WARNING:tensorflow:Using a while_loop for converting AdjustContrastv2 cause Input \"contrast_factor\" of op 'AdjustContrastv2' expected to be loop invariant.\n"
     ]
    },
    {
     "name": "stdout",
     "output_type": "stream",
     "text": [
      "WARNING:tensorflow:Using a while_loop for converting RngReadAndSkip cause there is no registered converter for this op.\n"
     ]
    },
    {
     "name": "stderr",
     "output_type": "stream",
     "text": [
      "WARNING:tensorflow:Using a while_loop for converting RngReadAndSkip cause there is no registered converter for this op.\n"
     ]
    },
    {
     "name": "stdout",
     "output_type": "stream",
     "text": [
      "WARNING:tensorflow:Using a while_loop for converting Bitcast cause there is no registered converter for this op.\n"
     ]
    },
    {
     "name": "stderr",
     "output_type": "stream",
     "text": [
      "WARNING:tensorflow:Using a while_loop for converting Bitcast cause there is no registered converter for this op.\n"
     ]
    },
    {
     "name": "stdout",
     "output_type": "stream",
     "text": [
      "WARNING:tensorflow:Using a while_loop for converting Bitcast cause there is no registered converter for this op.\n"
     ]
    },
    {
     "name": "stderr",
     "output_type": "stream",
     "text": [
      "WARNING:tensorflow:Using a while_loop for converting Bitcast cause there is no registered converter for this op.\n"
     ]
    },
    {
     "name": "stdout",
     "output_type": "stream",
     "text": [
      "WARNING:tensorflow:Using a while_loop for converting StatelessRandomUniformV2 cause there is no registered converter for this op.\n"
     ]
    },
    {
     "name": "stderr",
     "output_type": "stream",
     "text": [
      "WARNING:tensorflow:Using a while_loop for converting StatelessRandomUniformV2 cause there is no registered converter for this op.\n"
     ]
    },
    {
     "name": "stdout",
     "output_type": "stream",
     "text": [
      "WARNING:tensorflow:Using a while_loop for converting RngReadAndSkip cause there is no registered converter for this op.\n"
     ]
    },
    {
     "name": "stderr",
     "output_type": "stream",
     "text": [
      "WARNING:tensorflow:Using a while_loop for converting RngReadAndSkip cause there is no registered converter for this op.\n"
     ]
    },
    {
     "name": "stdout",
     "output_type": "stream",
     "text": [
      "WARNING:tensorflow:Using a while_loop for converting Bitcast cause there is no registered converter for this op.\n"
     ]
    },
    {
     "name": "stderr",
     "output_type": "stream",
     "text": [
      "WARNING:tensorflow:Using a while_loop for converting Bitcast cause there is no registered converter for this op.\n"
     ]
    },
    {
     "name": "stdout",
     "output_type": "stream",
     "text": [
      "WARNING:tensorflow:Using a while_loop for converting Bitcast cause there is no registered converter for this op.\n"
     ]
    },
    {
     "name": "stderr",
     "output_type": "stream",
     "text": [
      "WARNING:tensorflow:Using a while_loop for converting Bitcast cause there is no registered converter for this op.\n"
     ]
    },
    {
     "name": "stdout",
     "output_type": "stream",
     "text": [
      "WARNING:tensorflow:Using a while_loop for converting StatelessRandomUniformV2 cause there is no registered converter for this op.\n"
     ]
    },
    {
     "name": "stderr",
     "output_type": "stream",
     "text": [
      "WARNING:tensorflow:Using a while_loop for converting StatelessRandomUniformV2 cause there is no registered converter for this op.\n"
     ]
    },
    {
     "name": "stdout",
     "output_type": "stream",
     "text": [
      "WARNING:tensorflow:Using a while_loop for converting ImageProjectiveTransformV3 cause there is no registered converter for this op.\n"
     ]
    },
    {
     "name": "stderr",
     "output_type": "stream",
     "text": [
      "WARNING:tensorflow:Using a while_loop for converting ImageProjectiveTransformV3 cause there is no registered converter for this op.\n"
     ]
    },
    {
     "name": "stdout",
     "output_type": "stream",
     "text": [
      "WARNING:tensorflow:Using a while_loop for converting RngReadAndSkip cause there is no registered converter for this op.\n"
     ]
    },
    {
     "name": "stderr",
     "output_type": "stream",
     "text": [
      "WARNING:tensorflow:Using a while_loop for converting RngReadAndSkip cause there is no registered converter for this op.\n"
     ]
    },
    {
     "name": "stdout",
     "output_type": "stream",
     "text": [
      "WARNING:tensorflow:Using a while_loop for converting Bitcast cause there is no registered converter for this op.\n"
     ]
    },
    {
     "name": "stderr",
     "output_type": "stream",
     "text": [
      "WARNING:tensorflow:Using a while_loop for converting Bitcast cause there is no registered converter for this op.\n"
     ]
    },
    {
     "name": "stdout",
     "output_type": "stream",
     "text": [
      "WARNING:tensorflow:Using a while_loop for converting Bitcast cause there is no registered converter for this op.\n"
     ]
    },
    {
     "name": "stderr",
     "output_type": "stream",
     "text": [
      "WARNING:tensorflow:Using a while_loop for converting Bitcast cause there is no registered converter for this op.\n"
     ]
    },
    {
     "name": "stdout",
     "output_type": "stream",
     "text": [
      "WARNING:tensorflow:Using a while_loop for converting StatelessRandomUniformV2 cause there is no registered converter for this op.\n"
     ]
    },
    {
     "name": "stderr",
     "output_type": "stream",
     "text": [
      "WARNING:tensorflow:Using a while_loop for converting StatelessRandomUniformV2 cause there is no registered converter for this op.\n"
     ]
    },
    {
     "name": "stdout",
     "output_type": "stream",
     "text": [
      "WARNING:tensorflow:Using a while_loop for converting ImageProjectiveTransformV3 cause there is no registered converter for this op.\n"
     ]
    },
    {
     "name": "stderr",
     "output_type": "stream",
     "text": [
      "WARNING:tensorflow:Using a while_loop for converting ImageProjectiveTransformV3 cause there is no registered converter for this op.\n"
     ]
    },
    {
     "name": "stdout",
     "output_type": "stream",
     "text": [
      "WARNING:tensorflow:Using a while_loop for converting RngReadAndSkip cause there is no registered converter for this op.\n"
     ]
    },
    {
     "name": "stderr",
     "output_type": "stream",
     "text": [
      "WARNING:tensorflow:Using a while_loop for converting RngReadAndSkip cause there is no registered converter for this op.\n"
     ]
    },
    {
     "name": "stdout",
     "output_type": "stream",
     "text": [
      "WARNING:tensorflow:Using a while_loop for converting Bitcast cause there is no registered converter for this op.\n"
     ]
    },
    {
     "name": "stderr",
     "output_type": "stream",
     "text": [
      "WARNING:tensorflow:Using a while_loop for converting Bitcast cause there is no registered converter for this op.\n"
     ]
    },
    {
     "name": "stdout",
     "output_type": "stream",
     "text": [
      "WARNING:tensorflow:Using a while_loop for converting Bitcast cause there is no registered converter for this op.\n"
     ]
    },
    {
     "name": "stderr",
     "output_type": "stream",
     "text": [
      "WARNING:tensorflow:Using a while_loop for converting Bitcast cause there is no registered converter for this op.\n"
     ]
    },
    {
     "name": "stdout",
     "output_type": "stream",
     "text": [
      "WARNING:tensorflow:Using a while_loop for converting StatelessRandomUniformV2 cause there is no registered converter for this op.\n"
     ]
    },
    {
     "name": "stderr",
     "output_type": "stream",
     "text": [
      "WARNING:tensorflow:Using a while_loop for converting StatelessRandomUniformV2 cause there is no registered converter for this op.\n"
     ]
    },
    {
     "name": "stdout",
     "output_type": "stream",
     "text": [
      "WARNING:tensorflow:Using a while_loop for converting RngReadAndSkip cause there is no registered converter for this op.\n"
     ]
    },
    {
     "name": "stderr",
     "output_type": "stream",
     "text": [
      "WARNING:tensorflow:Using a while_loop for converting RngReadAndSkip cause there is no registered converter for this op.\n"
     ]
    },
    {
     "name": "stdout",
     "output_type": "stream",
     "text": [
      "WARNING:tensorflow:Using a while_loop for converting Bitcast cause there is no registered converter for this op.\n"
     ]
    },
    {
     "name": "stderr",
     "output_type": "stream",
     "text": [
      "WARNING:tensorflow:Using a while_loop for converting Bitcast cause there is no registered converter for this op.\n"
     ]
    },
    {
     "name": "stdout",
     "output_type": "stream",
     "text": [
      "WARNING:tensorflow:Using a while_loop for converting Bitcast cause there is no registered converter for this op.\n"
     ]
    },
    {
     "name": "stderr",
     "output_type": "stream",
     "text": [
      "WARNING:tensorflow:Using a while_loop for converting Bitcast cause there is no registered converter for this op.\n"
     ]
    },
    {
     "name": "stdout",
     "output_type": "stream",
     "text": [
      "WARNING:tensorflow:Using a while_loop for converting StatelessRandomUniformFullIntV2 cause there is no registered converter for this op.\n"
     ]
    },
    {
     "name": "stderr",
     "output_type": "stream",
     "text": [
      "WARNING:tensorflow:Using a while_loop for converting StatelessRandomUniformFullIntV2 cause there is no registered converter for this op.\n"
     ]
    },
    {
     "name": "stdout",
     "output_type": "stream",
     "text": [
      "WARNING:tensorflow:Using a while_loop for converting StatelessRandomGetKeyCounter cause there is no registered converter for this op.\n"
     ]
    },
    {
     "name": "stderr",
     "output_type": "stream",
     "text": [
      "WARNING:tensorflow:Using a while_loop for converting StatelessRandomGetKeyCounter cause there is no registered converter for this op.\n"
     ]
    },
    {
     "name": "stdout",
     "output_type": "stream",
     "text": [
      "WARNING:tensorflow:Using a while_loop for converting StatelessRandomUniformV2 cause there is no registered converter for this op.\n"
     ]
    },
    {
     "name": "stderr",
     "output_type": "stream",
     "text": [
      "WARNING:tensorflow:Using a while_loop for converting StatelessRandomUniformV2 cause there is no registered converter for this op.\n"
     ]
    },
    {
     "name": "stdout",
     "output_type": "stream",
     "text": [
      "WARNING:tensorflow:Using a while_loop for converting AdjustContrastv2 cause Input \"contrast_factor\" of op 'AdjustContrastv2' expected to be loop invariant.\n"
     ]
    },
    {
     "name": "stderr",
     "output_type": "stream",
     "text": [
      "WARNING:tensorflow:Using a while_loop for converting AdjustContrastv2 cause Input \"contrast_factor\" of op 'AdjustContrastv2' expected to be loop invariant.\n"
     ]
    },
    {
     "name": "stdout",
     "output_type": "stream",
     "text": [
      "WARNING:tensorflow:Using a while_loop for converting RngReadAndSkip cause there is no registered converter for this op.\n"
     ]
    },
    {
     "name": "stderr",
     "output_type": "stream",
     "text": [
      "WARNING:tensorflow:Using a while_loop for converting RngReadAndSkip cause there is no registered converter for this op.\n"
     ]
    },
    {
     "name": "stdout",
     "output_type": "stream",
     "text": [
      "WARNING:tensorflow:Using a while_loop for converting Bitcast cause there is no registered converter for this op.\n"
     ]
    },
    {
     "name": "stderr",
     "output_type": "stream",
     "text": [
      "WARNING:tensorflow:Using a while_loop for converting Bitcast cause there is no registered converter for this op.\n"
     ]
    },
    {
     "name": "stdout",
     "output_type": "stream",
     "text": [
      "WARNING:tensorflow:Using a while_loop for converting Bitcast cause there is no registered converter for this op.\n"
     ]
    },
    {
     "name": "stderr",
     "output_type": "stream",
     "text": [
      "WARNING:tensorflow:Using a while_loop for converting Bitcast cause there is no registered converter for this op.\n"
     ]
    },
    {
     "name": "stdout",
     "output_type": "stream",
     "text": [
      "WARNING:tensorflow:Using a while_loop for converting StatelessRandomUniformV2 cause there is no registered converter for this op.\n"
     ]
    },
    {
     "name": "stderr",
     "output_type": "stream",
     "text": [
      "WARNING:tensorflow:Using a while_loop for converting StatelessRandomUniformV2 cause there is no registered converter for this op.\n"
     ]
    },
    {
     "name": "stdout",
     "output_type": "stream",
     "text": [
      "WARNING:tensorflow:Using a while_loop for converting ImageProjectiveTransformV3 cause there is no registered converter for this op.\n"
     ]
    },
    {
     "name": "stderr",
     "output_type": "stream",
     "text": [
      "WARNING:tensorflow:Using a while_loop for converting ImageProjectiveTransformV3 cause there is no registered converter for this op.\n"
     ]
    },
    {
     "name": "stdout",
     "output_type": "stream",
     "text": [
      "WARNING:tensorflow:Using a while_loop for converting RngReadAndSkip cause there is no registered converter for this op.\n"
     ]
    },
    {
     "name": "stderr",
     "output_type": "stream",
     "text": [
      "WARNING:tensorflow:Using a while_loop for converting RngReadAndSkip cause there is no registered converter for this op.\n"
     ]
    },
    {
     "name": "stdout",
     "output_type": "stream",
     "text": [
      "WARNING:tensorflow:Using a while_loop for converting Bitcast cause there is no registered converter for this op.\n"
     ]
    },
    {
     "name": "stderr",
     "output_type": "stream",
     "text": [
      "WARNING:tensorflow:Using a while_loop for converting Bitcast cause there is no registered converter for this op.\n"
     ]
    },
    {
     "name": "stdout",
     "output_type": "stream",
     "text": [
      "WARNING:tensorflow:Using a while_loop for converting Bitcast cause there is no registered converter for this op.\n"
     ]
    },
    {
     "name": "stderr",
     "output_type": "stream",
     "text": [
      "WARNING:tensorflow:Using a while_loop for converting Bitcast cause there is no registered converter for this op.\n"
     ]
    },
    {
     "name": "stdout",
     "output_type": "stream",
     "text": [
      "WARNING:tensorflow:Using a while_loop for converting StatelessRandomUniformV2 cause there is no registered converter for this op.\n"
     ]
    },
    {
     "name": "stderr",
     "output_type": "stream",
     "text": [
      "WARNING:tensorflow:Using a while_loop for converting StatelessRandomUniformV2 cause there is no registered converter for this op.\n"
     ]
    },
    {
     "name": "stdout",
     "output_type": "stream",
     "text": [
      "WARNING:tensorflow:Using a while_loop for converting RngReadAndSkip cause there is no registered converter for this op.\n"
     ]
    },
    {
     "name": "stderr",
     "output_type": "stream",
     "text": [
      "WARNING:tensorflow:Using a while_loop for converting RngReadAndSkip cause there is no registered converter for this op.\n"
     ]
    },
    {
     "name": "stdout",
     "output_type": "stream",
     "text": [
      "WARNING:tensorflow:Using a while_loop for converting Bitcast cause there is no registered converter for this op.\n"
     ]
    },
    {
     "name": "stderr",
     "output_type": "stream",
     "text": [
      "WARNING:tensorflow:Using a while_loop for converting Bitcast cause there is no registered converter for this op.\n"
     ]
    },
    {
     "name": "stdout",
     "output_type": "stream",
     "text": [
      "WARNING:tensorflow:Using a while_loop for converting Bitcast cause there is no registered converter for this op.\n"
     ]
    },
    {
     "name": "stderr",
     "output_type": "stream",
     "text": [
      "WARNING:tensorflow:Using a while_loop for converting Bitcast cause there is no registered converter for this op.\n"
     ]
    },
    {
     "name": "stdout",
     "output_type": "stream",
     "text": [
      "WARNING:tensorflow:Using a while_loop for converting StatelessRandomUniformFullIntV2 cause there is no registered converter for this op.\n"
     ]
    },
    {
     "name": "stderr",
     "output_type": "stream",
     "text": [
      "WARNING:tensorflow:Using a while_loop for converting StatelessRandomUniformFullIntV2 cause there is no registered converter for this op.\n"
     ]
    },
    {
     "name": "stdout",
     "output_type": "stream",
     "text": [
      "WARNING:tensorflow:Using a while_loop for converting StatelessRandomGetKeyCounter cause there is no registered converter for this op.\n"
     ]
    },
    {
     "name": "stderr",
     "output_type": "stream",
     "text": [
      "WARNING:tensorflow:Using a while_loop for converting StatelessRandomGetKeyCounter cause there is no registered converter for this op.\n"
     ]
    },
    {
     "name": "stdout",
     "output_type": "stream",
     "text": [
      "WARNING:tensorflow:Using a while_loop for converting StatelessRandomUniformV2 cause there is no registered converter for this op.\n"
     ]
    },
    {
     "name": "stderr",
     "output_type": "stream",
     "text": [
      "WARNING:tensorflow:Using a while_loop for converting StatelessRandomUniformV2 cause there is no registered converter for this op.\n"
     ]
    },
    {
     "name": "stdout",
     "output_type": "stream",
     "text": [
      "WARNING:tensorflow:Using a while_loop for converting AdjustContrastv2 cause Input \"contrast_factor\" of op 'AdjustContrastv2' expected to be loop invariant.\n"
     ]
    },
    {
     "name": "stderr",
     "output_type": "stream",
     "text": [
      "WARNING:tensorflow:Using a while_loop for converting AdjustContrastv2 cause Input \"contrast_factor\" of op 'AdjustContrastv2' expected to be loop invariant.\n"
     ]
    },
    {
     "name": "stdout",
     "output_type": "stream",
     "text": [
      "WARNING:tensorflow:Using a while_loop for converting RngReadAndSkip cause there is no registered converter for this op.\n"
     ]
    },
    {
     "name": "stderr",
     "output_type": "stream",
     "text": [
      "WARNING:tensorflow:Using a while_loop for converting RngReadAndSkip cause there is no registered converter for this op.\n"
     ]
    },
    {
     "name": "stdout",
     "output_type": "stream",
     "text": [
      "WARNING:tensorflow:Using a while_loop for converting Bitcast cause there is no registered converter for this op.\n"
     ]
    },
    {
     "name": "stderr",
     "output_type": "stream",
     "text": [
      "WARNING:tensorflow:Using a while_loop for converting Bitcast cause there is no registered converter for this op.\n"
     ]
    },
    {
     "name": "stdout",
     "output_type": "stream",
     "text": [
      "WARNING:tensorflow:Using a while_loop for converting Bitcast cause there is no registered converter for this op.\n"
     ]
    },
    {
     "name": "stderr",
     "output_type": "stream",
     "text": [
      "WARNING:tensorflow:Using a while_loop for converting Bitcast cause there is no registered converter for this op.\n"
     ]
    },
    {
     "name": "stdout",
     "output_type": "stream",
     "text": [
      "WARNING:tensorflow:Using a while_loop for converting StatelessRandomUniformV2 cause there is no registered converter for this op.\n"
     ]
    },
    {
     "name": "stderr",
     "output_type": "stream",
     "text": [
      "WARNING:tensorflow:Using a while_loop for converting StatelessRandomUniformV2 cause there is no registered converter for this op.\n"
     ]
    },
    {
     "name": "stdout",
     "output_type": "stream",
     "text": [
      "WARNING:tensorflow:Using a while_loop for converting ImageProjectiveTransformV3 cause there is no registered converter for this op.\n"
     ]
    },
    {
     "name": "stderr",
     "output_type": "stream",
     "text": [
      "WARNING:tensorflow:Using a while_loop for converting ImageProjectiveTransformV3 cause there is no registered converter for this op.\n"
     ]
    },
    {
     "name": "stdout",
     "output_type": "stream",
     "text": [
      "WARNING:tensorflow:Using a while_loop for converting RngReadAndSkip cause there is no registered converter for this op.\n"
     ]
    },
    {
     "name": "stderr",
     "output_type": "stream",
     "text": [
      "WARNING:tensorflow:Using a while_loop for converting RngReadAndSkip cause there is no registered converter for this op.\n"
     ]
    },
    {
     "name": "stdout",
     "output_type": "stream",
     "text": [
      "WARNING:tensorflow:Using a while_loop for converting Bitcast cause there is no registered converter for this op.\n"
     ]
    },
    {
     "name": "stderr",
     "output_type": "stream",
     "text": [
      "WARNING:tensorflow:Using a while_loop for converting Bitcast cause there is no registered converter for this op.\n"
     ]
    },
    {
     "name": "stdout",
     "output_type": "stream",
     "text": [
      "WARNING:tensorflow:Using a while_loop for converting Bitcast cause there is no registered converter for this op.\n"
     ]
    },
    {
     "name": "stderr",
     "output_type": "stream",
     "text": [
      "WARNING:tensorflow:Using a while_loop for converting Bitcast cause there is no registered converter for this op.\n"
     ]
    },
    {
     "name": "stdout",
     "output_type": "stream",
     "text": [
      "WARNING:tensorflow:Using a while_loop for converting StatelessRandomUniformV2 cause there is no registered converter for this op.\n"
     ]
    },
    {
     "name": "stderr",
     "output_type": "stream",
     "text": [
      "WARNING:tensorflow:Using a while_loop for converting StatelessRandomUniformV2 cause there is no registered converter for this op.\n"
     ]
    },
    {
     "name": "stdout",
     "output_type": "stream",
     "text": [
      "WARNING:tensorflow:Using a while_loop for converting RngReadAndSkip cause there is no registered converter for this op.\n"
     ]
    },
    {
     "name": "stderr",
     "output_type": "stream",
     "text": [
      "WARNING:tensorflow:Using a while_loop for converting RngReadAndSkip cause there is no registered converter for this op.\n"
     ]
    },
    {
     "name": "stdout",
     "output_type": "stream",
     "text": [
      "WARNING:tensorflow:Using a while_loop for converting Bitcast cause there is no registered converter for this op.\n"
     ]
    },
    {
     "name": "stderr",
     "output_type": "stream",
     "text": [
      "WARNING:tensorflow:Using a while_loop for converting Bitcast cause there is no registered converter for this op.\n"
     ]
    },
    {
     "name": "stdout",
     "output_type": "stream",
     "text": [
      "WARNING:tensorflow:Using a while_loop for converting Bitcast cause there is no registered converter for this op.\n"
     ]
    },
    {
     "name": "stderr",
     "output_type": "stream",
     "text": [
      "WARNING:tensorflow:Using a while_loop for converting Bitcast cause there is no registered converter for this op.\n"
     ]
    },
    {
     "name": "stdout",
     "output_type": "stream",
     "text": [
      "WARNING:tensorflow:Using a while_loop for converting StatelessRandomUniformFullIntV2 cause there is no registered converter for this op.\n"
     ]
    },
    {
     "name": "stderr",
     "output_type": "stream",
     "text": [
      "WARNING:tensorflow:Using a while_loop for converting StatelessRandomUniformFullIntV2 cause there is no registered converter for this op.\n"
     ]
    },
    {
     "name": "stdout",
     "output_type": "stream",
     "text": [
      "WARNING:tensorflow:Using a while_loop for converting StatelessRandomGetKeyCounter cause there is no registered converter for this op.\n"
     ]
    },
    {
     "name": "stderr",
     "output_type": "stream",
     "text": [
      "WARNING:tensorflow:Using a while_loop for converting StatelessRandomGetKeyCounter cause there is no registered converter for this op.\n"
     ]
    },
    {
     "name": "stdout",
     "output_type": "stream",
     "text": [
      "WARNING:tensorflow:Using a while_loop for converting StatelessRandomUniformV2 cause there is no registered converter for this op.\n"
     ]
    },
    {
     "name": "stderr",
     "output_type": "stream",
     "text": [
      "WARNING:tensorflow:Using a while_loop for converting StatelessRandomUniformV2 cause there is no registered converter for this op.\n"
     ]
    },
    {
     "name": "stdout",
     "output_type": "stream",
     "text": [
      "WARNING:tensorflow:Using a while_loop for converting AdjustContrastv2 cause Input \"contrast_factor\" of op 'AdjustContrastv2' expected to be loop invariant.\n"
     ]
    },
    {
     "name": "stderr",
     "output_type": "stream",
     "text": [
      "WARNING:tensorflow:Using a while_loop for converting AdjustContrastv2 cause Input \"contrast_factor\" of op 'AdjustContrastv2' expected to be loop invariant.\n"
     ]
    },
    {
     "name": "stdout",
     "output_type": "stream",
     "text": [
      "WARNING:tensorflow:Using a while_loop for converting RngReadAndSkip cause there is no registered converter for this op.\n"
     ]
    },
    {
     "name": "stderr",
     "output_type": "stream",
     "text": [
      "WARNING:tensorflow:Using a while_loop for converting RngReadAndSkip cause there is no registered converter for this op.\n"
     ]
    },
    {
     "name": "stdout",
     "output_type": "stream",
     "text": [
      "WARNING:tensorflow:Using a while_loop for converting Bitcast cause there is no registered converter for this op.\n"
     ]
    },
    {
     "name": "stderr",
     "output_type": "stream",
     "text": [
      "WARNING:tensorflow:Using a while_loop for converting Bitcast cause there is no registered converter for this op.\n"
     ]
    },
    {
     "name": "stdout",
     "output_type": "stream",
     "text": [
      "WARNING:tensorflow:Using a while_loop for converting Bitcast cause there is no registered converter for this op.\n"
     ]
    },
    {
     "name": "stderr",
     "output_type": "stream",
     "text": [
      "WARNING:tensorflow:Using a while_loop for converting Bitcast cause there is no registered converter for this op.\n"
     ]
    },
    {
     "name": "stdout",
     "output_type": "stream",
     "text": [
      "WARNING:tensorflow:Using a while_loop for converting StatelessRandomUniformV2 cause there is no registered converter for this op.\n"
     ]
    },
    {
     "name": "stderr",
     "output_type": "stream",
     "text": [
      "WARNING:tensorflow:Using a while_loop for converting StatelessRandomUniformV2 cause there is no registered converter for this op.\n"
     ]
    },
    {
     "name": "stdout",
     "output_type": "stream",
     "text": [
      "WARNING:tensorflow:Using a while_loop for converting ImageProjectiveTransformV3 cause there is no registered converter for this op.\n"
     ]
    },
    {
     "name": "stderr",
     "output_type": "stream",
     "text": [
      "WARNING:tensorflow:Using a while_loop for converting ImageProjectiveTransformV3 cause there is no registered converter for this op.\n"
     ]
    },
    {
     "name": "stdout",
     "output_type": "stream",
     "text": [
      "WARNING:tensorflow:Using a while_loop for converting RngReadAndSkip cause there is no registered converter for this op.\n"
     ]
    },
    {
     "name": "stderr",
     "output_type": "stream",
     "text": [
      "WARNING:tensorflow:Using a while_loop for converting RngReadAndSkip cause there is no registered converter for this op.\n"
     ]
    },
    {
     "name": "stdout",
     "output_type": "stream",
     "text": [
      "WARNING:tensorflow:Using a while_loop for converting Bitcast cause there is no registered converter for this op.\n"
     ]
    },
    {
     "name": "stderr",
     "output_type": "stream",
     "text": [
      "WARNING:tensorflow:Using a while_loop for converting Bitcast cause there is no registered converter for this op.\n"
     ]
    },
    {
     "name": "stdout",
     "output_type": "stream",
     "text": [
      "WARNING:tensorflow:Using a while_loop for converting Bitcast cause there is no registered converter for this op.\n"
     ]
    },
    {
     "name": "stderr",
     "output_type": "stream",
     "text": [
      "WARNING:tensorflow:Using a while_loop for converting Bitcast cause there is no registered converter for this op.\n"
     ]
    },
    {
     "name": "stdout",
     "output_type": "stream",
     "text": [
      "WARNING:tensorflow:Using a while_loop for converting StatelessRandomUniformV2 cause there is no registered converter for this op.\n"
     ]
    },
    {
     "name": "stderr",
     "output_type": "stream",
     "text": [
      "WARNING:tensorflow:Using a while_loop for converting StatelessRandomUniformV2 cause there is no registered converter for this op.\n"
     ]
    },
    {
     "name": "stdout",
     "output_type": "stream",
     "text": [
      "WARNING:tensorflow:Using a while_loop for converting RngReadAndSkip cause there is no registered converter for this op.\n"
     ]
    },
    {
     "name": "stderr",
     "output_type": "stream",
     "text": [
      "WARNING:tensorflow:Using a while_loop for converting RngReadAndSkip cause there is no registered converter for this op.\n"
     ]
    },
    {
     "name": "stdout",
     "output_type": "stream",
     "text": [
      "WARNING:tensorflow:Using a while_loop for converting Bitcast cause there is no registered converter for this op.\n"
     ]
    },
    {
     "name": "stderr",
     "output_type": "stream",
     "text": [
      "WARNING:tensorflow:Using a while_loop for converting Bitcast cause there is no registered converter for this op.\n"
     ]
    },
    {
     "name": "stdout",
     "output_type": "stream",
     "text": [
      "WARNING:tensorflow:Using a while_loop for converting Bitcast cause there is no registered converter for this op.\n"
     ]
    },
    {
     "name": "stderr",
     "output_type": "stream",
     "text": [
      "WARNING:tensorflow:Using a while_loop for converting Bitcast cause there is no registered converter for this op.\n"
     ]
    },
    {
     "name": "stdout",
     "output_type": "stream",
     "text": [
      "WARNING:tensorflow:Using a while_loop for converting StatelessRandomUniformFullIntV2 cause there is no registered converter for this op.\n"
     ]
    },
    {
     "name": "stderr",
     "output_type": "stream",
     "text": [
      "WARNING:tensorflow:Using a while_loop for converting StatelessRandomUniformFullIntV2 cause there is no registered converter for this op.\n"
     ]
    },
    {
     "name": "stdout",
     "output_type": "stream",
     "text": [
      "WARNING:tensorflow:Using a while_loop for converting StatelessRandomGetKeyCounter cause there is no registered converter for this op.\n"
     ]
    },
    {
     "name": "stderr",
     "output_type": "stream",
     "text": [
      "WARNING:tensorflow:Using a while_loop for converting StatelessRandomGetKeyCounter cause there is no registered converter for this op.\n"
     ]
    },
    {
     "name": "stdout",
     "output_type": "stream",
     "text": [
      "WARNING:tensorflow:Using a while_loop for converting StatelessRandomUniformV2 cause there is no registered converter for this op.\n"
     ]
    },
    {
     "name": "stderr",
     "output_type": "stream",
     "text": [
      "WARNING:tensorflow:Using a while_loop for converting StatelessRandomUniformV2 cause there is no registered converter for this op.\n"
     ]
    },
    {
     "name": "stdout",
     "output_type": "stream",
     "text": [
      "WARNING:tensorflow:Using a while_loop for converting AdjustContrastv2 cause Input \"contrast_factor\" of op 'AdjustContrastv2' expected to be loop invariant.\n"
     ]
    },
    {
     "name": "stderr",
     "output_type": "stream",
     "text": [
      "WARNING:tensorflow:Using a while_loop for converting AdjustContrastv2 cause Input \"contrast_factor\" of op 'AdjustContrastv2' expected to be loop invariant.\n",
      "WARNING:absl:Found untraced functions such as _jit_compiled_convolution_op, _jit_compiled_convolution_op, _jit_compiled_convolution_op, _jit_compiled_convolution_op, _jit_compiled_convolution_op while saving (showing 5 of 53). These functions will not be directly callable after loading.\n"
     ]
    },
    {
     "name": "stdout",
     "output_type": "stream",
     "text": [
      "INFO:tensorflow:Assets written to: model/model_2025-09-03_1756862707.101024.tf\\assets\n"
     ]
    },
    {
     "name": "stderr",
     "output_type": "stream",
     "text": [
      "INFO:tensorflow:Assets written to: model/model_2025-09-03_1756862707.101024.tf\\assets\n"
     ]
    }
   ],
   "source": [
    "time_stamp = datetime.datetime.now()\n",
    "time_stamp.strftime(\"%d_%b_%y_%H_%M_%S\")\n",
    "prob_model.save(f\"model/model_{time_stamp.date()}_{time_stamp.timestamp()}.tf\")"
   ]
  }
 ],
 "metadata": {
  "kernelspec": {
   "display_name": "tf-gpu",
   "language": "python",
   "name": "python3"
  },
  "language_info": {
   "codemirror_mode": {
    "name": "ipython",
    "version": 3
   },
   "file_extension": ".py",
   "mimetype": "text/x-python",
   "name": "python",
   "nbconvert_exporter": "python",
   "pygments_lexer": "ipython3",
   "version": "3.10.18"
  },
  "orig_nbformat": 4
 },
 "nbformat": 4,
 "nbformat_minor": 2
}
