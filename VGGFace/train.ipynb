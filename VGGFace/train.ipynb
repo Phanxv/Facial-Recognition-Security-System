{
 "cells": [
  {
   "cell_type": "code",
   "execution_count": 1,
   "metadata": {},
   "outputs": [],
   "source": [
    "import tensorflow as tf\n",
    "import keras\n",
    "from keras_vggface.vggface import VGGFace\n",
    "from matplotlib import pyplot as plt\n",
    "import datetime\n",
    "import cv2\n",
    "import PIL\n",
    "from tensorflow.keras.models import load_model\n",
    "import numpy as np"
   ]
  },
  {
   "cell_type": "markdown",
   "metadata": {},
   "source": [
    "#### if encounter error \"ModuleNotFoundError: No module named 'keras.engine.topology'\"\n",
    "\n",
    "locate keras_vggface/models.py for example ../../../miniconda3/envs/ML/lib/python3.9/site-packages/keras_vggface/models.py\n",
    "\n",
    "changing the import from\n",
    "\n",
    "from keras.engine.topology import get_source_inputs\n",
    "\n",
    "to\n",
    "\n",
    "from keras.utils.layer_utils import get_source_inputs"
   ]
  },
  {
   "cell_type": "markdown",
   "metadata": {},
   "source": [
    "#### GPU Check"
   ]
  },
  {
   "cell_type": "code",
   "execution_count": null,
   "metadata": {},
   "outputs": [],
   "source": []
  },
  {
   "cell_type": "code",
   "execution_count": 2,
   "metadata": {},
   "outputs": [
    {
     "data": {
      "text/plain": [
       "[PhysicalDevice(name='/physical_device:GPU:0', device_type='GPU')]"
      ]
     },
     "execution_count": 2,
     "metadata": {},
     "output_type": "execute_result"
    }
   ],
   "source": [
    "tf.config.list_physical_devices('GPU')"
   ]
  },
  {
   "cell_type": "code",
   "execution_count": 4,
   "metadata": {},
   "outputs": [
    {
     "name": "stdout",
     "output_type": "stream",
     "text": [
      "Found 1433 files belonging to 3 classes.\n",
      "Using 1290 files for training.\n"
     ]
    }
   ],
   "source": [
    "train_dataset = keras.utils.image_dataset_from_directory('datasets_VGG',\n",
    "                                                         validation_split = 0.1,\n",
    "                                                         subset=\"training\",\n",
    "                                                         seed = 69420,\n",
    "                                                         batch_size=16,\n",
    "                                                         image_size=(224,224))"
   ]
  },
  {
   "cell_type": "code",
   "execution_count": 5,
   "metadata": {},
   "outputs": [
    {
     "name": "stdout",
     "output_type": "stream",
     "text": [
      "Found 1433 files belonging to 3 classes.\n",
      "Using 143 files for validation.\n"
     ]
    }
   ],
   "source": [
    "valid_dataset = keras.utils.image_dataset_from_directory('datasets_VGG',\n",
    "                                                         validation_split = 0.1,\n",
    "                                                         subset=\"validation\",\n",
    "                                                         seed = 69420,\n",
    "                                                         batch_size=16,\n",
    "                                                         image_size=(224,224))"
   ]
  },
  {
   "cell_type": "code",
   "execution_count": 6,
   "metadata": {},
   "outputs": [],
   "source": [
    "valid_dataset_unbatch = valid_dataset.unbatch()\n",
    "valid_imgs = list(valid_dataset_unbatch.map(lambda x, y: x))\n",
    "valid_labels= list(valid_dataset_unbatch.map(lambda x, y: y))"
   ]
  },
  {
   "cell_type": "code",
   "execution_count": 7,
   "metadata": {},
   "outputs": [],
   "source": [
    "data_aug = keras.Sequential([\n",
    "    tf.keras.layers.RandomFlip('horizontal'),\n",
    "    tf.keras.layers.RandomRotation(0.2),\n",
    "    tf.keras.layers.RandomBrightness(0.1),\n",
    "    tf.keras.layers.RandomContrast(0.1)\n",
    "])"
   ]
  },
  {
   "cell_type": "code",
   "execution_count": 8,
   "metadata": {},
   "outputs": [],
   "source": [
    "vggface_resnet_base = VGGFace(model='resnet50')"
   ]
  },
  {
   "cell_type": "code",
   "execution_count": 9,
   "metadata": {},
   "outputs": [
    {
     "name": "stdout",
     "output_type": "stream",
     "text": [
      "Inputs: [<KerasTensor: shape=(None, 224, 224, 3) dtype=float32 (created by layer 'input_1')>]\n",
      "Outputs: [<KerasTensor: shape=(None, 8631) dtype=float32 (created by layer 'classifier')>]\n"
     ]
    }
   ],
   "source": [
    "print('Inputs: %s' % vggface_resnet_base.inputs)\n",
    "print('Outputs: %s' % vggface_resnet_base.outputs)"
   ]
  },
  {
   "cell_type": "code",
   "execution_count": 10,
   "metadata": {},
   "outputs": [],
   "source": [
    "from keras.layers import Flatten, Dense, Input"
   ]
  },
  {
   "cell_type": "code",
   "execution_count": 11,
   "metadata": {},
   "outputs": [],
   "source": [
    "vggface_resnet_base.trainable = False\n",
    "last_layer = vggface_resnet_base.get_layer('avg_pool').output\n",
    "\n",
    "inputs = tf.keras.Input(shape=(224,224,3))\n",
    "\n",
    "x = data_aug(inputs)\n",
    "x = vggface_resnet_base(x)\n",
    "x = Flatten(name='flatten')(x)\n",
    "\n",
    "out = Dense(4, name='classifier')(x)\n",
    "custom_model = keras.Model(inputs, out)"
   ]
  },
  {
   "cell_type": "code",
   "execution_count": 12,
   "metadata": {},
   "outputs": [],
   "source": [
    "base_lr = 0.001\n",
    "\n",
    "custom_model.compile(optimizer=tf.keras.optimizers.legacy.Adam(learning_rate=base_lr),\n",
    "                     loss = tf.keras.losses.SparseCategoricalCrossentropy(from_logits=True),\n",
    "                     metrics=['accuracy'])"
   ]
  },
  {
   "cell_type": "code",
   "execution_count": 13,
   "metadata": {},
   "outputs": [
    {
     "name": "stdout",
     "output_type": "stream",
     "text": [
      "Model: \"model\"\n",
      "_________________________________________________________________\n",
      " Layer (type)                Output Shape              Param #   \n",
      "=================================================================\n",
      " input_2 (InputLayer)        [(None, 224, 224, 3)]     0         \n",
      "                                                                 \n",
      " sequential (Sequential)     (None, 224, 224, 3)       0         \n",
      "                                                                 \n",
      " vggface_resnet50 (Functiona  (None, 8631)             41246071  \n",
      " l)                                                              \n",
      "                                                                 \n",
      " flatten (Flatten)           (None, 8631)              0         \n",
      "                                                                 \n",
      " classifier (Dense)          (None, 4)                 34528     \n",
      "                                                                 \n",
      "=================================================================\n",
      "Total params: 41,280,599\n",
      "Trainable params: 34,528\n",
      "Non-trainable params: 41,246,071\n",
      "_________________________________________________________________\n"
     ]
    }
   ],
   "source": [
    "custom_model.summary()"
   ]
  },
  {
   "cell_type": "code",
   "execution_count": 14,
   "metadata": {},
   "outputs": [],
   "source": [
    "early_stopping = tf.keras.callbacks.EarlyStopping(monitor='loss',\n",
    "                                                  patience=5)"
   ]
  },
  {
   "cell_type": "code",
   "execution_count": 15,
   "metadata": {},
   "outputs": [
    {
     "name": "stdout",
     "output_type": "stream",
     "text": [
      "Epoch 1/300\n",
      "WARNING:tensorflow:Using a while_loop for converting RngReadAndSkip cause there is no registered converter for this op.\n",
      "WARNING:tensorflow:Using a while_loop for converting Bitcast cause there is no registered converter for this op.\n",
      "WARNING:tensorflow:Using a while_loop for converting Bitcast cause there is no registered converter for this op.\n",
      "WARNING:tensorflow:Using a while_loop for converting StatelessRandomUniformV2 cause there is no registered converter for this op.\n",
      "WARNING:tensorflow:Using a while_loop for converting ImageProjectiveTransformV3 cause there is no registered converter for this op.\n",
      "WARNING:tensorflow:Using a while_loop for converting RngReadAndSkip cause there is no registered converter for this op.\n",
      "WARNING:tensorflow:Using a while_loop for converting Bitcast cause there is no registered converter for this op.\n",
      "WARNING:tensorflow:Using a while_loop for converting Bitcast cause there is no registered converter for this op.\n",
      "WARNING:tensorflow:Using a while_loop for converting StatelessRandomUniformV2 cause there is no registered converter for this op.\n",
      "WARNING:tensorflow:Using a while_loop for converting RngReadAndSkip cause there is no registered converter for this op.\n",
      "WARNING:tensorflow:Using a while_loop for converting Bitcast cause there is no registered converter for this op.\n",
      "WARNING:tensorflow:Using a while_loop for converting Bitcast cause there is no registered converter for this op.\n",
      "WARNING:tensorflow:Using a while_loop for converting StatelessRandomUniformFullIntV2 cause there is no registered converter for this op.\n",
      "WARNING:tensorflow:Using a while_loop for converting StatelessRandomGetKeyCounter cause there is no registered converter for this op.\n",
      "WARNING:tensorflow:Using a while_loop for converting StatelessRandomUniformV2 cause there is no registered converter for this op.\n",
      "WARNING:tensorflow:Using a while_loop for converting AdjustContrastv2 cause Input \"contrast_factor\" of op 'AdjustContrastv2' expected to be loop invariant.\n",
      "WARNING:tensorflow:Using a while_loop for converting RngReadAndSkip cause there is no registered converter for this op.\n",
      "WARNING:tensorflow:Using a while_loop for converting Bitcast cause there is no registered converter for this op.\n",
      "WARNING:tensorflow:Using a while_loop for converting Bitcast cause there is no registered converter for this op.\n",
      "WARNING:tensorflow:Using a while_loop for converting StatelessRandomUniformV2 cause there is no registered converter for this op.\n",
      "WARNING:tensorflow:Using a while_loop for converting ImageProjectiveTransformV3 cause there is no registered converter for this op.\n",
      "WARNING:tensorflow:Using a while_loop for converting RngReadAndSkip cause there is no registered converter for this op.\n",
      "WARNING:tensorflow:Using a while_loop for converting Bitcast cause there is no registered converter for this op.\n",
      "WARNING:tensorflow:Using a while_loop for converting Bitcast cause there is no registered converter for this op.\n",
      "WARNING:tensorflow:Using a while_loop for converting StatelessRandomUniformV2 cause there is no registered converter for this op.\n",
      "WARNING:tensorflow:Using a while_loop for converting RngReadAndSkip cause there is no registered converter for this op.\n",
      "WARNING:tensorflow:Using a while_loop for converting Bitcast cause there is no registered converter for this op.\n",
      "WARNING:tensorflow:Using a while_loop for converting Bitcast cause there is no registered converter for this op.\n",
      "WARNING:tensorflow:Using a while_loop for converting StatelessRandomUniformFullIntV2 cause there is no registered converter for this op.\n",
      "WARNING:tensorflow:Using a while_loop for converting StatelessRandomGetKeyCounter cause there is no registered converter for this op.\n",
      "WARNING:tensorflow:Using a while_loop for converting StatelessRandomUniformV2 cause there is no registered converter for this op.\n",
      "WARNING:tensorflow:Using a while_loop for converting AdjustContrastv2 cause Input \"contrast_factor\" of op 'AdjustContrastv2' expected to be loop invariant.\n",
      "81/81 [==============================] - 68s 784ms/step - loss: 1.3507 - accuracy: 0.7140 - val_loss: 1.3074 - val_accuracy: 0.9371\n",
      "Epoch 2/300\n",
      "81/81 [==============================] - 62s 760ms/step - loss: 1.2859 - accuracy: 0.7915 - val_loss: 1.2390 - val_accuracy: 0.9510\n",
      "Epoch 3/300\n",
      "81/81 [==============================] - 58s 721ms/step - loss: 1.2302 - accuracy: 0.8380 - val_loss: 1.1800 - val_accuracy: 0.9580\n",
      "Epoch 4/300\n",
      "81/81 [==============================] - 59s 732ms/step - loss: 1.1819 - accuracy: 0.8581 - val_loss: 1.1268 - val_accuracy: 0.9650\n",
      "Epoch 5/300\n",
      "81/81 [==============================] - 59s 731ms/step - loss: 1.1425 - accuracy: 0.8395 - val_loss: 1.0812 - val_accuracy: 0.9650\n",
      "Epoch 6/300\n",
      "81/81 [==============================] - 56s 687ms/step - loss: 1.1028 - accuracy: 0.8550 - val_loss: 1.0374 - val_accuracy: 0.9720\n",
      "Epoch 7/300\n",
      "81/81 [==============================] - 56s 689ms/step - loss: 1.0678 - accuracy: 0.8581 - val_loss: 0.9961 - val_accuracy: 0.9720\n",
      "Epoch 8/300\n",
      "81/81 [==============================] - 56s 694ms/step - loss: 1.0333 - accuracy: 0.8558 - val_loss: 0.9582 - val_accuracy: 0.9720\n",
      "Epoch 9/300\n",
      "81/81 [==============================] - 56s 694ms/step - loss: 1.0100 - accuracy: 0.8426 - val_loss: 0.9239 - val_accuracy: 0.9720\n",
      "Epoch 10/300\n",
      "81/81 [==============================] - 59s 727ms/step - loss: 0.9800 - accuracy: 0.8527 - val_loss: 0.8916 - val_accuracy: 0.9790\n",
      "Epoch 11/300\n",
      "81/81 [==============================] - 62s 767ms/step - loss: 0.9540 - accuracy: 0.8543 - val_loss: 0.8602 - val_accuracy: 0.9790\n",
      "Epoch 12/300\n",
      "81/81 [==============================] - 64s 796ms/step - loss: 0.9286 - accuracy: 0.8752 - val_loss: 0.8312 - val_accuracy: 0.9790\n",
      "Epoch 13/300\n",
      "81/81 [==============================] - 59s 734ms/step - loss: 0.9119 - accuracy: 0.8550 - val_loss: 0.8045 - val_accuracy: 0.9790\n",
      "Epoch 14/300\n",
      "81/81 [==============================] - 56s 695ms/step - loss: 0.8959 - accuracy: 0.8512 - val_loss: 0.7793 - val_accuracy: 0.9790\n",
      "Epoch 15/300\n",
      "81/81 [==============================] - 56s 692ms/step - loss: 0.8728 - accuracy: 0.8589 - val_loss: 0.7544 - val_accuracy: 0.9790\n",
      "Epoch 16/300\n",
      "81/81 [==============================] - 56s 691ms/step - loss: 0.8580 - accuracy: 0.8434 - val_loss: 0.7316 - val_accuracy: 0.9790\n",
      "Epoch 17/300\n",
      "81/81 [==============================] - 56s 695ms/step - loss: 0.8373 - accuracy: 0.8597 - val_loss: 0.7089 - val_accuracy: 0.9790\n",
      "Epoch 18/300\n",
      "81/81 [==============================] - 59s 730ms/step - loss: 0.8100 - accuracy: 0.8736 - val_loss: 0.6870 - val_accuracy: 0.9860\n",
      "Epoch 19/300\n",
      "81/81 [==============================] - 58s 718ms/step - loss: 0.8055 - accuracy: 0.8457 - val_loss: 0.6666 - val_accuracy: 0.9860\n",
      "Epoch 20/300\n",
      "81/81 [==============================] - 58s 714ms/step - loss: 0.7861 - accuracy: 0.8550 - val_loss: 0.6469 - val_accuracy: 0.9860\n",
      "Epoch 21/300\n",
      "81/81 [==============================] - 58s 712ms/step - loss: 0.7716 - accuracy: 0.8481 - val_loss: 0.6279 - val_accuracy: 0.9860\n",
      "Epoch 22/300\n",
      "81/81 [==============================] - 58s 717ms/step - loss: 0.7494 - accuracy: 0.8659 - val_loss: 0.6086 - val_accuracy: 0.9860\n",
      "Epoch 23/300\n",
      "81/81 [==============================] - 58s 711ms/step - loss: 0.7497 - accuracy: 0.8558 - val_loss: 0.5918 - val_accuracy: 0.9860\n",
      "Epoch 24/300\n",
      "81/81 [==============================] - 58s 712ms/step - loss: 0.7396 - accuracy: 0.8481 - val_loss: 0.5755 - val_accuracy: 0.9860\n",
      "Epoch 25/300\n",
      "81/81 [==============================] - 57s 708ms/step - loss: 0.7206 - accuracy: 0.8581 - val_loss: 0.5595 - val_accuracy: 0.9930\n",
      "Epoch 26/300\n",
      "81/81 [==============================] - 60s 741ms/step - loss: 0.7044 - accuracy: 0.8535 - val_loss: 0.5439 - val_accuracy: 0.9930\n",
      "Epoch 27/300\n",
      "81/81 [==============================] - 61s 753ms/step - loss: 0.6846 - accuracy: 0.8736 - val_loss: 0.5286 - val_accuracy: 0.9930\n",
      "Epoch 28/300\n",
      "81/81 [==============================] - 61s 749ms/step - loss: 0.6759 - accuracy: 0.8729 - val_loss: 0.5139 - val_accuracy: 0.9930\n",
      "Epoch 29/300\n",
      "81/81 [==============================] - 57s 698ms/step - loss: 0.6681 - accuracy: 0.8667 - val_loss: 0.5001 - val_accuracy: 0.9930\n",
      "Epoch 30/300\n",
      "81/81 [==============================] - 56s 695ms/step - loss: 0.6644 - accuracy: 0.8581 - val_loss: 0.4874 - val_accuracy: 0.9930\n",
      "Epoch 31/300\n",
      "81/81 [==============================] - 57s 701ms/step - loss: 0.6524 - accuracy: 0.8558 - val_loss: 0.4753 - val_accuracy: 0.9930\n",
      "Epoch 32/300\n",
      "81/81 [==============================] - 56s 690ms/step - loss: 0.6332 - accuracy: 0.8643 - val_loss: 0.4634 - val_accuracy: 0.9930\n",
      "Epoch 33/300\n",
      "81/81 [==============================] - 62s 767ms/step - loss: 0.6252 - accuracy: 0.8783 - val_loss: 0.4512 - val_accuracy: 0.9930\n",
      "Epoch 34/300\n",
      "81/81 [==============================] - 64s 787ms/step - loss: 0.6238 - accuracy: 0.8589 - val_loss: 0.4400 - val_accuracy: 0.9930\n",
      "Epoch 35/300\n",
      "81/81 [==============================] - 62s 765ms/step - loss: 0.6121 - accuracy: 0.8674 - val_loss: 0.4292 - val_accuracy: 0.9930\n",
      "Epoch 36/300\n",
      "81/81 [==============================] - 63s 770ms/step - loss: 0.6037 - accuracy: 0.8721 - val_loss: 0.4189 - val_accuracy: 0.9930\n",
      "Epoch 37/300\n",
      "81/81 [==============================] - 63s 778ms/step - loss: 0.5945 - accuracy: 0.8667 - val_loss: 0.4086 - val_accuracy: 0.9930\n",
      "Epoch 38/300\n",
      "81/81 [==============================] - 68s 840ms/step - loss: 0.5896 - accuracy: 0.8574 - val_loss: 0.3991 - val_accuracy: 0.9930\n",
      "Epoch 39/300\n",
      "81/81 [==============================] - 110s 1s/step - loss: 0.5844 - accuracy: 0.8605 - val_loss: 0.3902 - val_accuracy: 0.9930\n",
      "Epoch 40/300\n",
      "81/81 [==============================] - 72s 886ms/step - loss: 0.5638 - accuracy: 0.8791 - val_loss: 0.3807 - val_accuracy: 0.9930\n",
      "Epoch 41/300\n",
      "81/81 [==============================] - 68s 840ms/step - loss: 0.5738 - accuracy: 0.8574 - val_loss: 0.3720 - val_accuracy: 0.9930\n",
      "Epoch 42/300\n",
      "81/81 [==============================] - 63s 778ms/step - loss: 0.5592 - accuracy: 0.8713 - val_loss: 0.3631 - val_accuracy: 0.9930\n",
      "Epoch 43/300\n",
      "81/81 [==============================] - 64s 793ms/step - loss: 0.5573 - accuracy: 0.8698 - val_loss: 0.3553 - val_accuracy: 0.9930\n",
      "Epoch 44/300\n",
      "81/81 [==============================] - 65s 797ms/step - loss: 0.5441 - accuracy: 0.8752 - val_loss: 0.3472 - val_accuracy: 0.9930\n",
      "Epoch 45/300\n",
      "81/81 [==============================] - 63s 783ms/step - loss: 0.5443 - accuracy: 0.8721 - val_loss: 0.3397 - val_accuracy: 0.9930\n",
      "Epoch 46/300\n",
      "81/81 [==============================] - 63s 773ms/step - loss: 0.5388 - accuracy: 0.8605 - val_loss: 0.3325 - val_accuracy: 0.9930\n",
      "Epoch 47/300\n",
      "81/81 [==============================] - 62s 767ms/step - loss: 0.5403 - accuracy: 0.8535 - val_loss: 0.3251 - val_accuracy: 0.9930\n",
      "Epoch 48/300\n",
      "81/81 [==============================] - 62s 766ms/step - loss: 0.5192 - accuracy: 0.8791 - val_loss: 0.3179 - val_accuracy: 0.9930\n",
      "Epoch 49/300\n",
      "81/81 [==============================] - 64s 790ms/step - loss: 0.5195 - accuracy: 0.8527 - val_loss: 0.3111 - val_accuracy: 0.9930\n",
      "Epoch 50/300\n",
      "81/81 [==============================] - 64s 794ms/step - loss: 0.5203 - accuracy: 0.8698 - val_loss: 0.3049 - val_accuracy: 0.9930\n",
      "Epoch 51/300\n",
      "81/81 [==============================] - 65s 796ms/step - loss: 0.5157 - accuracy: 0.8581 - val_loss: 0.2990 - val_accuracy: 0.9930\n",
      "Epoch 52/300\n",
      "81/81 [==============================] - 61s 751ms/step - loss: 0.4849 - accuracy: 0.8884 - val_loss: 0.2922 - val_accuracy: 0.9930\n",
      "Epoch 53/300\n",
      "81/81 [==============================] - 60s 745ms/step - loss: 0.4950 - accuracy: 0.8729 - val_loss: 0.2859 - val_accuracy: 0.9930\n",
      "Epoch 54/300\n",
      "81/81 [==============================] - 61s 747ms/step - loss: 0.4885 - accuracy: 0.8760 - val_loss: 0.2801 - val_accuracy: 0.9930\n",
      "Epoch 55/300\n",
      "81/81 [==============================] - 60s 745ms/step - loss: 0.4955 - accuracy: 0.8651 - val_loss: 0.2746 - val_accuracy: 0.9930\n",
      "Epoch 56/300\n",
      "81/81 [==============================] - 66s 818ms/step - loss: 0.4931 - accuracy: 0.8682 - val_loss: 0.2694 - val_accuracy: 0.9930\n",
      "Epoch 57/300\n",
      "81/81 [==============================] - 60s 744ms/step - loss: 0.4877 - accuracy: 0.8643 - val_loss: 0.2643 - val_accuracy: 0.9930\n"
     ]
    }
   ],
   "source": [
    "his = custom_model.fit(train_dataset, validation_data=valid_dataset, \n",
    "                       epochs=300, callbacks=[early_stopping])"
   ]
  },
  {
   "cell_type": "code",
   "execution_count": 16,
   "metadata": {},
   "outputs": [
    {
     "data": {
      "text/plain": [
       "Text(0, 0.5, 'Loss')"
      ]
     },
     "execution_count": 16,
     "metadata": {},
     "output_type": "execute_result"
    },
    {
     "data": {
      "image/png": "[encoded data removed]",
      "text/plain": [
       "<Figure size 640x480 with 1 Axes>"
      ]
     },
     "metadata": {},
     "output_type": "display_data"
    }
   ],
   "source": [
    "plt.figure()\n",
    "plt.plot(his.history['loss'])\n",
    "plt.plot(his.history['val_loss'])\n",
    "plt.title('Training Loss')\n",
    "plt.xlabel('Epoch #')\n",
    "plt.ylabel('Loss')"
   ]
  },
  {
   "cell_type": "code",
   "execution_count": 17,
   "metadata": {},
   "outputs": [
    {
     "data": {
      "text/plain": [
       "Text(0, 0.5, 'Accuracy')"
      ]
     },
     "execution_count": 17,
     "metadata": {},
     "output_type": "execute_result"
    },
    {
     "data": {
      "image/png": "[encoded data removed]",
      "text/plain": [
       "<Figure size 640x480 with 1 Axes>"
      ]
     },
     "metadata": {},
     "output_type": "display_data"
    }
   ],
   "source": [
    "plt.figure()\n",
    "plt.plot(his.history['accuracy'])\n",
    "plt.plot(his.history['val_accuracy'])\n",
    "plt.title('Training Accuracy')\n",
    "plt.xlabel('Epoch #')\n",
    "plt.ylabel('Accuracy')"
   ]
  },
  {
   "cell_type": "code",
   "execution_count": 18,
   "metadata": {},
   "outputs": [],
   "source": [
    "prob_model = keras.Sequential([custom_model,\n",
    "                               tf.keras.layers.Softmax()\n",
    "                               ])"
   ]
  },
  {
   "cell_type": "code",
   "execution_count": 19,
   "metadata": {},
   "outputs": [
    {
     "name": "stdout",
     "output_type": "stream",
     "text": [
      "WARNING:tensorflow:Compiled the loaded model, but the compiled metrics have yet to be built. `model.compile_metrics` will be empty until you train or evaluate the model.\n",
      "WARNING:tensorflow:Using a while_loop for converting RngReadAndSkip cause there is no registered converter for this op.\n",
      "WARNING:tensorflow:Using a while_loop for converting Bitcast cause there is no registered converter for this op.\n",
      "WARNING:tensorflow:Using a while_loop for converting Bitcast cause there is no registered converter for this op.\n",
      "WARNING:tensorflow:Using a while_loop for converting StatelessRandomUniformFullIntV2 cause there is no registered converter for this op.\n",
      "WARNING:tensorflow:Using a while_loop for converting StatelessRandomGetKeyCounter cause there is no registered converter for this op.\n",
      "WARNING:tensorflow:Using a while_loop for converting StatelessRandomUniformV2 cause there is no registered converter for this op.\n",
      "WARNING:tensorflow:Using a while_loop for converting AdjustContrastv2 cause Input \"contrast_factor\" of op 'AdjustContrastv2' expected to be loop invariant.\n",
      "WARNING:tensorflow:Using a while_loop for converting RngReadAndSkip cause there is no registered converter for this op.\n",
      "WARNING:tensorflow:Using a while_loop for converting Bitcast cause there is no registered converter for this op.\n",
      "WARNING:tensorflow:Using a while_loop for converting Bitcast cause there is no registered converter for this op.\n",
      "WARNING:tensorflow:Using a while_loop for converting StatelessRandomUniformV2 cause there is no registered converter for this op.\n",
      "WARNING:tensorflow:Using a while_loop for converting RngReadAndSkip cause there is no registered converter for this op.\n",
      "WARNING:tensorflow:Using a while_loop for converting Bitcast cause there is no registered converter for this op.\n",
      "WARNING:tensorflow:Using a while_loop for converting Bitcast cause there is no registered converter for this op.\n",
      "WARNING:tensorflow:Using a while_loop for converting StatelessRandomUniformV2 cause there is no registered converter for this op.\n",
      "WARNING:tensorflow:Using a while_loop for converting ImageProjectiveTransformV3 cause there is no registered converter for this op.\n",
      "WARNING:tensorflow:Using a while_loop for converting RngReadAndSkip cause there is no registered converter for this op.\n",
      "WARNING:tensorflow:Using a while_loop for converting Bitcast cause there is no registered converter for this op.\n",
      "WARNING:tensorflow:Using a while_loop for converting Bitcast cause there is no registered converter for this op.\n",
      "WARNING:tensorflow:Using a while_loop for converting StatelessRandomUniformV2 cause there is no registered converter for this op.\n",
      "WARNING:tensorflow:Using a while_loop for converting ImageProjectiveTransformV3 cause there is no registered converter for this op.\n",
      "WARNING:tensorflow:Using a while_loop for converting RngReadAndSkip cause there is no registered converter for this op.\n",
      "WARNING:tensorflow:Using a while_loop for converting Bitcast cause there is no registered converter for this op.\n",
      "WARNING:tensorflow:Using a while_loop for converting Bitcast cause there is no registered converter for this op.\n",
      "WARNING:tensorflow:Using a while_loop for converting StatelessRandomUniformV2 cause there is no registered converter for this op.\n",
      "WARNING:tensorflow:Using a while_loop for converting RngReadAndSkip cause there is no registered converter for this op.\n",
      "WARNING:tensorflow:Using a while_loop for converting Bitcast cause there is no registered converter for this op.\n",
      "WARNING:tensorflow:Using a while_loop for converting Bitcast cause there is no registered converter for this op.\n",
      "WARNING:tensorflow:Using a while_loop for converting StatelessRandomUniformFullIntV2 cause there is no registered converter for this op.\n",
      "WARNING:tensorflow:Using a while_loop for converting StatelessRandomGetKeyCounter cause there is no registered converter for this op.\n",
      "WARNING:tensorflow:Using a while_loop for converting StatelessRandomUniformV2 cause there is no registered converter for this op.\n",
      "WARNING:tensorflow:Using a while_loop for converting AdjustContrastv2 cause Input \"contrast_factor\" of op 'AdjustContrastv2' expected to be loop invariant.\n",
      "WARNING:tensorflow:Using a while_loop for converting RngReadAndSkip cause there is no registered converter for this op.\n",
      "WARNING:tensorflow:Using a while_loop for converting Bitcast cause there is no registered converter for this op.\n",
      "WARNING:tensorflow:Using a while_loop for converting Bitcast cause there is no registered converter for this op.\n",
      "WARNING:tensorflow:Using a while_loop for converting StatelessRandomUniformV2 cause there is no registered converter for this op.\n",
      "WARNING:tensorflow:Using a while_loop for converting ImageProjectiveTransformV3 cause there is no registered converter for this op.\n",
      "WARNING:tensorflow:Using a while_loop for converting RngReadAndSkip cause there is no registered converter for this op.\n",
      "WARNING:tensorflow:Using a while_loop for converting Bitcast cause there is no registered converter for this op.\n",
      "WARNING:tensorflow:Using a while_loop for converting Bitcast cause there is no registered converter for this op.\n",
      "WARNING:tensorflow:Using a while_loop for converting StatelessRandomUniformV2 cause there is no registered converter for this op.\n",
      "WARNING:tensorflow:Using a while_loop for converting RngReadAndSkip cause there is no registered converter for this op.\n",
      "WARNING:tensorflow:Using a while_loop for converting Bitcast cause there is no registered converter for this op.\n",
      "WARNING:tensorflow:Using a while_loop for converting Bitcast cause there is no registered converter for this op.\n",
      "WARNING:tensorflow:Using a while_loop for converting StatelessRandomUniformFullIntV2 cause there is no registered converter for this op.\n",
      "WARNING:tensorflow:Using a while_loop for converting StatelessRandomGetKeyCounter cause there is no registered converter for this op.\n",
      "WARNING:tensorflow:Using a while_loop for converting StatelessRandomUniformV2 cause there is no registered converter for this op.\n",
      "WARNING:tensorflow:Using a while_loop for converting AdjustContrastv2 cause Input \"contrast_factor\" of op 'AdjustContrastv2' expected to be loop invariant.\n",
      "WARNING:tensorflow:Using a while_loop for converting RngReadAndSkip cause there is no registered converter for this op.\n",
      "WARNING:tensorflow:Using a while_loop for converting Bitcast cause there is no registered converter for this op.\n",
      "WARNING:tensorflow:Using a while_loop for converting Bitcast cause there is no registered converter for this op.\n",
      "WARNING:tensorflow:Using a while_loop for converting StatelessRandomUniformV2 cause there is no registered converter for this op.\n",
      "WARNING:tensorflow:Using a while_loop for converting ImageProjectiveTransformV3 cause there is no registered converter for this op.\n",
      "WARNING:tensorflow:Using a while_loop for converting RngReadAndSkip cause there is no registered converter for this op.\n",
      "WARNING:tensorflow:Using a while_loop for converting Bitcast cause there is no registered converter for this op.\n",
      "WARNING:tensorflow:Using a while_loop for converting Bitcast cause there is no registered converter for this op.\n",
      "WARNING:tensorflow:Using a while_loop for converting StatelessRandomUniformV2 cause there is no registered converter for this op.\n",
      "WARNING:tensorflow:Using a while_loop for converting RngReadAndSkip cause there is no registered converter for this op.\n",
      "WARNING:tensorflow:Using a while_loop for converting Bitcast cause there is no registered converter for this op.\n",
      "WARNING:tensorflow:Using a while_loop for converting Bitcast cause there is no registered converter for this op.\n",
      "WARNING:tensorflow:Using a while_loop for converting StatelessRandomUniformFullIntV2 cause there is no registered converter for this op.\n",
      "WARNING:tensorflow:Using a while_loop for converting StatelessRandomGetKeyCounter cause there is no registered converter for this op.\n",
      "WARNING:tensorflow:Using a while_loop for converting StatelessRandomUniformV2 cause there is no registered converter for this op.\n",
      "WARNING:tensorflow:Using a while_loop for converting AdjustContrastv2 cause Input \"contrast_factor\" of op 'AdjustContrastv2' expected to be loop invariant.\n",
      "WARNING:tensorflow:Using a while_loop for converting RngReadAndSkip cause there is no registered converter for this op.\n",
      "WARNING:tensorflow:Using a while_loop for converting Bitcast cause there is no registered converter for this op.\n",
      "WARNING:tensorflow:Using a while_loop for converting Bitcast cause there is no registered converter for this op.\n",
      "WARNING:tensorflow:Using a while_loop for converting StatelessRandomUniformV2 cause there is no registered converter for this op.\n",
      "WARNING:tensorflow:Using a while_loop for converting ImageProjectiveTransformV3 cause there is no registered converter for this op.\n",
      "WARNING:tensorflow:Using a while_loop for converting RngReadAndSkip cause there is no registered converter for this op.\n",
      "WARNING:tensorflow:Using a while_loop for converting Bitcast cause there is no registered converter for this op.\n",
      "WARNING:tensorflow:Using a while_loop for converting Bitcast cause there is no registered converter for this op.\n",
      "WARNING:tensorflow:Using a while_loop for converting StatelessRandomUniformV2 cause there is no registered converter for this op.\n",
      "WARNING:tensorflow:Using a while_loop for converting RngReadAndSkip cause there is no registered converter for this op.\n",
      "WARNING:tensorflow:Using a while_loop for converting Bitcast cause there is no registered converter for this op.\n",
      "WARNING:tensorflow:Using a while_loop for converting Bitcast cause there is no registered converter for this op.\n",
      "WARNING:tensorflow:Using a while_loop for converting StatelessRandomUniformFullIntV2 cause there is no registered converter for this op.\n",
      "WARNING:tensorflow:Using a while_loop for converting StatelessRandomGetKeyCounter cause there is no registered converter for this op.\n",
      "WARNING:tensorflow:Using a while_loop for converting StatelessRandomUniformV2 cause there is no registered converter for this op.\n",
      "WARNING:tensorflow:Using a while_loop for converting AdjustContrastv2 cause Input \"contrast_factor\" of op 'AdjustContrastv2' expected to be loop invariant.\n"
     ]
    },
    {
     "name": "stderr",
     "output_type": "stream",
     "text": [
      "WARNING:absl:Found untraced functions such as _jit_compiled_convolution_op, _jit_compiled_convolution_op, _jit_compiled_convolution_op, _jit_compiled_convolution_op, _jit_compiled_convolution_op while saving (showing 5 of 53). These functions will not be directly callable after loading.\n"
     ]
    },
    {
     "name": "stdout",
     "output_type": "stream",
     "text": [
      "INFO:tensorflow:Assets written to: model/model_2025-09-05_1757054932.673626.tf\\assets\n"
     ]
    },
    {
     "name": "stderr",
     "output_type": "stream",
     "text": [
      "INFO:tensorflow:Assets written to: model/model_2025-09-05_1757054932.673626.tf\\assets\n"
     ]
    }
   ],
   "source": [
    "time_stamp = datetime.datetime.now()\n",
    "time_stamp.strftime(\"%d_%b_%y_%H_%M_%S\")\n",
    "prob_model.save(f\"model/model_{time_stamp.date()}_{time_stamp.timestamp()}.tf\")"
   ]
  }
 ],
 "metadata": {
  "kernelspec": {
   "display_name": "tf-gpu",
   "language": "python",
   "name": "python3"
  },
  "language_info": {
   "codemirror_mode": {
    "name": "ipython",
    "version": 3
   },
   "file_extension": ".py",
   "mimetype": "text/x-python",
   "name": "python",
   "nbconvert_exporter": "python",
   "pygments_lexer": "ipython3",
   "version": "3.10.18"
  },
  "orig_nbformat": 4
 },
 "nbformat": 4,
 "nbformat_minor": 2
}
