{
 "cells": [
  {
   "cell_type": "code",
   "execution_count": 1,
   "metadata": {},
   "outputs": [
    {
     "name": "stderr",
     "output_type": "stream",
     "text": [
      "2023-09-12 20:38:21.678574: I tensorflow/core/platform/cpu_feature_guard.cc:182] This TensorFlow binary is optimized to use available CPU instructions in performance-critical operations.\n",
      "To enable the following instructions: AVX2 FMA, in other operations, rebuild TensorFlow with the appropriate compiler flags.\n",
      "2023-09-12 20:38:22.279925: W tensorflow/compiler/tf2tensorrt/utils/py_utils.cc:38] TF-TRT Warning: Could not find TensorRT\n"
     ]
    }
   ],
   "source": [
    "import tensorflow as tf\n",
    "import keras\n",
    "from keras_vggface.vggface import VGGFace\n",
    "import cv2\n",
    "from matplotlib import pyplot as plt\n",
    "import datetime"
   ]
  },
  {
   "cell_type": "code",
   "execution_count": 2,
   "metadata": {},
   "outputs": [
    {
     "name": "stderr",
     "output_type": "stream",
     "text": [
      "2023-09-12 20:38:29.030484: I tensorflow/compiler/xla/stream_executor/cuda/cuda_gpu_executor.cc:996] successful NUMA node read from SysFS had negative value (-1), but there must be at least one NUMA node, so returning NUMA node zero. See more at https://github.com/torvalds/linux/blob/v6.0/Documentation/ABI/testing/sysfs-bus-pci#L344-L355\n",
      "2023-09-12 20:38:29.054699: I tensorflow/compiler/xla/stream_executor/cuda/cuda_gpu_executor.cc:996] successful NUMA node read from SysFS had negative value (-1), but there must be at least one NUMA node, so returning NUMA node zero. See more at https://github.com/torvalds/linux/blob/v6.0/Documentation/ABI/testing/sysfs-bus-pci#L344-L355\n",
      "2023-09-12 20:38:29.054900: I tensorflow/compiler/xla/stream_executor/cuda/cuda_gpu_executor.cc:996] successful NUMA node read from SysFS had negative value (-1), but there must be at least one NUMA node, so returning NUMA node zero. See more at https://github.com/torvalds/linux/blob/v6.0/Documentation/ABI/testing/sysfs-bus-pci#L344-L355\n"
     ]
    },
    {
     "data": {
      "text/plain": [
       "[PhysicalDevice(name='/physical_device:GPU:0', device_type='GPU')]"
      ]
     },
     "execution_count": 2,
     "metadata": {},
     "output_type": "execute_result"
    }
   ],
   "source": [
    "tf.config.list_physical_devices('GPU')"
   ]
  },
  {
   "cell_type": "code",
   "execution_count": 3,
   "metadata": {},
   "outputs": [
    {
     "name": "stdout",
     "output_type": "stream",
     "text": [
      "Found 1792 files belonging to 4 classes.\n",
      "Using 1613 files for training.\n"
     ]
    },
    {
     "name": "stderr",
     "output_type": "stream",
     "text": [
      "2023-09-12 20:38:37.541141: I tensorflow/compiler/xla/stream_executor/cuda/cuda_gpu_executor.cc:996] successful NUMA node read from SysFS had negative value (-1), but there must be at least one NUMA node, so returning NUMA node zero. See more at https://github.com/torvalds/linux/blob/v6.0/Documentation/ABI/testing/sysfs-bus-pci#L344-L355\n",
      "2023-09-12 20:38:37.541317: I tensorflow/compiler/xla/stream_executor/cuda/cuda_gpu_executor.cc:996] successful NUMA node read from SysFS had negative value (-1), but there must be at least one NUMA node, so returning NUMA node zero. See more at https://github.com/torvalds/linux/blob/v6.0/Documentation/ABI/testing/sysfs-bus-pci#L344-L355\n",
      "2023-09-12 20:38:37.541423: I tensorflow/compiler/xla/stream_executor/cuda/cuda_gpu_executor.cc:996] successful NUMA node read from SysFS had negative value (-1), but there must be at least one NUMA node, so returning NUMA node zero. See more at https://github.com/torvalds/linux/blob/v6.0/Documentation/ABI/testing/sysfs-bus-pci#L344-L355\n",
      "2023-09-12 20:38:38.349913: I tensorflow/compiler/xla/stream_executor/cuda/cuda_gpu_executor.cc:996] successful NUMA node read from SysFS had negative value (-1), but there must be at least one NUMA node, so returning NUMA node zero. See more at https://github.com/torvalds/linux/blob/v6.0/Documentation/ABI/testing/sysfs-bus-pci#L344-L355\n",
      "2023-09-12 20:38:38.350072: I tensorflow/compiler/xla/stream_executor/cuda/cuda_gpu_executor.cc:996] successful NUMA node read from SysFS had negative value (-1), but there must be at least one NUMA node, so returning NUMA node zero. See more at https://github.com/torvalds/linux/blob/v6.0/Documentation/ABI/testing/sysfs-bus-pci#L344-L355\n",
      "2023-09-12 20:38:38.350185: I tensorflow/compiler/xla/stream_executor/cuda/cuda_gpu_executor.cc:996] successful NUMA node read from SysFS had negative value (-1), but there must be at least one NUMA node, so returning NUMA node zero. See more at https://github.com/torvalds/linux/blob/v6.0/Documentation/ABI/testing/sysfs-bus-pci#L344-L355\n",
      "2023-09-12 20:38:38.350273: I tensorflow/core/common_runtime/gpu/gpu_device.cc:1635] Created device /job:localhost/replica:0/task:0/device:GPU:0 with 4069 MB memory:  -> device: 0, name: NVIDIA GeForce RTX 3060 Laptop GPU, pci bus id: 0000:01:00.0, compute capability: 8.6\n"
     ]
    }
   ],
   "source": [
    "train_dataset = keras.utils.image_dataset_from_directory('datasets_VGG',\n",
    "                                                         validation_split = 0.1,\n",
    "                                                         subset=\"training\",\n",
    "                                                         seed = 69420,\n",
    "                                                         batch_size=16,\n",
    "                                                         image_size=(224,224))"
   ]
  },
  {
   "cell_type": "code",
   "execution_count": 4,
   "metadata": {},
   "outputs": [
    {
     "name": "stdout",
     "output_type": "stream",
     "text": [
      "Found 1792 files belonging to 4 classes.\n",
      "Using 179 files for validation.\n"
     ]
    }
   ],
   "source": [
    "valid_dataset = keras.utils.image_dataset_from_directory('datasets_VGG',\n",
    "                                                         validation_split = 0.1,\n",
    "                                                         subset=\"validation\",\n",
    "                                                         seed = 69420,\n",
    "                                                         batch_size=16,\n",
    "                                                         image_size=(224,224))"
   ]
  },
  {
   "cell_type": "code",
   "execution_count": 5,
   "metadata": {},
   "outputs": [],
   "source": [
    "data_aug = keras.Sequential([\n",
    "    tf.keras.layers.RandomFlip('horizontal'),\n",
    "    tf.keras.layers.RandomRotation(0.2),\n",
    "    tf.keras.layers.RandomBrightness(0.1),\n",
    "    tf.keras.layers.RandomContrast(0.1)\n",
    "])"
   ]
  },
  {
   "cell_type": "code",
   "execution_count": 6,
   "metadata": {},
   "outputs": [],
   "source": [
    "vggface_resnet_base = VGGFace(model='resnet50')"
   ]
  },
  {
   "cell_type": "code",
   "execution_count": 7,
   "metadata": {},
   "outputs": [
    {
     "name": "stdout",
     "output_type": "stream",
     "text": [
      "Inputs: [<KerasTensor: shape=(None, 224, 224, 3) dtype=float32 (created by layer 'input_1')>]\n",
      "Outputs: [<KerasTensor: shape=(None, 8631) dtype=float32 (created by layer 'classifier')>]\n"
     ]
    }
   ],
   "source": [
    "print('Inputs: %s' % vggface_resnet_base.inputs)\n",
    "print('Outputs: %s' % vggface_resnet_base.outputs)"
   ]
  },
  {
   "cell_type": "code",
   "execution_count": 8,
   "metadata": {},
   "outputs": [],
   "source": [
    "from keras.layers import Flatten, Dense, Input\n",
    "from keras_vggface.vggface import VGGFace"
   ]
  },
  {
   "cell_type": "code",
   "execution_count": 9,
   "metadata": {},
   "outputs": [],
   "source": [
    "number_class = 4"
   ]
  },
  {
   "cell_type": "code",
   "execution_count": 10,
   "metadata": {},
   "outputs": [],
   "source": [
    "vggface_resnet_base.trainable = False\n",
    "last_layer = vggface_resnet_base.get_layer('avg_pool').output\n",
    "\n",
    "inputs = tf.keras.Input(shape=(224,224,3))\n",
    "\n",
    "x = data_aug(inputs)\n",
    "x = vggface_resnet_base(x)\n",
    "x = Flatten(name='flatten')(x)\n",
    "\n",
    "out = Dense(4, name='classifier')(x)\n",
    "custom_model = keras.Model(inputs, out)"
   ]
  },
  {
   "cell_type": "code",
   "execution_count": 11,
   "metadata": {},
   "outputs": [],
   "source": [
    "base_lr = 0.0005\n",
    "\n",
    "custom_model.compile(optimizer=tf.keras.optimizers.Adam(learning_rate=base_lr),\n",
    "                     loss = tf.keras.losses.SparseCategoricalCrossentropy(from_logits=True),\n",
    "                     metrics=['accuracy'])"
   ]
  },
  {
   "cell_type": "code",
   "execution_count": 12,
   "metadata": {},
   "outputs": [
    {
     "name": "stdout",
     "output_type": "stream",
     "text": [
      "Model: \"model\"\n",
      "_________________________________________________________________\n",
      " Layer (type)                Output Shape              Param #   \n",
      "=================================================================\n",
      " input_2 (InputLayer)        [(None, 224, 224, 3)]     0         \n",
      "                                                                 \n",
      " sequential (Sequential)     (None, 224, 224, 3)       0         \n",
      "                                                                 \n",
      " vggface_resnet50 (Functiona  (None, 8631)             41246071  \n",
      " l)                                                              \n",
      "                                                                 \n",
      " flatten (Flatten)           (None, 8631)              0         \n",
      "                                                                 \n",
      " classifier (Dense)          (None, 4)                 34528     \n",
      "                                                                 \n",
      "=================================================================\n",
      "Total params: 41,280,599\n",
      "Trainable params: 34,528\n",
      "Non-trainable params: 41,246,071\n",
      "_________________________________________________________________\n"
     ]
    }
   ],
   "source": [
    "custom_model.summary()"
   ]
  },
  {
   "cell_type": "code",
   "execution_count": 13,
   "metadata": {},
   "outputs": [],
   "source": [
    "early_stopping = tf.keras.callbacks.EarlyStopping(monitor='loss',\n",
    "                                                  patience=5)"
   ]
  },
  {
   "cell_type": "code",
   "execution_count": 14,
   "metadata": {},
   "outputs": [
    {
     "name": "stdout",
     "output_type": "stream",
     "text": [
      "Epoch 1/300\n"
     ]
    },
    {
     "name": "stderr",
     "output_type": "stream",
     "text": [
      "2023-09-12 20:38:40.082405: I tensorflow/core/common_runtime/executor.cc:1197] [/device:CPU:0] (DEBUG INFO) Executor start aborting (this does not indicate an error and you can ignore this message): INVALID_ARGUMENT: You must feed a value for placeholder tensor 'Placeholder/_4' with dtype int32 and shape [1613]\n",
      "\t [[{{node Placeholder/_4}}]]\n",
      "2023-09-12 20:38:40.082695: I tensorflow/core/common_runtime/executor.cc:1197] [/device:CPU:0] (DEBUG INFO) Executor start aborting (this does not indicate an error and you can ignore this message): INVALID_ARGUMENT: You must feed a value for placeholder tensor 'Placeholder/_4' with dtype int32 and shape [1613]\n",
      "\t [[{{node Placeholder/_4}}]]\n",
      "2023-09-12 20:38:43.609948: I tensorflow/compiler/xla/stream_executor/cuda/cuda_dnn.cc:424] Loaded cuDNN version 8600\n",
      "2023-09-12 20:38:44.912491: I tensorflow/compiler/xla/stream_executor/cuda/cuda_blas.cc:637] TensorFloat-32 will be used for the matrix multiplication. This will only be logged once.\n",
      "2023-09-12 20:38:45.475220: I tensorflow/compiler/xla/service/service.cc:169] XLA service 0x7f1de6a4f7e0 initialized for platform CUDA (this does not guarantee that XLA will be used). Devices:\n",
      "2023-09-12 20:38:45.475265: I tensorflow/compiler/xla/service/service.cc:177]   StreamExecutor device (0): NVIDIA GeForce RTX 3060 Laptop GPU, Compute Capability 8.6\n",
      "2023-09-12 20:38:45.503996: I tensorflow/compiler/mlir/tensorflow/utils/dump_mlir_util.cc:269] disabling MLIR crash reproducer, set env var `MLIR_CRASH_REPRODUCER_DIRECTORY` to enable.\n"
     ]
    },
    {
     "name": "stdout",
     "output_type": "stream",
     "text": [
      "  3/101 [..............................] - ETA: 3s - loss: 1.3852 - accuracy: 0.3958  "
     ]
    },
    {
     "name": "stderr",
     "output_type": "stream",
     "text": [
      "2023-09-12 20:38:45.753954: I ./tensorflow/compiler/jit/device_compiler.h:180] Compiled cluster using XLA!  This line is logged at most once for the lifetime of the process.\n"
     ]
    },
    {
     "name": "stdout",
     "output_type": "stream",
     "text": [
      "101/101 [==============================] - ETA: 0s - loss: 1.3715 - accuracy: 0.4265"
     ]
    },
    {
     "name": "stderr",
     "output_type": "stream",
     "text": [
      "2023-09-12 20:38:50.421212: I tensorflow/core/common_runtime/executor.cc:1197] [/device:CPU:0] (DEBUG INFO) Executor start aborting (this does not indicate an error and you can ignore this message): INVALID_ARGUMENT: You must feed a value for placeholder tensor 'Placeholder/_4' with dtype int32 and shape [179]\n",
      "\t [[{{node Placeholder/_4}}]]\n",
      "2023-09-12 20:38:50.421437: I tensorflow/core/common_runtime/executor.cc:1197] [/device:CPU:0] (DEBUG INFO) Executor start aborting (this does not indicate an error and you can ignore this message): INVALID_ARGUMENT: You must feed a value for placeholder tensor 'Placeholder/_4' with dtype int32 and shape [179]\n",
      "\t [[{{node Placeholder/_4}}]]\n"
     ]
    },
    {
     "name": "stdout",
     "output_type": "stream",
     "text": [
      "101/101 [==============================] - 12s 59ms/step - loss: 1.3715 - accuracy: 0.4265 - val_loss: 1.3488 - val_accuracy: 0.4302\n",
      "Epoch 2/300\n",
      "101/101 [==============================] - 4s 43ms/step - loss: 1.3469 - accuracy: 0.4216 - val_loss: 1.3186 - val_accuracy: 0.4246\n",
      "Epoch 3/300\n",
      "101/101 [==============================] - 4s 43ms/step - loss: 1.3249 - accuracy: 0.4141 - val_loss: 1.2902 - val_accuracy: 0.4190\n",
      "Epoch 4/300\n",
      "101/101 [==============================] - 4s 43ms/step - loss: 1.3063 - accuracy: 0.4160 - val_loss: 1.2640 - val_accuracy: 0.4190\n",
      "Epoch 5/300\n",
      "101/101 [==============================] - 4s 43ms/step - loss: 1.2870 - accuracy: 0.4160 - val_loss: 1.2389 - val_accuracy: 0.4246\n",
      "Epoch 6/300\n",
      "101/101 [==============================] - 4s 43ms/step - loss: 1.2707 - accuracy: 0.4172 - val_loss: 1.2154 - val_accuracy: 0.4302\n",
      "Epoch 7/300\n",
      "101/101 [==============================] - 4s 43ms/step - loss: 1.2554 - accuracy: 0.4191 - val_loss: 1.1935 - val_accuracy: 0.4302\n",
      "Epoch 8/300\n",
      "101/101 [==============================] - 4s 43ms/step - loss: 1.2376 - accuracy: 0.4321 - val_loss: 1.1717 - val_accuracy: 0.4302\n",
      "Epoch 9/300\n",
      "101/101 [==============================] - 4s 43ms/step - loss: 1.2272 - accuracy: 0.4383 - val_loss: 1.1519 - val_accuracy: 0.4469\n",
      "Epoch 10/300\n",
      "101/101 [==============================] - 4s 43ms/step - loss: 1.2120 - accuracy: 0.4476 - val_loss: 1.1319 - val_accuracy: 0.4581\n",
      "Epoch 11/300\n",
      "101/101 [==============================] - 4s 43ms/step - loss: 1.1977 - accuracy: 0.4681 - val_loss: 1.1128 - val_accuracy: 0.5084\n",
      "Epoch 12/300\n",
      "101/101 [==============================] - 4s 44ms/step - loss: 1.1834 - accuracy: 0.4786 - val_loss: 1.0939 - val_accuracy: 0.5363\n",
      "Epoch 13/300\n",
      "101/101 [==============================] - 4s 44ms/step - loss: 1.1732 - accuracy: 0.4966 - val_loss: 1.0756 - val_accuracy: 0.5922\n",
      "Epoch 14/300\n",
      "101/101 [==============================] - 4s 44ms/step - loss: 1.1660 - accuracy: 0.5115 - val_loss: 1.0588 - val_accuracy: 0.6425\n",
      "Epoch 15/300\n",
      "101/101 [==============================] - 4s 44ms/step - loss: 1.1506 - accuracy: 0.5282 - val_loss: 1.0416 - val_accuracy: 0.6927\n",
      "Epoch 16/300\n",
      "101/101 [==============================] - 4s 44ms/step - loss: 1.1373 - accuracy: 0.5530 - val_loss: 1.0250 - val_accuracy: 0.7709\n",
      "Epoch 17/300\n",
      "101/101 [==============================] - 4s 44ms/step - loss: 1.1336 - accuracy: 0.5828 - val_loss: 1.0090 - val_accuracy: 0.8268\n",
      "Epoch 18/300\n",
      "101/101 [==============================] - 4s 43ms/step - loss: 1.1108 - accuracy: 0.6082 - val_loss: 0.9922 - val_accuracy: 0.8603\n",
      "Epoch 19/300\n",
      "101/101 [==============================] - 4s 44ms/step - loss: 1.1059 - accuracy: 0.6224 - val_loss: 0.9763 - val_accuracy: 0.8994\n",
      "Epoch 20/300\n",
      "101/101 [==============================] - 4s 44ms/step - loss: 1.1019 - accuracy: 0.6311 - val_loss: 0.9610 - val_accuracy: 0.9218\n",
      "Epoch 21/300\n",
      "101/101 [==============================] - 4s 44ms/step - loss: 1.0815 - accuracy: 0.6702 - val_loss: 0.9454 - val_accuracy: 0.9385\n",
      "Epoch 22/300\n",
      "101/101 [==============================] - 4s 44ms/step - loss: 1.0595 - accuracy: 0.6937 - val_loss: 0.9293 - val_accuracy: 0.9441\n",
      "Epoch 23/300\n",
      "101/101 [==============================] - 4s 44ms/step - loss: 1.0506 - accuracy: 0.7105 - val_loss: 0.9133 - val_accuracy: 0.9721\n",
      "Epoch 24/300\n",
      "101/101 [==============================] - 4s 44ms/step - loss: 1.0505 - accuracy: 0.6900 - val_loss: 0.8985 - val_accuracy: 0.9721\n",
      "Epoch 25/300\n",
      "101/101 [==============================] - 4s 44ms/step - loss: 1.0330 - accuracy: 0.7111 - val_loss: 0.8839 - val_accuracy: 0.9777\n",
      "Epoch 26/300\n",
      "101/101 [==============================] - 4s 44ms/step - loss: 1.0383 - accuracy: 0.7111 - val_loss: 0.8700 - val_accuracy: 0.9888\n",
      "Epoch 27/300\n",
      "101/101 [==============================] - 4s 44ms/step - loss: 1.0265 - accuracy: 0.7167 - val_loss: 0.8565 - val_accuracy: 0.9888\n",
      "Epoch 28/300\n",
      "101/101 [==============================] - 4s 44ms/step - loss: 1.0134 - accuracy: 0.7272 - val_loss: 0.8430 - val_accuracy: 0.9888\n",
      "Epoch 29/300\n",
      "101/101 [==============================] - 4s 44ms/step - loss: 1.0098 - accuracy: 0.7247 - val_loss: 0.8298 - val_accuracy: 0.9888\n",
      "Epoch 30/300\n",
      "101/101 [==============================] - 4s 44ms/step - loss: 0.9991 - accuracy: 0.7334 - val_loss: 0.8167 - val_accuracy: 0.9888\n",
      "Epoch 31/300\n",
      "101/101 [==============================] - 4s 44ms/step - loss: 0.9897 - accuracy: 0.7378 - val_loss: 0.8038 - val_accuracy: 0.9832\n",
      "Epoch 32/300\n",
      "101/101 [==============================] - 4s 44ms/step - loss: 0.9942 - accuracy: 0.7241 - val_loss: 0.7919 - val_accuracy: 0.9888\n",
      "Epoch 33/300\n",
      "101/101 [==============================] - 4s 44ms/step - loss: 0.9728 - accuracy: 0.7446 - val_loss: 0.7798 - val_accuracy: 0.9888\n",
      "Epoch 34/300\n",
      "101/101 [==============================] - 4s 44ms/step - loss: 0.9703 - accuracy: 0.7452 - val_loss: 0.7682 - val_accuracy: 0.9888\n",
      "Epoch 35/300\n",
      "101/101 [==============================] - 4s 44ms/step - loss: 0.9662 - accuracy: 0.7384 - val_loss: 0.7566 - val_accuracy: 0.9888\n",
      "Epoch 36/300\n",
      "101/101 [==============================] - 4s 43ms/step - loss: 0.9353 - accuracy: 0.7582 - val_loss: 0.7443 - val_accuracy: 0.9888\n",
      "Epoch 37/300\n",
      "101/101 [==============================] - 4s 43ms/step - loss: 0.9328 - accuracy: 0.7688 - val_loss: 0.7323 - val_accuracy: 0.9888\n",
      "Epoch 38/300\n",
      "101/101 [==============================] - 4s 44ms/step - loss: 0.9359 - accuracy: 0.7446 - val_loss: 0.7207 - val_accuracy: 0.9888\n",
      "Epoch 39/300\n",
      "101/101 [==============================] - 4s 44ms/step - loss: 0.9121 - accuracy: 0.7669 - val_loss: 0.7093 - val_accuracy: 0.9888\n",
      "Epoch 40/300\n",
      "101/101 [==============================] - 4s 44ms/step - loss: 0.9220 - accuracy: 0.7588 - val_loss: 0.6984 - val_accuracy: 0.9888\n",
      "Epoch 41/300\n",
      "101/101 [==============================] - 4s 44ms/step - loss: 0.9024 - accuracy: 0.7681 - val_loss: 0.6875 - val_accuracy: 0.9888\n",
      "Epoch 42/300\n",
      "101/101 [==============================] - 4s 44ms/step - loss: 0.9015 - accuracy: 0.7638 - val_loss: 0.6768 - val_accuracy: 0.9888\n",
      "Epoch 43/300\n",
      "101/101 [==============================] - 4s 44ms/step - loss: 0.8953 - accuracy: 0.7663 - val_loss: 0.6663 - val_accuracy: 0.9832\n",
      "Epoch 44/300\n",
      "101/101 [==============================] - 4s 44ms/step - loss: 0.8753 - accuracy: 0.7774 - val_loss: 0.6556 - val_accuracy: 0.9832\n",
      "Epoch 45/300\n",
      "101/101 [==============================] - 4s 44ms/step - loss: 0.8728 - accuracy: 0.7768 - val_loss: 0.6450 - val_accuracy: 0.9832\n",
      "Epoch 46/300\n",
      "101/101 [==============================] - 4s 43ms/step - loss: 0.8679 - accuracy: 0.7694 - val_loss: 0.6351 - val_accuracy: 0.9832\n",
      "Epoch 47/300\n",
      "101/101 [==============================] - 4s 43ms/step - loss: 0.8785 - accuracy: 0.7539 - val_loss: 0.6256 - val_accuracy: 0.9832\n",
      "Epoch 48/300\n",
      "101/101 [==============================] - 4s 44ms/step - loss: 0.8722 - accuracy: 0.7570 - val_loss: 0.6166 - val_accuracy: 0.9832\n",
      "Epoch 49/300\n",
      "101/101 [==============================] - 4s 44ms/step - loss: 0.8665 - accuracy: 0.7570 - val_loss: 0.6075 - val_accuracy: 0.9832\n",
      "Epoch 50/300\n",
      "101/101 [==============================] - 4s 44ms/step - loss: 0.8413 - accuracy: 0.7731 - val_loss: 0.5980 - val_accuracy: 0.9832\n",
      "Epoch 51/300\n",
      "101/101 [==============================] - 4s 44ms/step - loss: 0.8415 - accuracy: 0.7700 - val_loss: 0.5891 - val_accuracy: 0.9832\n",
      "Epoch 52/300\n",
      "101/101 [==============================] - 4s 44ms/step - loss: 0.8115 - accuracy: 0.7886 - val_loss: 0.5795 - val_accuracy: 0.9832\n",
      "Epoch 53/300\n",
      "101/101 [==============================] - 4s 44ms/step - loss: 0.8269 - accuracy: 0.7731 - val_loss: 0.5706 - val_accuracy: 0.9832\n",
      "Epoch 54/300\n",
      "101/101 [==============================] - 4s 44ms/step - loss: 0.8170 - accuracy: 0.7793 - val_loss: 0.5621 - val_accuracy: 0.9832\n",
      "Epoch 55/300\n",
      "101/101 [==============================] - 4s 44ms/step - loss: 0.8203 - accuracy: 0.7669 - val_loss: 0.5535 - val_accuracy: 0.9832\n",
      "Epoch 56/300\n",
      "101/101 [==============================] - 4s 44ms/step - loss: 0.8043 - accuracy: 0.7843 - val_loss: 0.5451 - val_accuracy: 0.9832\n",
      "Epoch 57/300\n",
      "101/101 [==============================] - 4s 44ms/step - loss: 0.8083 - accuracy: 0.7700 - val_loss: 0.5370 - val_accuracy: 0.9832\n",
      "Epoch 58/300\n",
      "101/101 [==============================] - 4s 44ms/step - loss: 0.7928 - accuracy: 0.7793 - val_loss: 0.5288 - val_accuracy: 0.9832\n",
      "Epoch 59/300\n",
      "101/101 [==============================] - 4s 44ms/step - loss: 0.7933 - accuracy: 0.7706 - val_loss: 0.5210 - val_accuracy: 0.9832\n",
      "Epoch 60/300\n",
      "101/101 [==============================] - 4s 44ms/step - loss: 0.7766 - accuracy: 0.7843 - val_loss: 0.5129 - val_accuracy: 0.9832\n",
      "Epoch 61/300\n",
      "101/101 [==============================] - 4s 44ms/step - loss: 0.7667 - accuracy: 0.7861 - val_loss: 0.5047 - val_accuracy: 0.9832\n",
      "Epoch 62/300\n",
      "101/101 [==============================] - 4s 44ms/step - loss: 0.7637 - accuracy: 0.7960 - val_loss: 0.4967 - val_accuracy: 0.9832\n",
      "Epoch 63/300\n",
      "101/101 [==============================] - 4s 44ms/step - loss: 0.7633 - accuracy: 0.7774 - val_loss: 0.4892 - val_accuracy: 0.9832\n",
      "Epoch 64/300\n",
      "101/101 [==============================] - 4s 43ms/step - loss: 0.7585 - accuracy: 0.7774 - val_loss: 0.4822 - val_accuracy: 0.9832\n",
      "Epoch 65/300\n",
      "101/101 [==============================] - 4s 42ms/step - loss: 0.7590 - accuracy: 0.7774 - val_loss: 0.4752 - val_accuracy: 0.9832\n",
      "Epoch 66/300\n",
      "101/101 [==============================] - 4s 43ms/step - loss: 0.7394 - accuracy: 0.7942 - val_loss: 0.4678 - val_accuracy: 0.9832\n",
      "Epoch 67/300\n",
      "101/101 [==============================] - 4s 44ms/step - loss: 0.7486 - accuracy: 0.7743 - val_loss: 0.4612 - val_accuracy: 0.9832\n",
      "Epoch 68/300\n",
      "101/101 [==============================] - 4s 44ms/step - loss: 0.7300 - accuracy: 0.7905 - val_loss: 0.4542 - val_accuracy: 0.9832\n",
      "Epoch 69/300\n",
      "101/101 [==============================] - 4s 44ms/step - loss: 0.7207 - accuracy: 0.7874 - val_loss: 0.4476 - val_accuracy: 0.9832\n",
      "Epoch 70/300\n",
      "101/101 [==============================] - 4s 44ms/step - loss: 0.7428 - accuracy: 0.7762 - val_loss: 0.4413 - val_accuracy: 0.9832\n",
      "Epoch 71/300\n",
      "101/101 [==============================] - 4s 44ms/step - loss: 0.7166 - accuracy: 0.7954 - val_loss: 0.4343 - val_accuracy: 0.9832\n",
      "Epoch 72/300\n",
      "101/101 [==============================] - 4s 44ms/step - loss: 0.7106 - accuracy: 0.7923 - val_loss: 0.4276 - val_accuracy: 0.9832\n",
      "Epoch 73/300\n",
      "101/101 [==============================] - 4s 44ms/step - loss: 0.7122 - accuracy: 0.7880 - val_loss: 0.4215 - val_accuracy: 0.9832\n",
      "Epoch 74/300\n",
      "101/101 [==============================] - 4s 44ms/step - loss: 0.7091 - accuracy: 0.7843 - val_loss: 0.4151 - val_accuracy: 0.9832\n",
      "Epoch 75/300\n",
      "101/101 [==============================] - 4s 44ms/step - loss: 0.7038 - accuracy: 0.7861 - val_loss: 0.4091 - val_accuracy: 0.9832\n",
      "Epoch 76/300\n",
      "101/101 [==============================] - 4s 44ms/step - loss: 0.7096 - accuracy: 0.7743 - val_loss: 0.4032 - val_accuracy: 0.9832\n",
      "Epoch 77/300\n",
      "101/101 [==============================] - 4s 44ms/step - loss: 0.6914 - accuracy: 0.7905 - val_loss: 0.3975 - val_accuracy: 0.9832\n",
      "Epoch 78/300\n",
      "101/101 [==============================] - 4s 44ms/step - loss: 0.6697 - accuracy: 0.8084 - val_loss: 0.3914 - val_accuracy: 0.9832\n",
      "Epoch 79/300\n",
      "101/101 [==============================] - 4s 44ms/step - loss: 0.6791 - accuracy: 0.7929 - val_loss: 0.3858 - val_accuracy: 0.9832\n",
      "Epoch 80/300\n",
      "101/101 [==============================] - 4s 44ms/step - loss: 0.6702 - accuracy: 0.8010 - val_loss: 0.3803 - val_accuracy: 0.9832\n",
      "Epoch 81/300\n",
      "101/101 [==============================] - 4s 44ms/step - loss: 0.6735 - accuracy: 0.7960 - val_loss: 0.3745 - val_accuracy: 0.9832\n",
      "Epoch 82/300\n",
      "101/101 [==============================] - 4s 44ms/step - loss: 0.6637 - accuracy: 0.7886 - val_loss: 0.3692 - val_accuracy: 0.9832\n",
      "Epoch 83/300\n",
      "101/101 [==============================] - 4s 44ms/step - loss: 0.6714 - accuracy: 0.7948 - val_loss: 0.3642 - val_accuracy: 0.9832\n",
      "Epoch 84/300\n",
      "101/101 [==============================] - 4s 44ms/step - loss: 0.6561 - accuracy: 0.7967 - val_loss: 0.3591 - val_accuracy: 0.9832\n",
      "Epoch 85/300\n",
      "101/101 [==============================] - 4s 44ms/step - loss: 0.6678 - accuracy: 0.7880 - val_loss: 0.3542 - val_accuracy: 0.9888\n",
      "Epoch 86/300\n",
      "101/101 [==============================] - 4s 44ms/step - loss: 0.6411 - accuracy: 0.7998 - val_loss: 0.3493 - val_accuracy: 0.9888\n",
      "Epoch 87/300\n",
      "101/101 [==============================] - 4s 44ms/step - loss: 0.6603 - accuracy: 0.7905 - val_loss: 0.3442 - val_accuracy: 0.9888\n",
      "Epoch 88/300\n",
      "101/101 [==============================] - 4s 44ms/step - loss: 0.6561 - accuracy: 0.7898 - val_loss: 0.3398 - val_accuracy: 0.9888\n",
      "Epoch 89/300\n",
      "101/101 [==============================] - 4s 44ms/step - loss: 0.6406 - accuracy: 0.7985 - val_loss: 0.3349 - val_accuracy: 0.9888\n",
      "Epoch 90/300\n",
      "101/101 [==============================] - 4s 43ms/step - loss: 0.6347 - accuracy: 0.7973 - val_loss: 0.3303 - val_accuracy: 0.9888\n",
      "Epoch 91/300\n",
      "101/101 [==============================] - 4s 44ms/step - loss: 0.6321 - accuracy: 0.7998 - val_loss: 0.3258 - val_accuracy: 0.9888\n",
      "Epoch 92/300\n",
      "101/101 [==============================] - 4s 44ms/step - loss: 0.6512 - accuracy: 0.7812 - val_loss: 0.3213 - val_accuracy: 0.9888\n",
      "Epoch 93/300\n",
      "101/101 [==============================] - 4s 44ms/step - loss: 0.6481 - accuracy: 0.7799 - val_loss: 0.3175 - val_accuracy: 0.9888\n",
      "Epoch 94/300\n",
      "101/101 [==============================] - 4s 44ms/step - loss: 0.6285 - accuracy: 0.7917 - val_loss: 0.3132 - val_accuracy: 0.9888\n",
      "Epoch 95/300\n",
      "101/101 [==============================] - 4s 44ms/step - loss: 0.6176 - accuracy: 0.8078 - val_loss: 0.3085 - val_accuracy: 0.9888\n",
      "Epoch 96/300\n",
      "101/101 [==============================] - 4s 44ms/step - loss: 0.5901 - accuracy: 0.8159 - val_loss: 0.3040 - val_accuracy: 0.9888\n",
      "Epoch 97/300\n",
      "101/101 [==============================] - 4s 44ms/step - loss: 0.6186 - accuracy: 0.7898 - val_loss: 0.3004 - val_accuracy: 0.9888\n",
      "Epoch 98/300\n",
      "101/101 [==============================] - 4s 44ms/step - loss: 0.6260 - accuracy: 0.7843 - val_loss: 0.2968 - val_accuracy: 0.9888\n",
      "Epoch 99/300\n",
      "101/101 [==============================] - 4s 44ms/step - loss: 0.6026 - accuracy: 0.8010 - val_loss: 0.2927 - val_accuracy: 0.9888\n",
      "Epoch 100/300\n",
      "101/101 [==============================] - 4s 44ms/step - loss: 0.5969 - accuracy: 0.8047 - val_loss: 0.2886 - val_accuracy: 0.9888\n",
      "Epoch 101/300\n",
      "101/101 [==============================] - 4s 44ms/step - loss: 0.5979 - accuracy: 0.8072 - val_loss: 0.2847 - val_accuracy: 0.9888\n"
     ]
    }
   ],
   "source": [
    "his = custom_model.fit(train_dataset, validation_data=valid_dataset, \n",
    "                       epochs=300, callbacks=[early_stopping])"
   ]
  },
  {
   "cell_type": "code",
   "execution_count": 15,
   "metadata": {},
   "outputs": [
    {
     "data": {
      "text/plain": [
       "Text(0, 0.5, 'Loss')"
      ]
     },
     "execution_count": 15,
     "metadata": {},
     "output_type": "execute_result"
    },
    {
     "data": {
      "image/png": "[encoded data removed]",
      "text/plain": [
       "<Figure size 640x480 with 1 Axes>"
      ]
     },
     "metadata": {},
     "output_type": "display_data"
    }
   ],
   "source": [
    "plt.figure()\n",
    "plt.plot(his.history['loss'])\n",
    "plt.plot(his.history['val_loss'])\n",
    "plt.title('Training Loss')\n",
    "plt.xlabel('Epoch #')\n",
    "plt.ylabel('Loss')"
   ]
  },
  {
   "cell_type": "code",
   "execution_count": 16,
   "metadata": {},
   "outputs": [
    {
     "data": {
      "text/plain": [
       "Text(0, 0.5, 'Accuracy')"
      ]
     },
     "execution_count": 16,
     "metadata": {},
     "output_type": "execute_result"
    },
    {
     "data": {
      "image/png": "[encoded data removed]",
      "text/plain": [
       "<Figure size 640x480 with 1 Axes>"
      ]
     },
     "metadata": {},
     "output_type": "display_data"
    }
   ],
   "source": [
    "plt.figure()\n",
    "plt.plot(his.history['accuracy'])\n",
    "plt.plot(his.history['val_accuracy'])\n",
    "plt.title('Training Accuracy')\n",
    "plt.xlabel('Epoch #')\n",
    "plt.ylabel('Accuracy')"
   ]
  },
  {
   "cell_type": "code",
   "execution_count": 17,
   "metadata": {},
   "outputs": [],
   "source": [
    "prob_model = keras.Sequential([custom_model,\n",
    "                               tf.keras.layers.Softmax()\n",
    "                               ])"
   ]
  },
  {
   "cell_type": "code",
   "execution_count": 20,
   "metadata": {},
   "outputs": [
    {
     "name": "stdout",
     "output_type": "stream",
     "text": [
      "WARNING:tensorflow:Compiled the loaded model, but the compiled metrics have yet to be built. `model.compile_metrics` will be empty until you train or evaluate the model.\n"
     ]
    },
    {
     "name": "stderr",
     "output_type": "stream",
     "text": [
      "2023-09-12 20:47:52.156776: I tensorflow/core/common_runtime/executor.cc:1197] [/device:CPU:0] (DEBUG INFO) Executor start aborting (this does not indicate an error and you can ignore this message): INVALID_ARGUMENT: You must feed a value for placeholder tensor 'random_flip_input' with dtype float and shape [?,224,224,3]\n",
      "\t [[{{node random_flip_input}}]]\n",
      "2023-09-12 20:47:52.243848: I tensorflow/core/common_runtime/executor.cc:1197] [/device:CPU:0] (DEBUG INFO) Executor start aborting (this does not indicate an error and you can ignore this message): INVALID_ARGUMENT: You must feed a value for placeholder tensor 'inputs' with dtype float and shape [?,224,224,3]\n",
      "\t [[{{node inputs}}]]\n",
      "2023-09-12 20:47:52.253926: I tensorflow/core/common_runtime/executor.cc:1197] [/device:CPU:0] (DEBUG INFO) Executor start aborting (this does not indicate an error and you can ignore this message): INVALID_ARGUMENT: You must feed a value for placeholder tensor 'random_flip_input' with dtype float and shape [?,224,224,3]\n",
      "\t [[{{node random_flip_input}}]]\n",
      "2023-09-12 20:47:52.265774: I tensorflow/core/common_runtime/executor.cc:1197] [/device:CPU:0] (DEBUG INFO) Executor start aborting (this does not indicate an error and you can ignore this message): INVALID_ARGUMENT: You must feed a value for placeholder tensor 'inputs' with dtype float and shape [?,224,224,3]\n",
      "\t [[{{node inputs}}]]\n",
      "2023-09-12 20:47:52.272241: I tensorflow/core/common_runtime/executor.cc:1197] [/device:CPU:0] (DEBUG INFO) Executor start aborting (this does not indicate an error and you can ignore this message): INVALID_ARGUMENT: You must feed a value for placeholder tensor 'inputs' with dtype float and shape [?,224,224,3]\n",
      "\t [[{{node inputs}}]]\n",
      "2023-09-12 20:47:52.278241: I tensorflow/core/common_runtime/executor.cc:1197] [/device:CPU:0] (DEBUG INFO) Executor start aborting (this does not indicate an error and you can ignore this message): INVALID_ARGUMENT: You must feed a value for placeholder tensor 'inputs' with dtype float and shape [?,224,224,3]\n",
      "\t [[{{node inputs}}]]\n",
      "2023-09-12 20:47:52.295353: I tensorflow/core/common_runtime/executor.cc:1197] [/device:CPU:0] (DEBUG INFO) Executor start aborting (this does not indicate an error and you can ignore this message): INVALID_ARGUMENT: You must feed a value for placeholder tensor 'inputs' with dtype float and shape [?,224,224,3]\n",
      "\t [[{{node inputs}}]]\n",
      "2023-09-12 20:47:56.065466: I tensorflow/core/common_runtime/executor.cc:1197] [/device:CPU:0] (DEBUG INFO) Executor start aborting (this does not indicate an error and you can ignore this message): INVALID_ARGUMENT: You must feed a value for placeholder tensor 'input_2' with dtype float and shape [?,224,224,3]\n",
      "\t [[{{node input_2}}]]\n",
      "2023-09-12 20:47:56.253477: I tensorflow/core/common_runtime/executor.cc:1197] [/device:CPU:0] (DEBUG INFO) Executor start aborting (this does not indicate an error and you can ignore this message): INVALID_ARGUMENT: You must feed a value for placeholder tensor 'inputs' with dtype float and shape [?,224,224,3]\n",
      "\t [[{{node inputs}}]]\n",
      "2023-09-12 20:47:56.397185: I tensorflow/core/common_runtime/executor.cc:1197] [/device:CPU:0] (DEBUG INFO) Executor start aborting (this does not indicate an error and you can ignore this message): INVALID_ARGUMENT: You must feed a value for placeholder tensor 'input_2' with dtype float and shape [?,224,224,3]\n",
      "\t [[{{node input_2}}]]\n",
      "2023-09-12 20:47:56.650595: I tensorflow/core/common_runtime/executor.cc:1197] [/device:CPU:0] (DEBUG INFO) Executor start aborting (this does not indicate an error and you can ignore this message): INVALID_ARGUMENT: You must feed a value for placeholder tensor 'inputs' with dtype float and shape [?,224,224,3]\n",
      "\t [[{{node inputs}}]]\n",
      "2023-09-12 20:47:56.823025: I tensorflow/core/common_runtime/executor.cc:1197] [/device:CPU:0] (DEBUG INFO) Executor start aborting (this does not indicate an error and you can ignore this message): INVALID_ARGUMENT: You must feed a value for placeholder tensor 'model_input' with dtype float and shape [?,224,224,3]\n",
      "\t [[{{node model_input}}]]\n",
      "2023-09-12 20:47:56.992862: I tensorflow/core/common_runtime/executor.cc:1197] [/device:CPU:0] (DEBUG INFO) Executor start aborting (this does not indicate an error and you can ignore this message): INVALID_ARGUMENT: You must feed a value for placeholder tensor 'inputs' with dtype float and shape [?,224,224,3]\n",
      "\t [[{{node inputs}}]]\n",
      "2023-09-12 20:47:57.073871: I tensorflow/core/common_runtime/executor.cc:1197] [/device:CPU:0] (DEBUG INFO) Executor start aborting (this does not indicate an error and you can ignore this message): INVALID_ARGUMENT: You must feed a value for placeholder tensor 'model_input' with dtype float and shape [?,224,224,3]\n",
      "\t [[{{node model_input}}]]\n",
      "2023-09-12 20:47:57.330702: I tensorflow/core/common_runtime/executor.cc:1197] [/device:CPU:0] (DEBUG INFO) Executor start aborting (this does not indicate an error and you can ignore this message): INVALID_ARGUMENT: You must feed a value for placeholder tensor 'inputs' with dtype float and shape [?,224,224,3]\n",
      "\t [[{{node inputs}}]]\n",
      "2023-09-12 20:47:57.815292: I tensorflow/core/common_runtime/executor.cc:1197] [/device:CPU:0] (DEBUG INFO) Executor start aborting (this does not indicate an error and you can ignore this message): INVALID_ARGUMENT: You must feed a value for placeholder tensor 'inputs' with dtype float and shape [?,224,224,3]\n",
      "\t [[{{node inputs}}]]\n",
      "2023-09-12 20:47:58.657247: I tensorflow/core/common_runtime/executor.cc:1197] [/device:CPU:0] (DEBUG INFO) Executor start aborting (this does not indicate an error and you can ignore this message): INVALID_ARGUMENT: You must feed a value for placeholder tensor 'inputs' with dtype float and shape [?,224,224,3]\n",
      "\t [[{{node inputs}}]]\n",
      "2023-09-12 20:47:59.349639: I tensorflow/core/common_runtime/executor.cc:1197] [/device:CPU:0] (DEBUG INFO) Executor start aborting (this does not indicate an error and you can ignore this message): INVALID_ARGUMENT: You must feed a value for placeholder tensor 'inputs' with dtype float and shape [?,224,224,3]\n",
      "\t [[{{node inputs}}]]\n",
      "2023-09-12 20:48:00.311910: I tensorflow/core/common_runtime/executor.cc:1197] [/device:CPU:0] (DEBUG INFO) Executor start aborting (this does not indicate an error and you can ignore this message): INVALID_ARGUMENT: You must feed a value for placeholder tensor 'inputs' with dtype float and shape [?,224,224,3]\n",
      "\t [[{{node inputs}}]]\n",
      "2023-09-12 20:48:00.342766: I tensorflow/core/common_runtime/executor.cc:1197] [/device:CPU:0] (DEBUG INFO) Executor start aborting (this does not indicate an error and you can ignore this message): INVALID_ARGUMENT: You must feed a value for placeholder tensor 'inputs' with dtype float and shape [?,224,224,3]\n",
      "\t [[{{node inputs}}]]\n",
      "2023-09-12 20:48:00.389015: I tensorflow/core/common_runtime/executor.cc:1197] [/device:CPU:0] (DEBUG INFO) Executor start aborting (this does not indicate an error and you can ignore this message): INVALID_ARGUMENT: You must feed a value for placeholder tensor 'inputs' with dtype float and shape [?,224,224,3]\n",
      "\t [[{{node inputs}}]]\n",
      "WARNING:absl:Found untraced functions such as _jit_compiled_convolution_op, _jit_compiled_convolution_op, _jit_compiled_convolution_op, _jit_compiled_convolution_op, _jit_compiled_convolution_op while saving (showing 5 of 53). These functions will not be directly callable after loading.\n"
     ]
    },
    {
     "name": "stdout",
     "output_type": "stream",
     "text": [
      "INFO:tensorflow:Assets written to: model/model_2023-09-12 20:47:51.773800.tf/assets\n"
     ]
    },
    {
     "name": "stderr",
     "output_type": "stream",
     "text": [
      "INFO:tensorflow:Assets written to: model/model_2023-09-12 20:47:51.773800.tf/assets\n"
     ]
    }
   ],
   "source": [
    "time_stamp = datetime.datetime.now()\n",
    "time_stamp.strftime(\"%d_%b_%y_%H_%M_%S\")\n",
    "prob_model.save(f\"model/model_{time_stamp}.tf\")"
   ]
  }
 ],
 "metadata": {
  "kernelspec": {
   "display_name": "ML",
   "language": "python",
   "name": "python3"
  },
  "language_info": {
   "codemirror_mode": {
    "name": "ipython",
    "version": 3
   },
   "file_extension": ".py",
   "mimetype": "text/x-python",
   "name": "python",
   "nbconvert_exporter": "python",
   "pygments_lexer": "ipython3",
   "version": "3.9.17"
  },
  "orig_nbformat": 4
 },
 "nbformat": 4,
 "nbformat_minor": 2
}
