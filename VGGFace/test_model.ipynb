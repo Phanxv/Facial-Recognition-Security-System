{
 "cells": [
  {
   "cell_type": "code",
   "execution_count": 1,
   "metadata": {},
   "outputs": [],
   "source": [
    "import tensorflow as tf\n",
    "from tensorflow.keras.models import load_model\n",
    "import keras\n",
    "import cv2\n",
    "import time"
   ]
  },
  {
   "cell_type": "code",
   "execution_count": 2,
   "metadata": {},
   "outputs": [
    {
     "name": "stdout",
     "output_type": "stream",
     "text": [
      "[INFO] RANDOMLY SELECTING IMAGE\n",
      "Image selected : 58 images\n",
      "Total label : 58 labels \n"
     ]
    }
   ],
   "source": [
    "import os, random\n",
    "\n",
    "print('[INFO] RANDOMLY SELECTING IMAGE')\n",
    "rand_select_img = []\n",
    "rand_select_label = []\n",
    "\n",
    "i = 0\n",
    "\n",
    "aonan_data_path = os.listdir('datasets_VGG/aonan')\n",
    "elf_data_path = os.listdir('datasets_VGG/elf')\n",
    "\n",
    "while i <= 15 :\n",
    "    rand_select_img.append(f'datasets_VGG/aonan/{random.choice(aonan_data_path)}')\n",
    "    rand_select_label.append('aonan')\n",
    "    rand_select_img.append(f'datasets_VGG/elf/{random.choice(elf_data_path)}')\n",
    "    rand_select_label.append('elf')\n",
    "    i+=1\n",
    "\n",
    "unknown_data_path = os.listdir('datasets_VGG/unknown')\n",
    "\n",
    "i = 0\n",
    "while i <= 25 : \n",
    "    rand_select_img.append(f'datasets_VGG/unknown/{random.choice(unknown_data_path)}')\n",
    "    rand_select_label.append('unknown')\n",
    "    i+=1\n",
    "print(f'Image selected : {len(rand_select_img)} images')\n",
    "print(f'Total label : {len(rand_select_img)} labels ')"
   ]
  },
  {
   "cell_type": "code",
   "execution_count": 6,
   "metadata": {},
   "outputs": [
    {
     "name": "stdout",
     "output_type": "stream",
     "text": [
      "WARNING:tensorflow:Using a while_loop for converting RngReadAndSkip cause there is no registered converter for this op.\n",
      "WARNING:tensorflow:Using a while_loop for converting Bitcast cause there is no registered converter for this op.\n",
      "WARNING:tensorflow:Using a while_loop for converting Bitcast cause there is no registered converter for this op.\n",
      "WARNING:tensorflow:Using a while_loop for converting StatelessRandomUniformV2 cause there is no registered converter for this op.\n",
      "WARNING:tensorflow:Using a while_loop for converting ImageProjectiveTransformV3 cause there is no registered converter for this op.\n",
      "WARNING:tensorflow:Using a while_loop for converting RngReadAndSkip cause there is no registered converter for this op.\n",
      "WARNING:tensorflow:Using a while_loop for converting Bitcast cause there is no registered converter for this op.\n",
      "WARNING:tensorflow:Using a while_loop for converting Bitcast cause there is no registered converter for this op.\n",
      "WARNING:tensorflow:Using a while_loop for converting StatelessRandomUniformV2 cause there is no registered converter for this op.\n",
      "WARNING:tensorflow:Using a while_loop for converting RngReadAndSkip cause there is no registered converter for this op.\n",
      "WARNING:tensorflow:Using a while_loop for converting Bitcast cause there is no registered converter for this op.\n",
      "WARNING:tensorflow:Using a while_loop for converting Bitcast cause there is no registered converter for this op.\n",
      "WARNING:tensorflow:Using a while_loop for converting StatelessRandomUniformFullIntV2 cause there is no registered converter for this op.\n",
      "WARNING:tensorflow:Using a while_loop for converting StatelessRandomGetKeyCounter cause there is no registered converter for this op.\n",
      "WARNING:tensorflow:Using a while_loop for converting StatelessRandomUniformV2 cause there is no registered converter for this op.\n",
      "WARNING:tensorflow:Using a while_loop for converting AdjustContrastv2 cause Input \"contrast_factor\" of op 'AdjustContrastv2' expected to be loop invariant.\n",
      "WARNING:tensorflow:No training configuration found in save file, so the model was *not* compiled. Compile it manually.\n"
     ]
    }
   ],
   "source": [
    "prob_model = load_model('./model/model_2025-09-03_1756862707.101024.tf')"
   ]
  },
  {
   "cell_type": "code",
   "execution_count": 10,
   "metadata": {},
   "outputs": [],
   "source": [
    "name = ['aonan','elf','unknown']"
   ]
  },
  {
   "cell_type": "code",
   "execution_count": 5,
   "metadata": {},
   "outputs": [],
   "source": [
    "sample_set = []\n",
    "for img in rand_select_img :\n",
    "    sample = cv2.imread(img)\n",
    "    sample_set.append(sample)\n"
   ]
  },
  {
   "cell_type": "code",
   "execution_count": 8,
   "metadata": {},
   "outputs": [],
   "source": [
    "def sample_process(sample) :\n",
    "    sample_reshape = cv2.resize(sample,dsize=(224,224))\n",
    "    sample = tf.convert_to_tensor(sample_reshape, dtype=tf.float32)\n",
    "    sample = tf.expand_dims(sample, 0)\n",
    "    return sample"
   ]
  },
  {
   "cell_type": "code",
   "execution_count": 7,
   "metadata": {},
   "outputs": [],
   "source": [
    "sample_set_processed = []\n",
    "for sample in sample_set :\n",
    "    sample_e = sample_process(sample)\n",
    "    sample_set_processed.append(sample_e)"
   ]
  },
  {
   "cell_type": "code",
   "execution_count": 8,
   "metadata": {},
   "outputs": [
    {
     "data": {
      "text/plain": [
       "TensorShape([1, 224, 224, 3])"
      ]
     },
     "execution_count": 8,
     "metadata": {},
     "output_type": "execute_result"
    }
   ],
   "source": [
    "sample_set_processed[0].shape"
   ]
  },
  {
   "cell_type": "code",
   "execution_count": 25,
   "metadata": {},
   "outputs": [],
   "source": [
    "def decode_prediction(predictions, label):\n",
    "    confidence = predictions[0][predictions[0].argmax()] * 100\n",
    "    print(predictions[0][predictions[0].argmax()])\n",
    "    if confidence > 80 : \n",
    "        return label[predictions[0].argmax()]\n",
    "    else :\n",
    "        return 'unknown'"
   ]
  },
  {
   "cell_type": "code",
   "execution_count": 26,
   "metadata": {},
   "outputs": [
    {
     "name": "stdout",
     "output_type": "stream",
     "text": [
      "1/1 [==============================] - 0s 18ms/step\n",
      "0.930879\n",
      "1/1 [==============================] - 0s 14ms/step\n",
      "0.89863724\n",
      "1/1 [==============================] - 0s 16ms/step\n",
      "0.91940814\n",
      "1/1 [==============================] - 0s 17ms/step\n",
      "0.89580745\n",
      "1/1 [==============================] - 0s 13ms/step\n",
      "0.927228\n",
      "1/1 [==============================] - 0s 21ms/step\n",
      "0.82071227\n",
      "1/1 [==============================] - 0s 23ms/step\n",
      "0.9383903\n",
      "1/1 [==============================] - 0s 23ms/step\n",
      "0.92442816\n",
      "1/1 [==============================] - 0s 23ms/step\n",
      "0.9328688\n",
      "1/1 [==============================] - 0s 19ms/step\n",
      "0.8813955\n",
      "1/1 [==============================] - 0s 18ms/step\n",
      "0.9181856\n",
      "1/1 [==============================] - 0s 18ms/step\n",
      "0.8700076\n",
      "1/1 [==============================] - 0s 8ms/step\n",
      "0.90420294\n",
      "1/1 [==============================] - 0s 24ms/step\n",
      "0.84927994\n",
      "1/1 [==============================] - 0s 19ms/step\n",
      "0.93259436\n",
      "1/1 [==============================] - 0s 17ms/step\n",
      "0.9018022\n",
      "1/1 [==============================] - 0s 26ms/step\n",
      "0.90722746\n",
      "1/1 [==============================] - 0s 18ms/step\n",
      "0.8099901\n",
      "1/1 [==============================] - 0s 19ms/step\n",
      "0.9023397\n",
      "1/1 [==============================] - 0s 19ms/step\n",
      "0.9140415\n",
      "1/1 [==============================] - 0s 22ms/step\n",
      "0.9347512\n",
      "1/1 [==============================] - 0s 18ms/step\n",
      "0.93457836\n",
      "1/1 [==============================] - 0s 18ms/step\n",
      "0.93903154\n",
      "1/1 [==============================] - 0s 25ms/step\n",
      "0.8947632\n",
      "1/1 [==============================] - 0s 6ms/step\n",
      "0.93863696\n",
      "1/1 [==============================] - 0s 26ms/step\n",
      "0.91125804\n",
      "1/1 [==============================] - 0s 25ms/step\n",
      "0.883117\n",
      "1/1 [==============================] - 0s 18ms/step\n",
      "0.9222675\n",
      "1/1 [==============================] - 0s 19ms/step\n",
      "0.9298283\n",
      "1/1 [==============================] - 0s 18ms/step\n",
      "0.91926104\n",
      "1/1 [==============================] - 0s 20ms/step\n",
      "0.9221455\n",
      "1/1 [==============================] - 0s 28ms/step\n",
      "0.8151094\n",
      "1/1 [==============================] - 0s 18ms/step\n",
      "0.57831585\n",
      "1/1 [==============================] - 0s 15ms/step\n",
      "0.58400285\n",
      "1/1 [==============================] - 0s 19ms/step\n",
      "0.59450424\n",
      "1/1 [==============================] - 0s 16ms/step\n",
      "0.5728969\n",
      "1/1 [==============================] - 0s 29ms/step\n",
      "0.58364964\n",
      "1/1 [==============================] - 0s 8ms/step\n",
      "0.5323275\n",
      "1/1 [==============================] - 0s 17ms/step\n",
      "0.58400285\n",
      "1/1 [==============================] - 0s 17ms/step\n",
      "0.615415\n",
      "1/1 [==============================] - 0s 16ms/step\n",
      "0.59140325\n",
      "1/1 [==============================] - 0s 21ms/step\n",
      "0.61197937\n",
      "1/1 [==============================] - 0s 19ms/step\n",
      "0.59450424\n",
      "1/1 [==============================] - 0s 27ms/step\n",
      "0.5854016\n",
      "1/1 [==============================] - 0s 20ms/step\n",
      "0.57875645\n",
      "1/1 [==============================] - 0s 20ms/step\n",
      "0.5805824\n",
      "1/1 [==============================] - 0s 21ms/step\n",
      "0.5894636\n",
      "1/1 [==============================] - 0s 22ms/step\n",
      "0.57831585\n",
      "1/1 [==============================] - 0s 34ms/step\n",
      "0.57831585\n",
      "1/1 [==============================] - 0s 29ms/step\n",
      "0.57875645\n",
      "1/1 [==============================] - 0s 16ms/step\n",
      "0.58364964\n",
      "1/1 [==============================] - 0s 30ms/step\n",
      "0.5894636\n",
      "1/1 [==============================] - 0s 35ms/step\n",
      "0.521424\n",
      "1/1 [==============================] - 0s 17ms/step\n",
      "0.58364964\n",
      "1/1 [==============================] - 0s 35ms/step\n",
      "0.57875645\n",
      "1/1 [==============================] - 0s 41ms/step\n",
      "0.58364964\n",
      "1/1 [==============================] - 0s 19ms/step\n",
      "0.55760866\n",
      "1/1 [==============================] - 0s 12ms/step\n",
      "0.5854016\n",
      "['aonan', 'elf', 'aonan', 'elf', 'aonan', 'elf', 'aonan', 'elf', 'aonan', 'elf', 'aonan', 'elf', 'aonan', 'elf', 'aonan', 'elf', 'aonan', 'elf', 'aonan', 'elf', 'aonan', 'elf', 'aonan', 'elf', 'aonan', 'elf', 'aonan', 'elf', 'aonan', 'elf', 'aonan', 'elf', 'unknown', 'unknown', 'unknown', 'unknown', 'unknown', 'unknown', 'unknown', 'unknown', 'unknown', 'unknown', 'unknown', 'unknown', 'unknown', 'unknown', 'unknown', 'unknown', 'unknown', 'unknown', 'unknown', 'unknown', 'unknown', 'unknown', 'unknown', 'unknown', 'unknown', 'unknown']\n"
     ]
    }
   ],
   "source": [
    "pred_label = []\n",
    "for sample in sample_set_processed :\n",
    "    predictions = prob_model.predict(sample)\n",
    "    pred_label.append(decode_prediction(predictions, name))\n",
    "print(pred_label)"
   ]
  },
  {
   "cell_type": "code",
   "execution_count": 12,
   "metadata": {},
   "outputs": [],
   "source": [
    "from sklearn import metrics\n",
    "import matplotlib.pyplot as plt"
   ]
  },
  {
   "cell_type": "code",
   "execution_count": 27,
   "metadata": {},
   "outputs": [
    {
     "data": {
      "image/png": "[encoded data removed]",
      "text/plain": [
       "<Figure size 640x480 with 2 Axes>"
      ]
     },
     "metadata": {},
     "output_type": "display_data"
    }
   ],
   "source": [
    "confusion_matrix = metrics.confusion_matrix(rand_select_label, pred_label)\n",
    "cm_display = metrics.ConfusionMatrixDisplay(confusion_matrix = confusion_matrix, display_labels=name)\n",
    "cm_display.plot()\n",
    "plt.show()"
   ]
  },
  {
   "cell_type": "markdown",
   "metadata": {},
   "source": [
    "### Real-Time recognition testing"
   ]
  },
  {
   "cell_type": "code",
   "execution_count": 2,
   "metadata": {},
   "outputs": [],
   "source": [
    "import cv2, queue, threading, time"
   ]
  },
  {
   "cell_type": "markdown",
   "metadata": {},
   "source": [
    "##### Custom-made video capture for using with CCTV"
   ]
  },
  {
   "cell_type": "code",
   "execution_count": 4,
   "metadata": {},
   "outputs": [],
   "source": [
    "class VideoCapture:\n",
    "\n",
    "  def __init__(self, name):\n",
    "    self.cap = cv2.VideoCapture(name)\n",
    "    self.q = queue.Queue()\n",
    "    t = threading.Thread(target=self._reader)\n",
    "    t.daemon = True\n",
    "    t.start()\n",
    "\n",
    "  def _reader(self):\n",
    "    while True:\n",
    "      ret, frame = self.cap.read()\n",
    "      if not ret:\n",
    "        break\n",
    "      if not self.q.empty():\n",
    "        try:\n",
    "          self.q.get_nowait()\n",
    "        except queue.Empty:\n",
    "          pass\n",
    "      self.q.put(frame)\n",
    "\n",
    "  def read(self):\n",
    "    return self.q.get()\n",
    "  \n",
    "  def release(self):\n",
    "    self.cap.release()\n"
   ]
  },
  {
   "cell_type": "code",
   "execution_count": 12,
   "metadata": {},
   "outputs": [
    {
     "name": "stdout",
     "output_type": "stream",
     "text": [
      "\n",
      " [INFO] Exiting Program and cleanup stuff\n"
     ]
    }
   ],
   "source": [
    "cap = VideoCapture(0)\n",
    "font = cv2.FONT_HERSHEY_SIMPLEX\n",
    "face_cascade = cv2.CascadeClassifier('haarcascades/haarcascade_frontalface_default.xml')\n",
    "\n",
    "color = (0, 255, 0)\n",
    "fontsize = 2\n",
    "\n",
    "while(True):\n",
    "    img = cap.read()\n",
    "    gray = cv2.cvtColor(img, cv2.COLOR_BGR2GRAY)\n",
    "    faces = face_cascade.detectMultiScale(\n",
    "        gray,     \n",
    "        scaleFactor=1.2,\n",
    "        minNeighbors=5,     \n",
    "        minSize=(10, 10)\n",
    "    )\n",
    "    for (x,y,w,h) in faces:\n",
    "        cv2.rectangle(img, (x,y), (x+w,y+h), (0,255,0), 2)\n",
    "        predictions = prob_model.predict(sample_process(img[y:y+h,x:x+w]), verbose=0)\n",
    "        id = predictions[0].argmax()\n",
    "        confidence = predictions[0][predictions[0].argmax()] * 100\n",
    "        if (confidence > 75):\n",
    "            id = name[id]\n",
    "            cv2.putText(\n",
    "                    img, \n",
    "                    str(id), \n",
    "                    (x+5,y-5), \n",
    "                    font, \n",
    "                    1, \n",
    "                    (255,255,255), \n",
    "                    2\n",
    "                   )\n",
    "            cv2.putText(\n",
    "                    img, \n",
    "                    str(confidence), \n",
    "                    (x+5,y+h-5), \n",
    "                    font, \n",
    "                    1, \n",
    "                    (255,255,0), \n",
    "                    1\n",
    "                   )  \n",
    "        else:\n",
    "            id = \"unknown\"\n",
    "            cv2.putText(\n",
    "                    img, \n",
    "                    str(id), \n",
    "                    (x+5,y-5), \n",
    "                    font, \n",
    "                    1, \n",
    "                    (255,255,255), \n",
    "                    2\n",
    "                   )\n",
    "        \n",
    "    cv2.imshow('camera',img)\n",
    "    k = cv2.waitKey(10) & 0xff\n",
    "    if k == 27:\n",
    "        break\n",
    "print(\"\\n [INFO] Exiting Program and cleanup stuff\")\n",
    "cap.release()\n",
    "cv2.destroyAllWindows()"
   ]
  },
  {
   "cell_type": "code",
   "execution_count": null,
   "metadata": {},
   "outputs": [
    {
     "name": "stdout",
     "output_type": "stream",
     "text": [
      "Collecting windows-capture-device-list\n",
      "  Downloading windows-capture-device-list-1.1.0.tar.gz (3.5 kB)\n",
      "  Installing build dependencies ... \u001b[?25ldone\n",
      "\u001b[?25h  Getting requirements to build wheel ... \u001b[?25ldone\n",
      "\u001b[?25h  Preparing metadata (pyproject.toml) ... \u001b[?25ldone\n",
      "\u001b[?25hBuilding wheels for collected packages: windows-capture-device-list\n",
      "  Building wheel for windows-capture-device-list (pyproject.toml) ... \u001b[?25ldone\n",
      "\u001b[?25h  Created wheel for windows-capture-device-list: filename=windows_capture_device_list-1.1.0-py3-none-any.whl size=3555 sha256=460a2e28792d40833188de1ed7b5a216908f97e96dc5e958e6d64120d95fea77\n",
      "  Stored in directory: /home/phanxv/.var/app/com.visualstudio.code/cache/pip/wheels/80/04/d8/3d85b7688d48be2d1f975a8ba6da1569a92dd1622d4e1bfec1\n",
      "Successfully built windows-capture-device-list\n",
      "Installing collected packages: windows-capture-device-list\n",
      "Successfully installed windows-capture-device-list-1.1.0\n",
      "Note: you may need to restart the kernel to use updated packages.\n"
     ]
    }
   ],
   "source": [
    "pip install windows-capture-device-list"
   ]
  }
 ],
 "metadata": {
  "kernelspec": {
   "display_name": "tf-gpu",
   "language": "python",
   "name": "python3"
  },
  "language_info": {
   "codemirror_mode": {
    "name": "ipython",
    "version": 3
   },
   "file_extension": ".py",
   "mimetype": "text/x-python",
   "name": "python",
   "nbconvert_exporter": "python",
   "pygments_lexer": "ipython3",
   "version": "3.10.18"
  },
  "orig_nbformat": 4
 },
 "nbformat": 4,
 "nbformat_minor": 2
}
