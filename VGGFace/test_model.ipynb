{
 "cells": [
  {
   "cell_type": "code",
   "execution_count": 1,
   "metadata": {},
   "outputs": [
    {
     "name": "stderr",
     "output_type": "stream",
     "text": [
      "2023-08-28 10:41:16.543277: I tensorflow/core/platform/cpu_feature_guard.cc:182] This TensorFlow binary is optimized to use available CPU instructions in performance-critical operations.\n",
      "To enable the following instructions: AVX2 FMA, in other operations, rebuild TensorFlow with the appropriate compiler flags.\n",
      "2023-08-28 10:41:17.146137: W tensorflow/compiler/tf2tensorrt/utils/py_utils.cc:38] TF-TRT Warning: Could not find TensorRT\n"
     ]
    }
   ],
   "source": [
    "import tensorflow as tf\n",
    "from tensorflow.keras.models import load_model\n",
    "import keras\n",
    "from keras_vggface.vggface import VGGFace\n",
    "import cv2\n",
    "import time"
   ]
  },
  {
   "cell_type": "code",
   "execution_count": 2,
   "metadata": {},
   "outputs": [
    {
     "name": "stderr",
     "output_type": "stream",
     "text": [
      "2023-08-28 10:41:18.021485: I tensorflow/compiler/xla/stream_executor/cuda/cuda_gpu_executor.cc:996] successful NUMA node read from SysFS had negative value (-1), but there must be at least one NUMA node, so returning NUMA node zero. See more at https://github.com/torvalds/linux/blob/v6.0/Documentation/ABI/testing/sysfs-bus-pci#L344-L355\n",
      "2023-08-28 10:41:18.036700: I tensorflow/compiler/xla/stream_executor/cuda/cuda_gpu_executor.cc:996] successful NUMA node read from SysFS had negative value (-1), but there must be at least one NUMA node, so returning NUMA node zero. See more at https://github.com/torvalds/linux/blob/v6.0/Documentation/ABI/testing/sysfs-bus-pci#L344-L355\n",
      "2023-08-28 10:41:18.036875: I tensorflow/compiler/xla/stream_executor/cuda/cuda_gpu_executor.cc:996] successful NUMA node read from SysFS had negative value (-1), but there must be at least one NUMA node, so returning NUMA node zero. See more at https://github.com/torvalds/linux/blob/v6.0/Documentation/ABI/testing/sysfs-bus-pci#L344-L355\n",
      "2023-08-28 10:41:18.037856: I tensorflow/compiler/xla/stream_executor/cuda/cuda_gpu_executor.cc:996] successful NUMA node read from SysFS had negative value (-1), but there must be at least one NUMA node, so returning NUMA node zero. See more at https://github.com/torvalds/linux/blob/v6.0/Documentation/ABI/testing/sysfs-bus-pci#L344-L355\n",
      "2023-08-28 10:41:18.038012: I tensorflow/compiler/xla/stream_executor/cuda/cuda_gpu_executor.cc:996] successful NUMA node read from SysFS had negative value (-1), but there must be at least one NUMA node, so returning NUMA node zero. See more at https://github.com/torvalds/linux/blob/v6.0/Documentation/ABI/testing/sysfs-bus-pci#L344-L355\n",
      "2023-08-28 10:41:18.038140: I tensorflow/compiler/xla/stream_executor/cuda/cuda_gpu_executor.cc:996] successful NUMA node read from SysFS had negative value (-1), but there must be at least one NUMA node, so returning NUMA node zero. See more at https://github.com/torvalds/linux/blob/v6.0/Documentation/ABI/testing/sysfs-bus-pci#L344-L355\n",
      "2023-08-28 10:41:18.477894: I tensorflow/compiler/xla/stream_executor/cuda/cuda_gpu_executor.cc:996] successful NUMA node read from SysFS had negative value (-1), but there must be at least one NUMA node, so returning NUMA node zero. See more at https://github.com/torvalds/linux/blob/v6.0/Documentation/ABI/testing/sysfs-bus-pci#L344-L355\n",
      "2023-08-28 10:41:18.478054: I tensorflow/compiler/xla/stream_executor/cuda/cuda_gpu_executor.cc:996] successful NUMA node read from SysFS had negative value (-1), but there must be at least one NUMA node, so returning NUMA node zero. See more at https://github.com/torvalds/linux/blob/v6.0/Documentation/ABI/testing/sysfs-bus-pci#L344-L355\n",
      "2023-08-28 10:41:18.478169: I tensorflow/compiler/xla/stream_executor/cuda/cuda_gpu_executor.cc:996] successful NUMA node read from SysFS had negative value (-1), but there must be at least one NUMA node, so returning NUMA node zero. See more at https://github.com/torvalds/linux/blob/v6.0/Documentation/ABI/testing/sysfs-bus-pci#L344-L355\n",
      "2023-08-28 10:41:18.478259: I tensorflow/core/common_runtime/gpu/gpu_device.cc:1635] Created device /job:localhost/replica:0/task:0/device:GPU:0 with 4069 MB memory:  -> device: 0, name: NVIDIA GeForce RTX 3060 Laptop GPU, pci bus id: 0000:01:00.0, compute capability: 8.6\n"
     ]
    },
    {
     "name": "stdout",
     "output_type": "stream",
     "text": [
      "WARNING:tensorflow:No training configuration found in save file, so the model was *not* compiled. Compile it manually.\n"
     ]
    }
   ],
   "source": [
    "prob_model = load_model(\"third_model_face.tf\")"
   ]
  },
  {
   "cell_type": "code",
   "execution_count": 3,
   "metadata": {},
   "outputs": [],
   "source": [
    "name = ['bus','elf','petch','unknown']"
   ]
  },
  {
   "cell_type": "code",
   "execution_count": 4,
   "metadata": {},
   "outputs": [],
   "source": [
    "sample_set = []\n",
    "for i in range(1,31) :\n",
    "    sample = cv2.imread(f'test/000{i}.png')\n",
    "    sample_set.append(sample)\n"
   ]
  },
  {
   "cell_type": "code",
   "execution_count": 5,
   "metadata": {},
   "outputs": [
    {
     "data": {
      "text/plain": [
       "(132, 130, 3)"
      ]
     },
     "execution_count": 5,
     "metadata": {},
     "output_type": "execute_result"
    }
   ],
   "source": [
    "sample_set[24].shape"
   ]
  },
  {
   "cell_type": "code",
   "execution_count": 6,
   "metadata": {},
   "outputs": [],
   "source": [
    "def sample_process(sample) :\n",
    "    sample_reshape = cv2.resize(sample,dsize=(224,224))\n",
    "    sample = tf.convert_to_tensor(sample_reshape, dtype=tf.float32)\n",
    "    sample = tf.expand_dims(sample, 0)\n",
    "    return sample"
   ]
  },
  {
   "cell_type": "code",
   "execution_count": 7,
   "metadata": {},
   "outputs": [],
   "source": [
    "sample_set_processed = []\n",
    "for sample in sample_set :\n",
    "    sample_e = sample_process(sample)\n",
    "    sample_set_processed.append(sample_e)"
   ]
  },
  {
   "cell_type": "code",
   "execution_count": 8,
   "metadata": {},
   "outputs": [
    {
     "data": {
      "text/plain": [
       "TensorShape([1, 224, 224, 3])"
      ]
     },
     "execution_count": 8,
     "metadata": {},
     "output_type": "execute_result"
    }
   ],
   "source": [
    "sample_set_processed[0].shape"
   ]
  },
  {
   "cell_type": "code",
   "execution_count": 9,
   "metadata": {},
   "outputs": [
    {
     "name": "stderr",
     "output_type": "stream",
     "text": [
      "2023-08-28 10:41:25.740929: I tensorflow/compiler/xla/stream_executor/cuda/cuda_dnn.cc:424] Loaded cuDNN version 8600\n",
      "2023-08-28 10:41:26.305192: I tensorflow/compiler/xla/stream_executor/cuda/cuda_blas.cc:637] TensorFloat-32 will be used for the matrix multiplication. This will only be logged once.\n"
     ]
    },
    {
     "name": "stdout",
     "output_type": "stream",
     "text": [
      "1/1 [==============================] - 2s 2s/step\n",
      "[0.00586255 0.97434324 0.00247363 0.0173206 ]\n",
      "num : 1\tclass : elf conf : 97.43432402610779\n",
      "1/1 [==============================] - 0s 16ms/step\n",
      "[0.02693427 0.08685341 0.87497014 0.01124215]\n",
      "num : 2\tclass : petch conf : 87.49701380729675\n",
      "1/1 [==============================] - 0s 16ms/step\n",
      "[0.01034617 0.94051033 0.00749027 0.04165322]\n",
      "num : 3\tclass : elf conf : 94.05103325843811\n",
      "1/1 [==============================] - 0s 17ms/step\n",
      "[0.9860822  0.00285881 0.00400856 0.0070504 ]\n",
      "num : 4\tclass : bus conf : 98.60821962356567\n",
      "1/1 [==============================] - 0s 17ms/step\n",
      "[0.22528861 0.10706541 0.04688454 0.62076145]\n",
      "num : 5\tclass : unknown conf : 62.07614541053772\n",
      "1/1 [==============================] - 0s 20ms/step\n",
      "[0.38522497 0.17143683 0.14836302 0.29497516]\n",
      "num : 6\tclass : bus conf : 38.522496819496155\n",
      "1/1 [==============================] - 0s 17ms/step\n",
      "[0.41919246 0.03251022 0.05234393 0.49595338]\n",
      "num : 7\tclass : unknown conf : 49.595338106155396\n",
      "1/1 [==============================] - 0s 17ms/step\n",
      "[0.01624278 0.6953441  0.23987406 0.04853909]\n",
      "num : 8\tclass : elf conf : 69.5344090461731\n",
      "1/1 [==============================] - 0s 16ms/step\n",
      "[0.06273138 0.30605537 0.58830965 0.04290368]\n",
      "num : 9\tclass : petch conf : 58.8309645652771\n",
      "1/1 [==============================] - 0s 15ms/step\n",
      "[0.1256517  0.06324921 0.7687183  0.04238069]\n",
      "num : 10\tclass : petch conf : 76.87183022499084\n",
      "1/1 [==============================] - 0s 17ms/step\n",
      "[0.00105373 0.9799448  0.00124362 0.01775783]\n",
      "num : 11\tclass : elf conf : 97.99448251724243\n",
      "1/1 [==============================] - 0s 21ms/step\n",
      "[0.00809717 0.0276915  0.94572884 0.01848254]\n",
      "num : 12\tclass : petch conf : 94.57288384437561\n",
      "1/1 [==============================] - 0s 21ms/step\n",
      "[0.24938491 0.05628924 0.09062736 0.6036985 ]\n",
      "num : 13\tclass : unknown conf : 60.36984920501709\n",
      "1/1 [==============================] - 0s 17ms/step\n",
      "[0.7196499  0.04539122 0.16768491 0.06727392]\n",
      "num : 14\tclass : bus conf : 71.96499109268188\n",
      "1/1 [==============================] - 0s 16ms/step\n",
      "[0.02263008 0.9395733  0.01608155 0.02171501]\n",
      "num : 15\tclass : elf conf : 93.95732879638672\n",
      "1/1 [==============================] - 0s 16ms/step\n",
      "[0.01389484 0.01183822 0.95485526 0.01941169]\n",
      "num : 16\tclass : petch conf : 95.48552632331848\n",
      "1/1 [==============================] - 0s 16ms/step\n",
      "[0.03219496 0.68713784 0.10874695 0.17192023]\n",
      "num : 17\tclass : elf conf : 68.71378421783447\n",
      "1/1 [==============================] - 0s 18ms/step\n",
      "[0.11736414 0.09436579 0.13431907 0.6539509 ]\n",
      "num : 18\tclass : unknown conf : 65.39509296417236\n",
      "1/1 [==============================] - 0s 16ms/step\n",
      "[0.13707216 0.08409951 0.0883994  0.6904289 ]\n",
      "num : 19\tclass : unknown conf : 69.04289126396179\n",
      "1/1 [==============================] - 0s 17ms/step\n",
      "[0.502851   0.12511973 0.21312192 0.15890731]\n",
      "num : 20\tclass : bus conf : 50.28510093688965\n",
      "1/1 [==============================] - 0s 18ms/step\n",
      "[0.11111301 0.05604632 0.13787064 0.69497   ]\n",
      "num : 21\tclass : unknown conf : 69.49700117111206\n",
      "1/1 [==============================] - 0s 20ms/step\n",
      "[0.00564576 0.9301885  0.00854453 0.0556213 ]\n",
      "num : 22\tclass : elf conf : 93.01884770393372\n",
      "1/1 [==============================] - 0s 17ms/step\n",
      "[0.00443585 0.8846869  0.09317299 0.01770421]\n",
      "num : 23\tclass : elf conf : 88.46868872642517\n",
      "1/1 [==============================] - 0s 16ms/step\n",
      "[0.67274684 0.02985791 0.12292095 0.1744743 ]\n",
      "num : 24\tclass : bus conf : 67.27468371391296\n",
      "1/1 [==============================] - 0s 17ms/step\n",
      "[0.03146338 0.92114997 0.0106904  0.03669621]\n",
      "num : 25\tclass : elf conf : 92.11499691009521\n",
      "1/1 [==============================] - 0s 17ms/step\n",
      "[0.06876176 0.46659285 0.3626872  0.1019581 ]\n",
      "num : 26\tclass : elf conf : 46.659284830093384\n",
      "1/1 [==============================] - 0s 16ms/step\n",
      "[0.01719809 0.3677431  0.5312058  0.08385297]\n",
      "num : 27\tclass : petch conf : 53.120577335357666\n",
      "1/1 [==============================] - 0s 18ms/step\n",
      "[0.06319422 0.35747674 0.4846907  0.09463835]\n",
      "num : 28\tclass : petch conf : 48.469069600105286\n",
      "1/1 [==============================] - 0s 16ms/step\n",
      "[0.16631767 0.23772357 0.28191227 0.3140465 ]\n",
      "num : 29\tclass : unknown conf : 31.40465021133423\n",
      "1/1 [==============================] - 0s 20ms/step\n",
      "[0.14206216 0.15586622 0.66773754 0.03433412]\n",
      "num : 30\tclass : petch conf : 66.77375435829163\n"
     ]
    }
   ],
   "source": [
    "num = 0\n",
    "for sample in sample_set_processed :\n",
    "    num+=1\n",
    "    predictions = prob_model.predict(sample)\n",
    "    print(predictions[0])\n",
    "    print(f'num : {num}\\tclass : {name[predictions[0].argmax()]} conf : {predictions[0][predictions[0].argmax()] * 100}')"
   ]
  },
  {
   "cell_type": "code",
   "execution_count": 10,
   "metadata": {},
   "outputs": [],
   "source": [
    "import cv2, queue, threading, time"
   ]
  },
  {
   "cell_type": "code",
   "execution_count": 11,
   "metadata": {},
   "outputs": [],
   "source": [
    "class VideoCapture:\n",
    "\n",
    "  def __init__(self, name):\n",
    "    self.cap = cv2.VideoCapture(name)\n",
    "    self.q = queue.Queue()\n",
    "    t = threading.Thread(target=self._reader)\n",
    "    t.daemon = True\n",
    "    t.start()\n",
    "\n",
    "  def _reader(self):\n",
    "    while True:\n",
    "      ret, frame = self.cap.read()\n",
    "      if not ret:\n",
    "        break\n",
    "      if not self.q.empty():\n",
    "        try:\n",
    "          self.q.get_nowait()\n",
    "        except queue.Empty:\n",
    "          pass\n",
    "      self.q.put(frame)\n",
    "\n",
    "  def read(self):\n",
    "    return self.q.get()\n",
    "  \n",
    "  def release(self):\n",
    "    self.cap.release()\n"
   ]
  },
  {
   "cell_type": "code",
   "execution_count": 14,
   "metadata": {},
   "outputs": [
    {
     "name": "stdout",
     "output_type": "stream",
     "text": [
      "\n",
      " [INFO] Exiting Program and cleanup stuff\n"
     ]
    }
   ],
   "source": [
    "cap = VideoCapture(1)\n",
    "font = cv2.FONT_HERSHEY_SIMPLEX\n",
    "face_cascade = cv2.CascadeClassifier('haarcascades/haarcascade_frontalface_default.xml')\n",
    "\n",
    "color = (0, 255, 0)\n",
    "fontsize = 2\n",
    "\n",
    "while(True):\n",
    "    img = cap.read()\n",
    "    gray = cv2.cvtColor(img, cv2.COLOR_BGR2GRAY)\n",
    "    faces = face_cascade.detectMultiScale(\n",
    "        gray,     \n",
    "        scaleFactor=1.2,\n",
    "        minNeighbors=5,     \n",
    "        minSize=(10, 10)\n",
    "    )\n",
    "    for (x,y,w,h) in faces:\n",
    "        cv2.rectangle(img, (x,y), (x+w,y+h), (0,255,0), 2)\n",
    "        predictions = prob_model.predict(sample_process(img[y:y+h,x:x+w]), verbose=0)\n",
    "        id = predictions[0].argmax()\n",
    "        confidence = predictions[0][predictions[0].argmax()] * 100\n",
    "        if (confidence > 80):\n",
    "            id = name[id]\n",
    "            cv2.putText(\n",
    "                    img, \n",
    "                    str(id), \n",
    "                    (x+5,y-5), \n",
    "                    font, \n",
    "                    1, \n",
    "                    (255,255,255), \n",
    "                    2\n",
    "                   )\n",
    "            cv2.putText(\n",
    "                    img, \n",
    "                    str(confidence), \n",
    "                    (x+5,y+h-5), \n",
    "                    font, \n",
    "                    1, \n",
    "                    (255,255,0), \n",
    "                    1\n",
    "                   )  \n",
    "        else:\n",
    "            id = \"unknown\"\n",
    "            cv2.putText(\n",
    "                    img, \n",
    "                    str(id), \n",
    "                    (x+5,y-5), \n",
    "                    font, \n",
    "                    1, \n",
    "                    (255,255,255), \n",
    "                    2\n",
    "                   )\n",
    "        \n",
    "    cv2.imshow('camera',img)\n",
    "    k = cv2.waitKey(10) & 0xff\n",
    "    if k == 27:\n",
    "        break\n",
    "print(\"\\n [INFO] Exiting Program and cleanup stuff\")\n",
    "cap.release()\n",
    "cv2.destroyAllWindows()"
   ]
  },
  {
   "cell_type": "code",
   "execution_count": null,
   "metadata": {},
   "outputs": [],
   "source": []
  }
 ],
 "metadata": {
  "kernelspec": {
   "display_name": "ML",
   "language": "python",
   "name": "python3"
  },
  "language_info": {
   "codemirror_mode": {
    "name": "ipython",
    "version": 3
   },
   "file_extension": ".py",
   "mimetype": "text/x-python",
   "name": "python",
   "nbconvert_exporter": "python",
   "pygments_lexer": "ipython3",
   "version": "3.9.17"
  },
  "orig_nbformat": 4
 },
 "nbformat": 4,
 "nbformat_minor": 2
}
