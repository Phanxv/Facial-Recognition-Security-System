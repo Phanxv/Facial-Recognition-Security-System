{
 "cells": [
  {
   "cell_type": "code",
   "execution_count": 25,
   "metadata": {},
   "outputs": [],
   "source": [
    "import tensorflow as tf\n",
    "from tensorflow.keras.models import load_model\n",
    "import keras\n",
    "import cv2\n",
    "import time"
   ]
  },
  {
   "cell_type": "code",
   "execution_count": 26,
   "metadata": {},
   "outputs": [
    {
     "name": "stdout",
     "output_type": "stream",
     "text": [
      "[INFO] RANDOMLY SELECTING IMAGE\n",
      "datasets_VGG/unknown/3/Selfie_1.jpg\n",
      "datasets_VGG/unknown/2/ID_2.jpg\n",
      "datasets_VGG/unknown/3/Selfie_8.jpg\n",
      "datasets_VGG/unknown/3/Selfie_3.jpg\n",
      "datasets_VGG/unknown/2/ID_1.jpg\n",
      "datasets_VGG/unknown/1/Selfie_6.jpg\n",
      "datasets_VGG/unknown/3/Selfie_12.jpg\n",
      "datasets_VGG/unknown/4/Selfie_9.JPG\n",
      "datasets_VGG/unknown/4/ID_1.jpg\n",
      "datasets_VGG/unknown/4/Selfie_3.JPG\n",
      "datasets_VGG/unknown/3/Selfie_7.jpg\n",
      "datasets_VGG/unknown/2/Selfie_1.jpg\n",
      "datasets_VGG/unknown/3/Selfie_13.jpg\n",
      "datasets_VGG/unknown/5/Selfie_1.jpg\n",
      "datasets_VGG/unknown/4/Selfie_6.JPG\n",
      "datasets_VGG/unknown/2/Selfie_9.jpg\n",
      "datasets_VGG/unknown/2/Selfie_9.jpg\n",
      "datasets_VGG/unknown/5/Selfie_13.jpg\n",
      "datasets_VGG/unknown/3/Selfie_6.jpg\n",
      "datasets_VGG/unknown/1/Selfie_12.jpg\n",
      "datasets_VGG/unknown/3/Selfie_9.jpg\n",
      "datasets_VGG/unknown/1/Selfie_13.jpg\n",
      "datasets_VGG/unknown/5/Selfie_1.jpg\n",
      "datasets_VGG/unknown/2/Selfie_10.jpg\n",
      "datasets_VGG/unknown/3/ID_2.jpg\n",
      "datasets_VGG/unknown/1/Selfie_6.jpg\n",
      "datasets_VGG/unknown/5/Selfie_1.jpg\n",
      "datasets_VGG/unknown/2/Selfie_3.jpg\n",
      "datasets_VGG/unknown/2/Selfie_4.jpg\n",
      "datasets_VGG/unknown/2/Selfie_6.jpg\n",
      "datasets_VGG/unknown/3/Selfie_6.jpg\n",
      "datasets_VGG/unknown/4/Selfie_6.JPG\n",
      "datasets_VGG/unknown/1/Selfie_9.jpg\n",
      "datasets_VGG/unknown/2/Selfie_13.jpg\n",
      "datasets_VGG/unknown/5/ID_2.jpg\n",
      "datasets_VGG/unknown/4/Selfie_6.JPG\n",
      "datasets_VGG/unknown/3/Selfie_7.jpg\n",
      "datasets_VGG/unknown/1/Selfie_8.jpg\n",
      "datasets_VGG/unknown/4/Selfie_10.JPG\n",
      "datasets_VGG/unknown/1/Selfie_10.jpg\n",
      "datasets_VGG/unknown/1/Selfie_12.jpg\n",
      "datasets_VGG/unknown/4/ID_1.jpg\n",
      "datasets_VGG/unknown/1/ID_1.jpg\n",
      "datasets_VGG/unknown/4/Selfie_13.JPG\n",
      "datasets_VGG/unknown/1/Selfie_12.jpg\n",
      "datasets_VGG/unknown/2/Selfie_3.jpg\n",
      "datasets_VGG/unknown/4/Selfie_2.JPG\n",
      "datasets_VGG/unknown/4/Selfie_8.JPG\n",
      "datasets_VGG/unknown/2/Selfie_6.jpg\n",
      "datasets_VGG/unknown/5/Selfie_1.jpg\n",
      "datasets_VGG/unknown/2/Selfie_8.jpg\n",
      "Image selected : 103 images\n",
      "Total label : 103 labels \n"
     ]
    }
   ],
   "source": [
    "import os, random\n",
    "\n",
    "print('[INFO] RANDOMLY SELECTING IMAGE')\n",
    "rand_select_img = []\n",
    "rand_select_label = []\n",
    "\n",
    "i = 0\n",
    "\n",
    "aonan_data_path = os.listdir('datasets_VGG/aonan')\n",
    "elf_data_path = os.listdir('datasets_VGG/elf')\n",
    "\n",
    "while i <= 25 :\n",
    "    rand_select_img.append(f'datasets_VGG/aonan/{random.choice(aonan_data_path)}')\n",
    "    rand_select_label.append('aonan')\n",
    "    rand_select_img.append(f'datasets_VGG/elf/{random.choice(elf_data_path)}')\n",
    "    rand_select_label.append('elf')\n",
    "    i+=1\n",
    "\n",
    "\n",
    "\n",
    "i = 0\n",
    "while i <= 50 : \n",
    "    rand_int = random.randint(1,5)\n",
    "    unknown_data_path = f'datasets_VGG/unknown/{rand_int}'\n",
    "    rand_choice = os.listdir(f'datasets_VGG/unknown/{rand_int}')\n",
    "    path = f'{unknown_data_path}/{random.choice(rand_choice)}'\n",
    "    rand_select_img.append(path)\n",
    "    print(path)\n",
    "    rand_select_label.append('unknown')\n",
    "    i+=1\n",
    "print(f'Image selected : {len(rand_select_img)} images')\n",
    "print(f'Total label : {len(rand_select_img)} labels ')"
   ]
  },
  {
   "cell_type": "code",
   "execution_count": 27,
   "metadata": {},
   "outputs": [
    {
     "name": "stdout",
     "output_type": "stream",
     "text": [
      "WARNING:tensorflow:No training configuration found in save file, so the model was *not* compiled. Compile it manually.\n"
     ]
    }
   ],
   "source": [
    "prob_model = load_model('./model/model_2025-09-04_1756974610.074763.tf')"
   ]
  },
  {
   "cell_type": "code",
   "execution_count": 28,
   "metadata": {},
   "outputs": [],
   "source": [
    "name = ['aonan','elf','unknown']"
   ]
  },
  {
   "cell_type": "code",
   "execution_count": 29,
   "metadata": {},
   "outputs": [],
   "source": [
    "sample_set = []\n",
    "for img in rand_select_img :\n",
    "    sample = cv2.imread(img)\n",
    "    sample_set.append(sample)\n"
   ]
  },
  {
   "cell_type": "code",
   "execution_count": 30,
   "metadata": {},
   "outputs": [],
   "source": [
    "def sample_process(sample) :\n",
    "    sample_reshape = cv2.resize(sample,dsize=(224,224))\n",
    "    sample = tf.convert_to_tensor(sample_reshape, dtype=tf.float32)\n",
    "    sample = tf.expand_dims(sample, 0)\n",
    "    return sample"
   ]
  },
  {
   "cell_type": "code",
   "execution_count": 31,
   "metadata": {},
   "outputs": [],
   "source": [
    "sample_set_processed = []\n",
    "for sample in sample_set :\n",
    "    sample_e = sample_process(sample)\n",
    "    sample_set_processed.append(sample_e)"
   ]
  },
  {
   "cell_type": "code",
   "execution_count": 32,
   "metadata": {},
   "outputs": [
    {
     "data": {
      "text/plain": [
       "TensorShape([1, 224, 224, 3])"
      ]
     },
     "execution_count": 32,
     "metadata": {},
     "output_type": "execute_result"
    }
   ],
   "source": [
    "sample_set_processed[0].shape"
   ]
  },
  {
   "cell_type": "code",
   "execution_count": 44,
   "metadata": {},
   "outputs": [],
   "source": [
    "def decode_prediction(predictions, label):\n",
    "    confidence = predictions[0][predictions[0].argmax()] * 100\n",
    "    print(predictions[0][predictions[0].argmax()])\n",
    "    if confidence > 80 : \n",
    "        return label[predictions[0].argmax()]\n",
    "    else :\n",
    "        return 'unknown'"
   ]
  },
  {
   "cell_type": "code",
   "execution_count": 45,
   "metadata": {},
   "outputs": [
    {
     "name": "stdout",
     "output_type": "stream",
     "text": [
      "1/1 [==============================] - 0s 25ms/step\n",
      "0.96270424\n",
      "1/1 [==============================] - 0s 19ms/step\n",
      "0.96109325\n",
      "1/1 [==============================] - 0s 21ms/step\n",
      "0.9810783\n",
      "1/1 [==============================] - 0s 20ms/step\n",
      "0.85825664\n",
      "1/1 [==============================] - 0s 17ms/step\n",
      "0.9365063\n",
      "1/1 [==============================] - 0s 19ms/step\n",
      "0.8297722\n",
      "1/1 [==============================] - 0s 18ms/step\n",
      "0.9673014\n",
      "1/1 [==============================] - 0s 21ms/step\n",
      "0.9514648\n",
      "1/1 [==============================] - 0s 19ms/step\n",
      "0.9743479\n",
      "1/1 [==============================] - 0s 19ms/step\n",
      "0.97373044\n",
      "1/1 [==============================] - 0s 21ms/step\n",
      "0.9674329\n",
      "1/1 [==============================] - 0s 19ms/step\n",
      "0.87661844\n",
      "1/1 [==============================] - 0s 19ms/step\n",
      "0.9806769\n",
      "1/1 [==============================] - 0s 19ms/step\n",
      "0.95326596\n",
      "1/1 [==============================] - 0s 20ms/step\n",
      "0.93722355\n",
      "1/1 [==============================] - 0s 20ms/step\n",
      "0.94443214\n",
      "1/1 [==============================] - 0s 22ms/step\n",
      "0.9796962\n",
      "1/1 [==============================] - 0s 25ms/step\n",
      "0.956997\n",
      "1/1 [==============================] - 0s 19ms/step\n",
      "0.96420234\n",
      "1/1 [==============================] - 0s 19ms/step\n",
      "0.9436019\n",
      "1/1 [==============================] - 0s 22ms/step\n",
      "0.9245992\n",
      "1/1 [==============================] - 0s 20ms/step\n",
      "0.87493736\n",
      "1/1 [==============================] - 0s 29ms/step\n",
      "0.982632\n",
      "1/1 [==============================] - 0s 21ms/step\n",
      "0.9575117\n",
      "1/1 [==============================] - 0s 18ms/step\n",
      "0.980766\n",
      "1/1 [==============================] - 0s 19ms/step\n",
      "0.9549005\n",
      "1/1 [==============================] - 0s 21ms/step\n",
      "0.96310365\n",
      "1/1 [==============================] - 0s 20ms/step\n",
      "0.94599736\n",
      "1/1 [==============================] - 0s 24ms/step\n",
      "0.95631665\n",
      "1/1 [==============================] - 0s 24ms/step\n",
      "0.9570602\n",
      "1/1 [==============================] - 0s 21ms/step\n",
      "0.9770916\n",
      "1/1 [==============================] - 0s 19ms/step\n",
      "0.94344676\n",
      "1/1 [==============================] - 0s 22ms/step\n",
      "0.9813193\n",
      "1/1 [==============================] - 0s 21ms/step\n",
      "0.97373044\n",
      "1/1 [==============================] - 0s 19ms/step\n",
      "0.96790856\n",
      "1/1 [==============================] - 0s 18ms/step\n",
      "0.96245503\n",
      "1/1 [==============================] - 0s 22ms/step\n",
      "0.9699682\n",
      "1/1 [==============================] - 0s 26ms/step\n",
      "0.9295821\n",
      "1/1 [==============================] - 0s 24ms/step\n",
      "0.9761511\n",
      "1/1 [==============================] - 0s 19ms/step\n",
      "0.9520593\n",
      "1/1 [==============================] - 0s 21ms/step\n",
      "0.9656056\n",
      "1/1 [==============================] - 0s 21ms/step\n",
      "0.9433223\n",
      "1/1 [==============================] - 0s 19ms/step\n",
      "0.97225666\n",
      "1/1 [==============================] - 0s 21ms/step\n",
      "0.8993181\n",
      "1/1 [==============================] - 0s 20ms/step\n",
      "0.9652677\n",
      "1/1 [==============================] - 0s 20ms/step\n",
      "0.92148685\n",
      "1/1 [==============================] - 0s 22ms/step\n",
      "0.96884245\n",
      "1/1 [==============================] - 0s 29ms/step\n",
      "0.8863029\n",
      "1/1 [==============================] - 0s 18ms/step\n",
      "0.9635589\n",
      "1/1 [==============================] - 0s 21ms/step\n",
      "0.94421405\n",
      "1/1 [==============================] - 0s 19ms/step\n",
      "0.979188\n",
      "1/1 [==============================] - 0s 23ms/step\n",
      "0.94358176\n",
      "1/1 [==============================] - 0s 19ms/step\n",
      "0.8046363\n",
      "1/1 [==============================] - 0s 21ms/step\n",
      "0.58628696\n",
      "1/1 [==============================] - 0s 20ms/step\n",
      "0.55608803\n",
      "1/1 [==============================] - 0s 20ms/step\n",
      "0.6153807\n",
      "1/1 [==============================] - 0s 22ms/step\n",
      "0.58284795\n",
      "1/1 [==============================] - 0s 19ms/step\n",
      "0.5528076\n",
      "1/1 [==============================] - 0s 20ms/step\n",
      "0.5182154\n",
      "1/1 [==============================] - 0s 22ms/step\n",
      "0.66077244\n",
      "1/1 [==============================] - 0s 21ms/step\n",
      "0.5142379\n",
      "1/1 [==============================] - 0s 20ms/step\n",
      "0.5627552\n",
      "1/1 [==============================] - 0s 19ms/step\n",
      "0.5085385\n",
      "1/1 [==============================] - 0s 21ms/step\n",
      "0.5611145\n",
      "1/1 [==============================] - 0s 18ms/step\n",
      "0.5463607\n",
      "1/1 [==============================] - 0s 20ms/step\n",
      "0.8562332\n",
      "1/1 [==============================] - 0s 21ms/step\n",
      "0.57911664\n",
      "1/1 [==============================] - 0s 21ms/step\n",
      "0.6462448\n",
      "1/1 [==============================] - 0s 19ms/step\n",
      "0.6462448\n",
      "1/1 [==============================] - 0s 20ms/step\n",
      "0.8106193\n",
      "1/1 [==============================] - 0s 19ms/step\n",
      "0.609947\n",
      "1/1 [==============================] - 0s 26ms/step\n",
      "0.5153145\n",
      "1/1 [==============================] - 0s 21ms/step\n",
      "0.58464885\n",
      "1/1 [==============================] - 0s 19ms/step\n",
      "0.54995817\n",
      "1/1 [==============================] - 0s 20ms/step\n",
      "0.8562332\n",
      "1/1 [==============================] - 0s 21ms/step\n",
      "0.64085704\n",
      "1/1 [==============================] - 0s 18ms/step\n",
      "0.59458965\n",
      "1/1 [==============================] - 0s 21ms/step\n",
      "0.5528076\n",
      "1/1 [==============================] - 0s 18ms/step\n",
      "0.8562332\n",
      "1/1 [==============================] - 0s 19ms/step\n",
      "0.5204855\n",
      "1/1 [==============================] - 0s 19ms/step\n",
      "0.60088956\n",
      "1/1 [==============================] - 0s 20ms/step\n",
      "0.6113268\n",
      "1/1 [==============================] - 0s 19ms/step\n",
      "0.609947\n",
      "1/1 [==============================] - 0s 21ms/step\n",
      "0.57911664\n",
      "1/1 [==============================] - 0s 19ms/step\n",
      "0.55573756\n",
      "1/1 [==============================] - 0s 22ms/step\n",
      "0.5123405\n",
      "1/1 [==============================] - 0s 23ms/step\n",
      "0.5739631\n",
      "1/1 [==============================] - 0s 19ms/step\n",
      "0.57911664\n",
      "1/1 [==============================] - 0s 18ms/step\n",
      "0.5085385\n",
      "1/1 [==============================] - 0s 18ms/step\n",
      "0.57301176\n",
      "1/1 [==============================] - 0s 20ms/step\n",
      "0.5152906\n",
      "1/1 [==============================] - 0s 22ms/step\n",
      "0.5384437\n",
      "1/1 [==============================] - 0s 20ms/step\n",
      "0.5153145\n",
      "1/1 [==============================] - 0s 19ms/step\n",
      "0.5142379\n",
      "1/1 [==============================] - 0s 21ms/step\n",
      "0.5775162\n",
      "1/1 [==============================] - 0s 21ms/step\n",
      "0.91683066\n",
      "1/1 [==============================] - 0s 21ms/step\n",
      "0.5153145\n",
      "1/1 [==============================] - 0s 23ms/step\n",
      "0.5204855\n",
      "1/1 [==============================] - 0s 18ms/step\n",
      "0.58417094\n",
      "1/1 [==============================] - 0s 23ms/step\n",
      "0.597701\n",
      "1/1 [==============================] - 0s 24ms/step\n",
      "0.6113268\n",
      "1/1 [==============================] - 0s 20ms/step\n",
      "0.8562332\n",
      "1/1 [==============================] - 0s 19ms/step\n",
      "0.55762255\n",
      "['aonan', 'elf', 'aonan', 'elf', 'aonan', 'elf', 'aonan', 'elf', 'aonan', 'elf', 'aonan', 'elf', 'aonan', 'elf', 'aonan', 'elf', 'aonan', 'elf', 'aonan', 'elf', 'aonan', 'elf', 'aonan', 'elf', 'aonan', 'elf', 'aonan', 'elf', 'aonan', 'elf', 'aonan', 'elf', 'aonan', 'elf', 'aonan', 'elf', 'aonan', 'elf', 'aonan', 'elf', 'aonan', 'elf', 'aonan', 'elf', 'aonan', 'elf', 'aonan', 'elf', 'aonan', 'elf', 'aonan', 'elf', 'elf', 'unknown', 'unknown', 'unknown', 'unknown', 'unknown', 'unknown', 'unknown', 'unknown', 'unknown', 'unknown', 'unknown', 'unknown', 'elf', 'unknown', 'unknown', 'unknown', 'elf', 'unknown', 'unknown', 'unknown', 'unknown', 'elf', 'unknown', 'unknown', 'unknown', 'elf', 'unknown', 'unknown', 'unknown', 'unknown', 'unknown', 'unknown', 'unknown', 'unknown', 'unknown', 'unknown', 'unknown', 'unknown', 'unknown', 'unknown', 'unknown', 'unknown', 'aonan', 'unknown', 'unknown', 'unknown', 'unknown', 'unknown', 'elf', 'unknown']\n"
     ]
    }
   ],
   "source": [
    "pred_label = []\n",
    "for sample in sample_set_processed :\n",
    "    predictions = prob_model.predict(sample)\n",
    "    pred_label.append(decode_prediction(predictions, name))\n",
    "print(pred_label)"
   ]
  },
  {
   "cell_type": "code",
   "execution_count": 35,
   "metadata": {},
   "outputs": [],
   "source": [
    "from sklearn import metrics\n",
    "import matplotlib.pyplot as plt"
   ]
  },
  {
   "cell_type": "code",
   "execution_count": 46,
   "metadata": {},
   "outputs": [
    {
     "data": {
      "image/png": "[encoded data removed]",
      "text/plain": [
       "<Figure size 640x480 with 2 Axes>"
      ]
     },
     "metadata": {},
     "output_type": "display_data"
    }
   ],
   "source": [
    "confusion_matrix = metrics.confusion_matrix(rand_select_label, pred_label)\n",
    "cm_display = metrics.ConfusionMatrixDisplay(confusion_matrix = confusion_matrix, display_labels=name)\n",
    "cm_display.plot()\n",
    "plt.show()"
   ]
  },
  {
   "cell_type": "markdown",
   "metadata": {},
   "source": [
    "### Real-Time recognition testing"
   ]
  },
  {
   "cell_type": "code",
   "execution_count": 37,
   "metadata": {},
   "outputs": [],
   "source": [
    "import cv2, queue, threading, time"
   ]
  },
  {
   "cell_type": "markdown",
   "metadata": {},
   "source": []
  },
  {
   "cell_type": "markdown",
   "metadata": {},
   "source": [
    "##### Custom-made video capture for using with CCTV"
   ]
  },
  {
   "cell_type": "code",
   "execution_count": 39,
   "metadata": {},
   "outputs": [],
   "source": [
    "class VideoCapture:\n",
    "\n",
    "  def __init__(self, name):\n",
    "    self.cap = cv2.VideoCapture(name)\n",
    "    self.q = queue.Queue()\n",
    "    t = threading.Thread(target=self._reader)\n",
    "    t.daemon = True\n",
    "    t.start()\n",
    "\n",
    "  def _reader(self):\n",
    "    while True:\n",
    "      ret, frame = self.cap.read()\n",
    "      if not ret:\n",
    "        break\n",
    "      if not self.q.empty():\n",
    "        try:\n",
    "          self.q.get_nowait()\n",
    "        except queue.Empty:\n",
    "          pass\n",
    "      self.q.put(frame)\n",
    "\n",
    "  def read(self):\n",
    "    return self.q.get()\n",
    "  \n",
    "  def release(self):\n",
    "    self.cap.release()\n"
   ]
  },
  {
   "cell_type": "code",
   "execution_count": 40,
   "metadata": {},
   "outputs": [
    {
     "name": "stdout",
     "output_type": "stream",
     "text": [
      "\n",
      " [INFO] Exiting Program and cleanup stuff\n"
     ]
    }
   ],
   "source": [
    "cap = VideoCapture(0)\n",
    "font = cv2.FONT_HERSHEY_SIMPLEX\n",
    "face_cascade = cv2.CascadeClassifier('haarcascades/haarcascade_frontalface_default.xml')\n",
    "\n",
    "color = (0, 255, 0)\n",
    "fontsize = 2\n",
    "\n",
    "while(True):\n",
    "    img = cap.read()\n",
    "    gray = cv2.cvtColor(img, cv2.COLOR_BGR2GRAY)\n",
    "    faces = face_cascade.detectMultiScale(\n",
    "        gray,     \n",
    "        scaleFactor=1.2,\n",
    "        minNeighbors=5,     \n",
    "        minSize=(10, 10)\n",
    "    )\n",
    "    for (x,y,w,h) in faces:\n",
    "        cv2.rectangle(img, (x,y), (x+w,y+h), (0,255,0), 2)\n",
    "        predictions = prob_model.predict(sample_process(img[y:y+h,x:x+w]), verbose=0)\n",
    "        id = predictions[0].argmax()\n",
    "        confidence = predictions[0][predictions[0].argmax()] * 100\n",
    "        if (confidence > 75):\n",
    "            id = name[id]\n",
    "            cv2.putText(\n",
    "                    img, \n",
    "                    str(id), \n",
    "                    (x+5,y-5), \n",
    "                    font, \n",
    "                    1, \n",
    "                    (255,255,255), \n",
    "                    2\n",
    "                   )\n",
    "            cv2.putText(\n",
    "                    img, \n",
    "                    str(confidence), \n",
    "                    (x+5,y+h-5), \n",
    "                    font, \n",
    "                    1, \n",
    "                    (255,255,0), \n",
    "                    1\n",
    "                   )  \n",
    "        else:\n",
    "            id = \"unknown\"\n",
    "            cv2.putText(\n",
    "                    img, \n",
    "                    str(id), \n",
    "                    (x+5,y-5), \n",
    "                    font, \n",
    "                    1, \n",
    "                    (255,255,255), \n",
    "                    2\n",
    "                   )\n",
    "        \n",
    "    cv2.imshow('camera',img)\n",
    "    k = cv2.waitKey(10) & 0xff\n",
    "    if k == 27:\n",
    "        break\n",
    "print(\"\\n [INFO] Exiting Program and cleanup stuff\")\n",
    "cap.release()\n",
    "cv2.destroyAllWindows()"
   ]
  },
  {
   "cell_type": "code",
   "execution_count": null,
   "metadata": {},
   "outputs": [
    {
     "name": "stdout",
     "output_type": "stream",
     "text": [
      "Collecting windows-capture-device-list\n",
      "  Downloading windows-capture-device-list-1.1.0.tar.gz (3.5 kB)\n",
      "  Installing build dependencies ... \u001b[?25ldone\n",
      "\u001b[?25h  Getting requirements to build wheel ... \u001b[?25ldone\n",
      "\u001b[?25h  Preparing metadata (pyproject.toml) ... \u001b[?25ldone\n",
      "\u001b[?25hBuilding wheels for collected packages: windows-capture-device-list\n",
      "  Building wheel for windows-capture-device-list (pyproject.toml) ... \u001b[?25ldone\n",
      "\u001b[?25h  Created wheel for windows-capture-device-list: filename=windows_capture_device_list-1.1.0-py3-none-any.whl size=3555 sha256=460a2e28792d40833188de1ed7b5a216908f97e96dc5e958e6d64120d95fea77\n",
      "  Stored in directory: /home/phanxv/.var/app/com.visualstudio.code/cache/pip/wheels/80/04/d8/3d85b7688d48be2d1f975a8ba6da1569a92dd1622d4e1bfec1\n",
      "Successfully built windows-capture-device-list\n",
      "Installing collected packages: windows-capture-device-list\n",
      "Successfully installed windows-capture-device-list-1.1.0\n",
      "Note: you may need to restart the kernel to use updated packages.\n"
     ]
    }
   ],
   "source": [
    "pip install windows-capture-device-list"
   ]
  }
 ],
 "metadata": {
  "kernelspec": {
   "display_name": "tf-gpu",
   "language": "python",
   "name": "python3"
  },
  "language_info": {
   "codemirror_mode": {
    "name": "ipython",
    "version": 3
   },
   "file_extension": ".py",
   "mimetype": "text/x-python",
   "name": "python",
   "nbconvert_exporter": "python",
   "pygments_lexer": "ipython3",
   "version": "3.10.18"
  },
  "orig_nbformat": 4
 },
 "nbformat": 4,
 "nbformat_minor": 2
}
