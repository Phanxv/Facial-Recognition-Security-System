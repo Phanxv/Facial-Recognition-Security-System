{
 "cells": [
  {
   "cell_type": "code",
   "execution_count": 2,
   "metadata": {},
   "outputs": [
    {
     "name": "stderr",
     "output_type": "stream",
     "text": [
      "2023-08-23 16:34:42.862305: I tensorflow/core/platform/cpu_feature_guard.cc:182] This TensorFlow binary is optimized to use available CPU instructions in performance-critical operations.\n",
      "To enable the following instructions: AVX2 FMA, in other operations, rebuild TensorFlow with the appropriate compiler flags.\n",
      "2023-08-23 16:34:43.795778: W tensorflow/compiler/tf2tensorrt/utils/py_utils.cc:38] TF-TRT Warning: Could not find TensorRT\n"
     ]
    }
   ],
   "source": [
    "import tensorflow as tf\n",
    "from tensorflow.keras.models import load_model\n",
    "import keras\n",
    "from keras_vggface.vggface import VGGFace\n",
    "import cv2\n",
    "import time"
   ]
  },
  {
   "cell_type": "code",
   "execution_count": 3,
   "metadata": {},
   "outputs": [
    {
     "name": "stderr",
     "output_type": "stream",
     "text": [
      "2023-08-23 16:34:46.550881: I tensorflow/compiler/xla/stream_executor/cuda/cuda_gpu_executor.cc:996] successful NUMA node read from SysFS had negative value (-1), but there must be at least one NUMA node, so returning NUMA node zero. See more at https://github.com/torvalds/linux/blob/v6.0/Documentation/ABI/testing/sysfs-bus-pci#L344-L355\n",
      "2023-08-23 16:34:46.696703: I tensorflow/compiler/xla/stream_executor/cuda/cuda_gpu_executor.cc:996] successful NUMA node read from SysFS had negative value (-1), but there must be at least one NUMA node, so returning NUMA node zero. See more at https://github.com/torvalds/linux/blob/v6.0/Documentation/ABI/testing/sysfs-bus-pci#L344-L355\n",
      "2023-08-23 16:34:46.696911: I tensorflow/compiler/xla/stream_executor/cuda/cuda_gpu_executor.cc:996] successful NUMA node read from SysFS had negative value (-1), but there must be at least one NUMA node, so returning NUMA node zero. See more at https://github.com/torvalds/linux/blob/v6.0/Documentation/ABI/testing/sysfs-bus-pci#L344-L355\n",
      "2023-08-23 16:34:46.697822: I tensorflow/compiler/xla/stream_executor/cuda/cuda_gpu_executor.cc:996] successful NUMA node read from SysFS had negative value (-1), but there must be at least one NUMA node, so returning NUMA node zero. See more at https://github.com/torvalds/linux/blob/v6.0/Documentation/ABI/testing/sysfs-bus-pci#L344-L355\n",
      "2023-08-23 16:34:46.697981: I tensorflow/compiler/xla/stream_executor/cuda/cuda_gpu_executor.cc:996] successful NUMA node read from SysFS had negative value (-1), but there must be at least one NUMA node, so returning NUMA node zero. See more at https://github.com/torvalds/linux/blob/v6.0/Documentation/ABI/testing/sysfs-bus-pci#L344-L355\n",
      "2023-08-23 16:34:46.698109: I tensorflow/compiler/xla/stream_executor/cuda/cuda_gpu_executor.cc:996] successful NUMA node read from SysFS had negative value (-1), but there must be at least one NUMA node, so returning NUMA node zero. See more at https://github.com/torvalds/linux/blob/v6.0/Documentation/ABI/testing/sysfs-bus-pci#L344-L355\n",
      "2023-08-23 16:34:47.515393: I tensorflow/compiler/xla/stream_executor/cuda/cuda_gpu_executor.cc:996] successful NUMA node read from SysFS had negative value (-1), but there must be at least one NUMA node, so returning NUMA node zero. See more at https://github.com/torvalds/linux/blob/v6.0/Documentation/ABI/testing/sysfs-bus-pci#L344-L355\n",
      "2023-08-23 16:34:47.515644: I tensorflow/compiler/xla/stream_executor/cuda/cuda_gpu_executor.cc:996] successful NUMA node read from SysFS had negative value (-1), but there must be at least one NUMA node, so returning NUMA node zero. See more at https://github.com/torvalds/linux/blob/v6.0/Documentation/ABI/testing/sysfs-bus-pci#L344-L355\n",
      "2023-08-23 16:34:47.515844: I tensorflow/compiler/xla/stream_executor/cuda/cuda_gpu_executor.cc:996] successful NUMA node read from SysFS had negative value (-1), but there must be at least one NUMA node, so returning NUMA node zero. See more at https://github.com/torvalds/linux/blob/v6.0/Documentation/ABI/testing/sysfs-bus-pci#L344-L355\n",
      "2023-08-23 16:34:47.515959: I tensorflow/core/common_runtime/gpu/gpu_device.cc:1635] Created device /job:localhost/replica:0/task:0/device:GPU:0 with 4069 MB memory:  -> device: 0, name: NVIDIA GeForce RTX 3060 Laptop GPU, pci bus id: 0000:01:00.0, compute capability: 8.6\n"
     ]
    },
    {
     "name": "stdout",
     "output_type": "stream",
     "text": [
      "WARNING:tensorflow:No training configuration found in save file, so the model was *not* compiled. Compile it manually.\n"
     ]
    }
   ],
   "source": [
    "prob_model = load_model(\"third_model_face.tf\")"
   ]
  },
  {
   "cell_type": "code",
   "execution_count": 4,
   "metadata": {},
   "outputs": [],
   "source": [
    "name = ['bus','elf','petch','unknown']"
   ]
  },
  {
   "cell_type": "code",
   "execution_count": 5,
   "metadata": {},
   "outputs": [],
   "source": [
    "sample_set = []\n",
    "for i in range(1,31) :\n",
    "    sample = cv2.imread(f'test/000{i}.png')\n",
    "    sample_set.append(sample)\n"
   ]
  },
  {
   "cell_type": "code",
   "execution_count": 6,
   "metadata": {},
   "outputs": [
    {
     "data": {
      "text/plain": [
       "(132, 130, 3)"
      ]
     },
     "execution_count": 6,
     "metadata": {},
     "output_type": "execute_result"
    }
   ],
   "source": [
    "sample_set[24].shape"
   ]
  },
  {
   "cell_type": "code",
   "execution_count": 7,
   "metadata": {},
   "outputs": [],
   "source": [
    "def sample_process(sample) :\n",
    "    sample_reshape = cv2.resize(sample,dsize=(224,224))\n",
    "    sample = tf.convert_to_tensor(sample_reshape, dtype=tf.float32)\n",
    "    sample = tf.expand_dims(sample, 0)\n",
    "    return sample"
   ]
  },
  {
   "cell_type": "code",
   "execution_count": 8,
   "metadata": {},
   "outputs": [],
   "source": [
    "sample_set_processed = []\n",
    "for sample in sample_set :\n",
    "    sample_e = sample_process(sample)\n",
    "    sample_set_processed.append(sample_e)"
   ]
  },
  {
   "cell_type": "code",
   "execution_count": 9,
   "metadata": {},
   "outputs": [
    {
     "data": {
      "text/plain": [
       "TensorShape([1, 224, 224, 3])"
      ]
     },
     "execution_count": 9,
     "metadata": {},
     "output_type": "execute_result"
    }
   ],
   "source": [
    "sample_set_processed[0].shape"
   ]
  },
  {
   "cell_type": "code",
   "execution_count": 10,
   "metadata": {},
   "outputs": [
    {
     "name": "stderr",
     "output_type": "stream",
     "text": [
      "2023-08-23 16:34:55.496379: I tensorflow/compiler/xla/stream_executor/cuda/cuda_dnn.cc:424] Loaded cuDNN version 8600\n",
      "2023-08-23 16:34:56.652395: I tensorflow/compiler/xla/stream_executor/cuda/cuda_blas.cc:637] TensorFloat-32 will be used for the matrix multiplication. This will only be logged once.\n"
     ]
    },
    {
     "name": "stdout",
     "output_type": "stream",
     "text": [
      "1/1 [==============================] - 4s 4s/step\n",
      "[0.00584693 0.97435975 0.00246858 0.01732482]\n",
      "num : 1\tclass : elf conf : 97.43597507476807\n",
      "1/1 [==============================] - 0s 18ms/step\n",
      "[0.02689626 0.08677001 0.8751167  0.01121705]\n",
      "num : 2\tclass : petch conf : 87.51167058944702\n",
      "1/1 [==============================] - 0s 18ms/step\n",
      "[0.01033761 0.9405719  0.00748541 0.04160509]\n",
      "num : 3\tclass : elf conf : 94.05719041824341\n",
      "1/1 [==============================] - 0s 18ms/step\n",
      "[0.98610526 0.00285375 0.00400112 0.00703989]\n",
      "num : 4\tclass : bus conf : 98.61052632331848\n",
      "1/1 [==============================] - 0s 17ms/step\n",
      "[0.2252686  0.10708395 0.04687657 0.6207709 ]\n",
      "num : 5\tclass : unknown conf : 62.07708716392517\n",
      "1/1 [==============================] - 0s 17ms/step\n",
      "[0.38509813 0.17151971 0.1483104  0.2950717 ]\n",
      "num : 6\tclass : bus conf : 38.50981295108795\n",
      "1/1 [==============================] - 0s 17ms/step\n",
      "[0.4191685  0.03250257 0.05230152 0.49602735]\n",
      "num : 7\tclass : unknown conf : 49.60273504257202\n",
      "1/1 [==============================] - 0s 17ms/step\n",
      "[0.01625017 0.69537735 0.23980485 0.04856765]\n",
      "num : 8\tclass : elf conf : 69.53773498535156\n",
      "1/1 [==============================] - 0s 23ms/step\n",
      "[0.06275783 0.3062037  0.58812326 0.0429152 ]\n",
      "num : 9\tclass : petch conf : 58.812326192855835\n",
      "1/1 [==============================] - 0s 22ms/step\n",
      "[0.12574488 0.06331244 0.76852554 0.04241714]\n",
      "num : 10\tclass : petch conf : 76.85255408287048\n",
      "1/1 [==============================] - 0s 23ms/step\n",
      "[0.0010504  0.98004526 0.00124046 0.01766386]\n",
      "num : 11\tclass : elf conf : 98.00452589988708\n",
      "1/1 [==============================] - 0s 21ms/step\n",
      "[0.00810956 0.0277395  0.9456395  0.01851149]\n",
      "num : 12\tclass : petch conf : 94.56394910812378\n",
      "1/1 [==============================] - 0s 21ms/step\n",
      "[0.24940568 0.05624923 0.09044935 0.6038957 ]\n",
      "num : 13\tclass : unknown conf : 60.38957238197327\n",
      "1/1 [==============================] - 0s 22ms/step\n",
      "[0.71977705 0.04539575 0.16755815 0.06726899]\n",
      "num : 14\tclass : bus conf : 71.97770476341248\n",
      "1/1 [==============================] - 0s 19ms/step\n",
      "[0.02264518 0.93958855 0.01608117 0.02168516]\n",
      "num : 15\tclass : elf conf : 93.95885467529297\n",
      "1/1 [==============================] - 0s 19ms/step\n",
      "[0.01389155 0.01181668 0.9548869  0.01940488]\n",
      "num : 16\tclass : petch conf : 95.48869132995605\n",
      "1/1 [==============================] - 0s 18ms/step\n",
      "[0.03204972 0.6879727  0.10838684 0.17159075]\n",
      "num : 17\tclass : elf conf : 68.79727244377136\n",
      "1/1 [==============================] - 0s 15ms/step\n",
      "[0.11746322 0.09443753 0.13441405 0.6536852 ]\n",
      "num : 18\tclass : unknown conf : 65.3685212135315\n",
      "1/1 [==============================] - 0s 16ms/step\n",
      "[0.13698728 0.08408661 0.08841101 0.69051516]\n",
      "num : 19\tclass : unknown conf : 69.05151605606079\n",
      "1/1 [==============================] - 0s 16ms/step\n",
      "[0.50256336 0.12517537 0.21316402 0.1590973 ]\n",
      "num : 20\tclass : bus conf : 50.256335735321045\n",
      "1/1 [==============================] - 0s 18ms/step\n",
      "[0.11105856 0.05599779 0.13793606 0.69500756]\n",
      "num : 21\tclass : unknown conf : 69.50075626373291\n",
      "1/1 [==============================] - 0s 17ms/step\n",
      "[0.00565332 0.9300563  0.00855146 0.05573891]\n",
      "num : 22\tclass : elf conf : 93.00562739372253\n",
      "1/1 [==============================] - 0s 17ms/step\n",
      "[0.00444063 0.8846214  0.09320942 0.0177286 ]\n",
      "num : 23\tclass : elf conf : 88.46213817596436\n",
      "1/1 [==============================] - 0s 17ms/step\n",
      "[0.6730498  0.02978529 0.12278119 0.17438373]\n",
      "num : 24\tclass : bus conf : 67.3049807548523\n",
      "1/1 [==============================] - 0s 18ms/step\n",
      "[0.03142911 0.92124075 0.01067367 0.03665652]\n",
      "num : 25\tclass : elf conf : 92.1240746974945\n",
      "1/1 [==============================] - 0s 17ms/step\n",
      "[0.06875246 0.46657658 0.362679   0.10199202]\n",
      "num : 26\tclass : elf conf : 46.657657623291016\n",
      "1/1 [==============================] - 0s 17ms/step\n",
      "[0.01719725 0.3678795  0.5310469  0.08387637]\n",
      "num : 27\tclass : petch conf : 53.104692697525024\n",
      "1/1 [==============================] - 0s 18ms/step\n",
      "[0.06338792 0.35675797 0.48502952 0.09482454]\n",
      "num : 28\tclass : petch conf : 48.502951860427856\n",
      "1/1 [==============================] - 0s 19ms/step\n",
      "[0.16622607 0.23764326 0.2823044  0.3138263 ]\n",
      "num : 29\tclass : unknown conf : 31.38262927532196\n",
      "1/1 [==============================] - 0s 19ms/step\n",
      "[0.14211015 0.15579359 0.6677865  0.03430975]\n",
      "num : 30\tclass : petch conf : 66.77864789962769\n"
     ]
    }
   ],
   "source": [
    "num = 0\n",
    "for sample in sample_set_processed :\n",
    "    num+=1\n",
    "    predictions = prob_model.predict(sample)\n",
    "    print(predictions[0])\n",
    "    print(f'num : {num}\\tclass : {name[predictions[0].argmax()]} conf : {predictions[0][predictions[0].argmax()] * 100}')"
   ]
  },
  {
   "cell_type": "code",
   "execution_count": 11,
   "metadata": {},
   "outputs": [],
   "source": [
    "import cv2, queue, threading, time"
   ]
  },
  {
   "cell_type": "code",
   "execution_count": 12,
   "metadata": {},
   "outputs": [],
   "source": [
    "class VideoCapture:\n",
    "\n",
    "  def __init__(self, name):\n",
    "    self.cap = cv2.VideoCapture(name)\n",
    "    self.q = queue.Queue()\n",
    "    t = threading.Thread(target=self._reader)\n",
    "    t.daemon = True\n",
    "    t.start()\n",
    "\n",
    "  def _reader(self):\n",
    "    while True:\n",
    "      ret, frame = self.cap.read()\n",
    "      if not ret:\n",
    "        break\n",
    "      if not self.q.empty():\n",
    "        try:\n",
    "          self.q.get_nowait()\n",
    "        except queue.Empty:\n",
    "          pass\n",
    "      self.q.put(frame)\n",
    "\n",
    "  def read(self):\n",
    "    return self.q.get()\n",
    "  \n",
    "  def release(self):\n",
    "    self.cap.release()\n"
   ]
  },
  {
   "cell_type": "code",
   "execution_count": 14,
   "metadata": {},
   "outputs": [
    {
     "name": "stdout",
     "output_type": "stream",
     "text": [
      "\n",
      " [INFO] Exiting Program and cleanup stuff\n"
     ]
    }
   ],
   "source": [
    "cap = VideoCapture(1)\n",
    "font = cv2.FONT_HERSHEY_SIMPLEX\n",
    "face_cascade = cv2.CascadeClassifier('haarcascades/haarcascade_frontalface_default.xml')\n",
    "\n",
    "color = (0, 255, 0)\n",
    "fontsize = 2\n",
    "\n",
    "while(True):\n",
    "    img = cap.read()\n",
    "    gray = cv2.cvtColor(img, cv2.COLOR_BGR2GRAY)\n",
    "    faces = face_cascade.detectMultiScale(\n",
    "        gray,     \n",
    "        scaleFactor=1.2,\n",
    "        minNeighbors=5,     \n",
    "        minSize=(10, 10)\n",
    "    )\n",
    "    for (x,y,w,h) in faces:\n",
    "        cv2.rectangle(img, (x,y), (x+w,y+h), (0,255,0), 2)\n",
    "        predictions = prob_model.predict(sample_process(img[y:y+h,x:x+w]), verbose=0)\n",
    "        id = predictions[0].argmax()\n",
    "        confidence = predictions[0][predictions[0].argmax()] * 100\n",
    "        if (confidence > 80):\n",
    "            id = name[id]\n",
    "            cv2.putText(\n",
    "                    img, \n",
    "                    str(id), \n",
    "                    (x+5,y-5), \n",
    "                    font, \n",
    "                    1, \n",
    "                    (255,255,255), \n",
    "                    2\n",
    "                   )\n",
    "            cv2.putText(\n",
    "                    img, \n",
    "                    str(confidence), \n",
    "                    (x+5,y+h-5), \n",
    "                    font, \n",
    "                    1, \n",
    "                    (255,255,0), \n",
    "                    1\n",
    "                   )  \n",
    "        else:\n",
    "            id = \"unknown\"\n",
    "            cv2.putText(\n",
    "                    img, \n",
    "                    str(id), \n",
    "                    (x+5,y-5), \n",
    "                    font, \n",
    "                    1, \n",
    "                    (255,255,255), \n",
    "                    2\n",
    "                   )\n",
    "        \n",
    "    cv2.imshow('camera',img)\n",
    "    k = cv2.waitKey(10) & 0xff\n",
    "    if k == 27:\n",
    "        break\n",
    "print(\"\\n [INFO] Exiting Program and cleanup stuff\")\n",
    "cap.release()\n",
    "cv2.destroyAllWindows()"
   ]
  },
  {
   "cell_type": "code",
   "execution_count": null,
   "metadata": {},
   "outputs": [],
   "source": []
  }
 ],
 "metadata": {
  "kernelspec": {
   "display_name": "ML",
   "language": "python",
   "name": "python3"
  },
  "language_info": {
   "codemirror_mode": {
    "name": "ipython",
    "version": 3
   },
   "file_extension": ".py",
   "mimetype": "text/x-python",
   "name": "python",
   "nbconvert_exporter": "python",
   "pygments_lexer": "ipython3",
   "version": "3.9.17"
  },
  "orig_nbformat": 4
 },
 "nbformat": 4,
 "nbformat_minor": 2
}
