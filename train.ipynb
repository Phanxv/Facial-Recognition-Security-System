{
 "cells": [
  {
   "cell_type": "code",
   "execution_count": null,
   "metadata": {},
   "outputs": [],
   "source": [
    "!pip install keras_vggface"
   ]
  },
  {
   "cell_type": "code",
   "execution_count": null,
   "metadata": {},
   "outputs": [],
   "source": [
    "!pip install keras_applications"
   ]
  },
  {
   "cell_type": "code",
   "execution_count": null,
   "metadata": {},
   "outputs": [],
   "source": [
    "!pip install mtcnn"
   ]
  },
  {
   "cell_type": "code",
   "execution_count": null,
   "metadata": {},
   "outputs": [],
   "source": [
    "!pip install Pillow"
   ]
  },
  {
   "cell_type": "code",
   "execution_count": null,
   "metadata": {},
   "outputs": [],
   "source": [
    "import os\n",
    "os.environ['TF_CPP_MIN_LOG_LEVEL'] = '2'"
   ]
  },
  {
   "cell_type": "code",
   "execution_count": 1,
   "metadata": {},
   "outputs": [],
   "source": [
    "from PIL import Image"
   ]
  },
  {
   "cell_type": "code",
   "execution_count": 2,
   "metadata": {},
   "outputs": [
    {
     "name": "stderr",
     "output_type": "stream",
     "text": [
      "2023-08-23 09:20:18.285657: I tensorflow/core/platform/cpu_feature_guard.cc:182] This TensorFlow binary is optimized to use available CPU instructions in performance-critical operations.\n",
      "To enable the following instructions: AVX2 FMA, in other operations, rebuild TensorFlow with the appropriate compiler flags.\n",
      "2023-08-23 09:20:18.916871: W tensorflow/compiler/tf2tensorrt/utils/py_utils.cc:38] TF-TRT Warning: Could not find TensorRT\n"
     ]
    }
   ],
   "source": [
    "import tensorflow as tf\n",
    "import keras\n",
    "from keras_vggface.vggface import VGGFace\n",
    "import cv2"
   ]
  },
  {
   "cell_type": "code",
   "execution_count": 3,
   "metadata": {},
   "outputs": [
    {
     "name": "stderr",
     "output_type": "stream",
     "text": [
      "2023-08-23 09:20:19.753920: I tensorflow/compiler/xla/stream_executor/cuda/cuda_gpu_executor.cc:996] successful NUMA node read from SysFS had negative value (-1), but there must be at least one NUMA node, so returning NUMA node zero. See more at https://github.com/torvalds/linux/blob/v6.0/Documentation/ABI/testing/sysfs-bus-pci#L344-L355\n",
      "2023-08-23 09:20:19.770104: I tensorflow/compiler/xla/stream_executor/cuda/cuda_gpu_executor.cc:996] successful NUMA node read from SysFS had negative value (-1), but there must be at least one NUMA node, so returning NUMA node zero. See more at https://github.com/torvalds/linux/blob/v6.0/Documentation/ABI/testing/sysfs-bus-pci#L344-L355\n",
      "2023-08-23 09:20:19.770279: I tensorflow/compiler/xla/stream_executor/cuda/cuda_gpu_executor.cc:996] successful NUMA node read from SysFS had negative value (-1), but there must be at least one NUMA node, so returning NUMA node zero. See more at https://github.com/torvalds/linux/blob/v6.0/Documentation/ABI/testing/sysfs-bus-pci#L344-L355\n",
      "2023-08-23 09:20:19.770941: I tensorflow/compiler/xla/stream_executor/cuda/cuda_gpu_executor.cc:996] successful NUMA node read from SysFS had negative value (-1), but there must be at least one NUMA node, so returning NUMA node zero. See more at https://github.com/torvalds/linux/blob/v6.0/Documentation/ABI/testing/sysfs-bus-pci#L344-L355\n",
      "2023-08-23 09:20:19.771064: I tensorflow/compiler/xla/stream_executor/cuda/cuda_gpu_executor.cc:996] successful NUMA node read from SysFS had negative value (-1), but there must be at least one NUMA node, so returning NUMA node zero. See more at https://github.com/torvalds/linux/blob/v6.0/Documentation/ABI/testing/sysfs-bus-pci#L344-L355\n",
      "2023-08-23 09:20:19.771168: I tensorflow/compiler/xla/stream_executor/cuda/cuda_gpu_executor.cc:996] successful NUMA node read from SysFS had negative value (-1), but there must be at least one NUMA node, so returning NUMA node zero. See more at https://github.com/torvalds/linux/blob/v6.0/Documentation/ABI/testing/sysfs-bus-pci#L344-L355\n",
      "2023-08-23 09:20:20.225034: I tensorflow/compiler/xla/stream_executor/cuda/cuda_gpu_executor.cc:996] successful NUMA node read from SysFS had negative value (-1), but there must be at least one NUMA node, so returning NUMA node zero. See more at https://github.com/torvalds/linux/blob/v6.0/Documentation/ABI/testing/sysfs-bus-pci#L344-L355\n",
      "2023-08-23 09:20:20.225248: I tensorflow/compiler/xla/stream_executor/cuda/cuda_gpu_executor.cc:996] successful NUMA node read from SysFS had negative value (-1), but there must be at least one NUMA node, so returning NUMA node zero. See more at https://github.com/torvalds/linux/blob/v6.0/Documentation/ABI/testing/sysfs-bus-pci#L344-L355\n",
      "2023-08-23 09:20:20.225366: I tensorflow/compiler/xla/stream_executor/cuda/cuda_gpu_executor.cc:996] successful NUMA node read from SysFS had negative value (-1), but there must be at least one NUMA node, so returning NUMA node zero. See more at https://github.com/torvalds/linux/blob/v6.0/Documentation/ABI/testing/sysfs-bus-pci#L344-L355\n",
      "2023-08-23 09:20:20.225485: I tensorflow/core/common_runtime/gpu/gpu_device.cc:1635] Created device /job:localhost/replica:0/task:0/device:GPU:0 with 4069 MB memory:  -> device: 0, name: NVIDIA GeForce RTX 3060 Laptop GPU, pci bus id: 0000:01:00.0, compute capability: 8.6\n"
     ]
    }
   ],
   "source": [
    "vggface = VGGFace(model='vgg16')"
   ]
  },
  {
   "cell_type": "code",
   "execution_count": 4,
   "metadata": {},
   "outputs": [
    {
     "name": "stdout",
     "output_type": "stream",
     "text": [
      "Found 1792 files belonging to 4 classes.\n"
     ]
    }
   ],
   "source": [
    "train_dataset = keras.utils.image_dataset_from_directory('datasets_VGG',\n",
    "                                                         shuffle=True,\n",
    "                                                         batch_size=16,\n",
    "                                                         image_size=(224,224))"
   ]
  },
  {
   "cell_type": "code",
   "execution_count": 5,
   "metadata": {},
   "outputs": [],
   "source": [
    "data_aug = keras.Sequential([\n",
    "    tf.keras.layers.RandomFlip('horizontal'),\n",
    "    tf.keras.layers.RandomRotation(0.2),\n",
    "    tf.keras.layers.RandomBrightness(0.1),\n",
    "    tf.keras.layers.RandomContrast(0.1)\n",
    "])"
   ]
  },
  {
   "cell_type": "code",
   "execution_count": 6,
   "metadata": {},
   "outputs": [],
   "source": [
    "vggface_resnet_base = VGGFace(model='resnet50')"
   ]
  },
  {
   "cell_type": "code",
   "execution_count": 7,
   "metadata": {},
   "outputs": [
    {
     "name": "stdout",
     "output_type": "stream",
     "text": [
      "Inputs: [<KerasTensor: shape=(None, 224, 224, 3) dtype=float32 (created by layer 'input_2')>]\n",
      "Outputs: [<KerasTensor: shape=(None, 8631) dtype=float32 (created by layer 'classifier')>]\n"
     ]
    }
   ],
   "source": [
    "print('Inputs: %s' % vggface_resnet_base.inputs)\n",
    "print('Outputs: %s' % vggface_resnet_base.outputs)"
   ]
  },
  {
   "cell_type": "code",
   "execution_count": 8,
   "metadata": {},
   "outputs": [],
   "source": [
    "from keras.layers import Flatten, Dense, Input\n",
    "from keras_vggface.vggface import VGGFace"
   ]
  },
  {
   "cell_type": "code",
   "execution_count": 9,
   "metadata": {},
   "outputs": [],
   "source": [
    "number_class = 4"
   ]
  },
  {
   "cell_type": "code",
   "execution_count": 10,
   "metadata": {},
   "outputs": [],
   "source": [
    "vggface_resnet_base.trainable = False\n",
    "last_layer = vggface_resnet_base.get_layer('avg_pool').output\n",
    "\n",
    "inputs = tf.keras.Input(shape=(224,224,3))\n",
    "\n",
    "x = data_aug(inputs)\n",
    "x = vggface_resnet_base(x)\n",
    "x = Flatten(name='flatten')(x)\n",
    "\n",
    "out = Dense(4, name='classifier')(x)\n",
    "custom_model = keras.Model(inputs, out)"
   ]
  },
  {
   "cell_type": "code",
   "execution_count": 11,
   "metadata": {},
   "outputs": [],
   "source": [
    "base_lr = 0.0005\n",
    "\n",
    "custom_model.compile(optimizer=tf.keras.optimizers.Adam(learning_rate=base_lr),\n",
    "                     loss = tf.keras.losses.SparseCategoricalCrossentropy(from_logits=True),\n",
    "                     metrics=['accuracy'])"
   ]
  },
  {
   "cell_type": "code",
   "execution_count": 12,
   "metadata": {},
   "outputs": [
    {
     "name": "stdout",
     "output_type": "stream",
     "text": [
      "Model: \"model\"\n",
      "_________________________________________________________________\n",
      " Layer (type)                Output Shape              Param #   \n",
      "=================================================================\n",
      " input_3 (InputLayer)        [(None, 224, 224, 3)]     0         \n",
      "                                                                 \n",
      " sequential (Sequential)     (None, 224, 224, 3)       0         \n",
      "                                                                 \n",
      " vggface_resnet50 (Functiona  (None, 8631)             41246071  \n",
      " l)                                                              \n",
      "                                                                 \n",
      " flatten (Flatten)           (None, 8631)              0         \n",
      "                                                                 \n",
      " classifier (Dense)          (None, 4)                 34528     \n",
      "                                                                 \n",
      "=================================================================\n",
      "Total params: 41,280,599\n",
      "Trainable params: 34,528\n",
      "Non-trainable params: 41,246,071\n",
      "_________________________________________________________________\n"
     ]
    }
   ],
   "source": [
    "custom_model.summary()"
   ]
  },
  {
   "cell_type": "code",
   "execution_count": 13,
   "metadata": {},
   "outputs": [],
   "source": [
    "early_stopping = tf.keras.callbacks.EarlyStopping(monitor='loss',\n",
    "                                                  patience=5)"
   ]
  },
  {
   "cell_type": "code",
   "execution_count": 14,
   "metadata": {},
   "outputs": [
    {
     "name": "stdout",
     "output_type": "stream",
     "text": [
      "Epoch 1/300\n"
     ]
    },
    {
     "name": "stderr",
     "output_type": "stream",
     "text": [
      "2023-08-23 09:20:22.492598: I tensorflow/core/common_runtime/executor.cc:1197] [/device:CPU:0] (DEBUG INFO) Executor start aborting (this does not indicate an error and you can ignore this message): INVALID_ARGUMENT: You must feed a value for placeholder tensor 'Placeholder/_4' with dtype int32 and shape [1792]\n",
      "\t [[{{node Placeholder/_4}}]]\n",
      "2023-08-23 09:20:22.492865: I tensorflow/core/common_runtime/executor.cc:1197] [/device:CPU:0] (DEBUG INFO) Executor start aborting (this does not indicate an error and you can ignore this message): INVALID_ARGUMENT: You must feed a value for placeholder tensor 'Placeholder/_0' with dtype string and shape [1792]\n",
      "\t [[{{node Placeholder/_0}}]]\n",
      "2023-08-23 09:20:25.195851: I tensorflow/compiler/xla/stream_executor/cuda/cuda_dnn.cc:424] Loaded cuDNN version 8600\n",
      "2023-08-23 09:20:25.847428: I tensorflow/compiler/xla/stream_executor/cuda/cuda_blas.cc:637] TensorFloat-32 will be used for the matrix multiplication. This will only be logged once.\n",
      "2023-08-23 09:20:26.380334: I tensorflow/compiler/xla/service/service.cc:169] XLA service 0x7f9c8576c380 initialized for platform CUDA (this does not guarantee that XLA will be used). Devices:\n",
      "2023-08-23 09:20:26.380354: I tensorflow/compiler/xla/service/service.cc:177]   StreamExecutor device (0): NVIDIA GeForce RTX 3060 Laptop GPU, Compute Capability 8.6\n",
      "2023-08-23 09:20:26.383491: I tensorflow/compiler/mlir/tensorflow/utils/dump_mlir_util.cc:269] disabling MLIR crash reproducer, set env var `MLIR_CRASH_REPRODUCER_DIRECTORY` to enable.\n",
      "2023-08-23 09:20:26.492638: I ./tensorflow/compiler/jit/device_compiler.h:180] Compiled cluster using XLA!  This line is logged at most once for the lifetime of the process.\n"
     ]
    },
    {
     "name": "stdout",
     "output_type": "stream",
     "text": [
      "112/112 [==============================] - 8s 39ms/step - loss: 1.3718 - accuracy: 0.4397\n",
      "Epoch 2/300\n",
      "112/112 [==============================] - 4s 39ms/step - loss: 1.3442 - accuracy: 0.4146\n",
      "Epoch 3/300\n",
      "112/112 [==============================] - 4s 39ms/step - loss: 1.3208 - accuracy: 0.4124\n",
      "Epoch 4/300\n",
      "112/112 [==============================] - 4s 39ms/step - loss: 1.3006 - accuracy: 0.4124\n",
      "Epoch 5/300\n",
      "112/112 [==============================] - 4s 39ms/step - loss: 1.2806 - accuracy: 0.4113\n",
      "Epoch 6/300\n",
      "112/112 [==============================] - 4s 39ms/step - loss: 1.2613 - accuracy: 0.4157\n",
      "Epoch 7/300\n",
      "112/112 [==============================] - 4s 39ms/step - loss: 1.2443 - accuracy: 0.4180\n",
      "Epoch 8/300\n",
      "112/112 [==============================] - 4s 39ms/step - loss: 1.2277 - accuracy: 0.4297\n",
      "Epoch 9/300\n",
      "112/112 [==============================] - 4s 39ms/step - loss: 1.2114 - accuracy: 0.4392\n",
      "Epoch 10/300\n",
      "112/112 [==============================] - 4s 39ms/step - loss: 1.1939 - accuracy: 0.4604\n",
      "Epoch 11/300\n",
      "112/112 [==============================] - 4s 40ms/step - loss: 1.1783 - accuracy: 0.4710\n",
      "Epoch 12/300\n",
      "112/112 [==============================] - 4s 39ms/step - loss: 1.1692 - accuracy: 0.4933\n",
      "Epoch 13/300\n",
      "112/112 [==============================] - 4s 40ms/step - loss: 1.1509 - accuracy: 0.5184\n",
      "Epoch 14/300\n",
      "112/112 [==============================] - 4s 40ms/step - loss: 1.1439 - accuracy: 0.5257\n",
      "Epoch 15/300\n",
      "112/112 [==============================] - 5s 40ms/step - loss: 1.1278 - accuracy: 0.5681\n",
      "Epoch 16/300\n",
      "112/112 [==============================] - 4s 40ms/step - loss: 1.1138 - accuracy: 0.5910\n",
      "Epoch 17/300\n",
      "112/112 [==============================] - 4s 40ms/step - loss: 1.1026 - accuracy: 0.6183\n",
      "Epoch 18/300\n",
      "112/112 [==============================] - 4s 39ms/step - loss: 1.0857 - accuracy: 0.6445\n",
      "Epoch 19/300\n",
      "112/112 [==============================] - 4s 39ms/step - loss: 1.0837 - accuracy: 0.6635\n",
      "Epoch 20/300\n",
      "112/112 [==============================] - 4s 39ms/step - loss: 1.0682 - accuracy: 0.6869\n",
      "Epoch 21/300\n",
      "112/112 [==============================] - 4s 39ms/step - loss: 1.0617 - accuracy: 0.6819\n",
      "Epoch 22/300\n",
      "112/112 [==============================] - 4s 39ms/step - loss: 1.0499 - accuracy: 0.7015\n",
      "Epoch 23/300\n",
      "112/112 [==============================] - 4s 40ms/step - loss: 1.0395 - accuracy: 0.7054\n",
      "Epoch 24/300\n",
      "112/112 [==============================] - 4s 39ms/step - loss: 1.0326 - accuracy: 0.7093\n",
      "Epoch 25/300\n",
      "112/112 [==============================] - 4s 39ms/step - loss: 1.0237 - accuracy: 0.7121\n",
      "Epoch 26/300\n",
      "112/112 [==============================] - 4s 39ms/step - loss: 0.9929 - accuracy: 0.7511\n",
      "Epoch 27/300\n",
      "112/112 [==============================] - 4s 39ms/step - loss: 0.9965 - accuracy: 0.7299\n",
      "Epoch 28/300\n",
      "112/112 [==============================] - 4s 40ms/step - loss: 0.9908 - accuracy: 0.7377\n",
      "Epoch 29/300\n",
      "112/112 [==============================] - 4s 39ms/step - loss: 0.9729 - accuracy: 0.7455\n",
      "Epoch 30/300\n",
      "112/112 [==============================] - 4s 39ms/step - loss: 0.9587 - accuracy: 0.7634\n",
      "Epoch 31/300\n",
      "112/112 [==============================] - 4s 39ms/step - loss: 0.9696 - accuracy: 0.7360\n",
      "Epoch 32/300\n",
      "112/112 [==============================] - 4s 39ms/step - loss: 0.9344 - accuracy: 0.7684\n",
      "Epoch 33/300\n",
      "112/112 [==============================] - 5s 40ms/step - loss: 0.9439 - accuracy: 0.7494\n",
      "Epoch 34/300\n",
      "112/112 [==============================] - 5s 40ms/step - loss: 0.9350 - accuracy: 0.7483\n",
      "Epoch 35/300\n",
      "112/112 [==============================] - 4s 40ms/step - loss: 0.9224 - accuracy: 0.7567\n",
      "Epoch 36/300\n",
      "112/112 [==============================] - 4s 40ms/step - loss: 0.9042 - accuracy: 0.7773\n",
      "Epoch 37/300\n",
      "112/112 [==============================] - 4s 40ms/step - loss: 0.9095 - accuracy: 0.7645\n",
      "Epoch 38/300\n",
      "112/112 [==============================] - 4s 40ms/step - loss: 0.9080 - accuracy: 0.7545\n",
      "Epoch 39/300\n",
      "112/112 [==============================] - 4s 40ms/step - loss: 0.8799 - accuracy: 0.7734\n",
      "Epoch 40/300\n",
      "112/112 [==============================] - 4s 39ms/step - loss: 0.8786 - accuracy: 0.7667\n",
      "Epoch 41/300\n",
      "112/112 [==============================] - 4s 40ms/step - loss: 0.8723 - accuracy: 0.7746\n",
      "Epoch 42/300\n",
      "112/112 [==============================] - 4s 40ms/step - loss: 0.8704 - accuracy: 0.7651\n",
      "Epoch 43/300\n",
      "112/112 [==============================] - 4s 39ms/step - loss: 0.8613 - accuracy: 0.7712\n",
      "Epoch 44/300\n",
      "112/112 [==============================] - 4s 40ms/step - loss: 0.8425 - accuracy: 0.7840\n",
      "Epoch 45/300\n",
      "112/112 [==============================] - 4s 39ms/step - loss: 0.8375 - accuracy: 0.7773\n",
      "Epoch 46/300\n",
      "112/112 [==============================] - 4s 40ms/step - loss: 0.8290 - accuracy: 0.7846\n",
      "Epoch 47/300\n",
      "112/112 [==============================] - 4s 40ms/step - loss: 0.8254 - accuracy: 0.7762\n",
      "Epoch 48/300\n",
      "112/112 [==============================] - 5s 40ms/step - loss: 0.8204 - accuracy: 0.7801\n",
      "Epoch 49/300\n",
      "112/112 [==============================] - 4s 40ms/step - loss: 0.8003 - accuracy: 0.7913\n",
      "Epoch 50/300\n",
      "112/112 [==============================] - 5s 40ms/step - loss: 0.8016 - accuracy: 0.7829\n",
      "Epoch 51/300\n",
      "112/112 [==============================] - 5s 40ms/step - loss: 0.7907 - accuracy: 0.7840\n",
      "Epoch 52/300\n",
      "112/112 [==============================] - 4s 40ms/step - loss: 0.7881 - accuracy: 0.7840\n",
      "Epoch 53/300\n",
      "112/112 [==============================] - 4s 39ms/step - loss: 0.7994 - accuracy: 0.7718\n",
      "Epoch 54/300\n",
      "112/112 [==============================] - 4s 39ms/step - loss: 0.7787 - accuracy: 0.7835\n",
      "Epoch 55/300\n",
      "112/112 [==============================] - 4s 39ms/step - loss: 0.7672 - accuracy: 0.7863\n",
      "Epoch 56/300\n",
      "112/112 [==============================] - 4s 39ms/step - loss: 0.7517 - accuracy: 0.7980\n",
      "Epoch 57/300\n",
      "112/112 [==============================] - 4s 39ms/step - loss: 0.7649 - accuracy: 0.7812\n",
      "Epoch 58/300\n",
      "112/112 [==============================] - 4s 39ms/step - loss: 0.7553 - accuracy: 0.7812\n",
      "Epoch 59/300\n",
      "112/112 [==============================] - 4s 39ms/step - loss: 0.7512 - accuracy: 0.7835\n",
      "Epoch 60/300\n",
      "112/112 [==============================] - 4s 39ms/step - loss: 0.7617 - accuracy: 0.7712\n",
      "Epoch 61/300\n",
      "112/112 [==============================] - 4s 39ms/step - loss: 0.7392 - accuracy: 0.7868\n",
      "Epoch 62/300\n",
      "112/112 [==============================] - 4s 39ms/step - loss: 0.7439 - accuracy: 0.7740\n",
      "Epoch 63/300\n",
      "112/112 [==============================] - 4s 39ms/step - loss: 0.7278 - accuracy: 0.7891\n",
      "Epoch 64/300\n",
      "112/112 [==============================] - 4s 39ms/step - loss: 0.7131 - accuracy: 0.7963\n",
      "Epoch 65/300\n",
      "112/112 [==============================] - 4s 39ms/step - loss: 0.7234 - accuracy: 0.7751\n",
      "Epoch 66/300\n",
      "112/112 [==============================] - 4s 39ms/step - loss: 0.7231 - accuracy: 0.7801\n",
      "Epoch 67/300\n",
      "112/112 [==============================] - 4s 39ms/step - loss: 0.7047 - accuracy: 0.7896\n",
      "Epoch 68/300\n",
      "112/112 [==============================] - 4s 39ms/step - loss: 0.7012 - accuracy: 0.7874\n",
      "Epoch 69/300\n",
      "112/112 [==============================] - 4s 39ms/step - loss: 0.6782 - accuracy: 0.7958\n",
      "Epoch 70/300\n",
      "112/112 [==============================] - 4s 39ms/step - loss: 0.6771 - accuracy: 0.7980\n",
      "Epoch 71/300\n",
      "112/112 [==============================] - 4s 39ms/step - loss: 0.6888 - accuracy: 0.7868\n",
      "Epoch 72/300\n",
      "112/112 [==============================] - 4s 39ms/step - loss: 0.7071 - accuracy: 0.7734\n",
      "Epoch 73/300\n",
      "112/112 [==============================] - 4s 39ms/step - loss: 0.6756 - accuracy: 0.7930\n",
      "Epoch 74/300\n",
      "112/112 [==============================] - 4s 39ms/step - loss: 0.6752 - accuracy: 0.7879\n",
      "Epoch 75/300\n",
      "112/112 [==============================] - 4s 39ms/step - loss: 0.6879 - accuracy: 0.7718\n",
      "Epoch 76/300\n",
      "112/112 [==============================] - 4s 39ms/step - loss: 0.6854 - accuracy: 0.7746\n",
      "Epoch 77/300\n",
      "112/112 [==============================] - 4s 39ms/step - loss: 0.6617 - accuracy: 0.7891\n",
      "Epoch 78/300\n",
      "112/112 [==============================] - 4s 39ms/step - loss: 0.6436 - accuracy: 0.7963\n",
      "Epoch 79/300\n",
      "112/112 [==============================] - 4s 39ms/step - loss: 0.6700 - accuracy: 0.7857\n",
      "Epoch 80/300\n",
      "112/112 [==============================] - 4s 39ms/step - loss: 0.6402 - accuracy: 0.7974\n",
      "Epoch 81/300\n",
      "112/112 [==============================] - 4s 40ms/step - loss: 0.6264 - accuracy: 0.8075\n",
      "Epoch 82/300\n",
      "112/112 [==============================] - 4s 39ms/step - loss: 0.6397 - accuracy: 0.7980\n",
      "Epoch 83/300\n",
      "112/112 [==============================] - 4s 39ms/step - loss: 0.6274 - accuracy: 0.8019\n",
      "Epoch 84/300\n",
      "112/112 [==============================] - 4s 39ms/step - loss: 0.6369 - accuracy: 0.7941\n"
     ]
    }
   ],
   "source": [
    "his = custom_model.fit(train_dataset, epochs=300, callbacks=[early_stopping])"
   ]
  },
  {
   "cell_type": "code",
   "execution_count": 15,
   "metadata": {},
   "outputs": [],
   "source": [
    "prob_model = keras.Sequential([custom_model,\n",
    "                               tf.keras.layers.Softmax()\n",
    "                               ])"
   ]
  },
  {
   "cell_type": "code",
   "execution_count": 16,
   "metadata": {},
   "outputs": [],
   "source": [
    "sample_set = []\n",
    "for i in range(1,31) :\n",
    "    sample = cv2.imread(f'test/000{i}.png')\n",
    "    sample_set.append(sample)\n"
   ]
  },
  {
   "cell_type": "code",
   "execution_count": 17,
   "metadata": {},
   "outputs": [
    {
     "data": {
      "text/plain": [
       "(132, 130, 3)"
      ]
     },
     "execution_count": 17,
     "metadata": {},
     "output_type": "execute_result"
    }
   ],
   "source": [
    "sample_set[24].shape"
   ]
  },
  {
   "cell_type": "code",
   "execution_count": 18,
   "metadata": {},
   "outputs": [],
   "source": [
    "def sample_process(sample) :\n",
    "    sample_reshape = cv2.resize(sample,dsize=(224,224))\n",
    "    sample = tf.convert_to_tensor(sample_reshape, dtype=tf.float32)\n",
    "    sample = tf.expand_dims(sample, 0)\n",
    "    return sample"
   ]
  },
  {
   "cell_type": "code",
   "execution_count": 19,
   "metadata": {},
   "outputs": [],
   "source": [
    "sample_set_processed = []"
   ]
  },
  {
   "cell_type": "code",
   "execution_count": 20,
   "metadata": {},
   "outputs": [],
   "source": [
    "for sample in sample_set :\n",
    "    sample_e = sample_process(sample)\n",
    "    sample_set_processed.append(sample_e)"
   ]
  },
  {
   "cell_type": "code",
   "execution_count": 21,
   "metadata": {},
   "outputs": [
    {
     "data": {
      "text/plain": [
       "TensorShape([1, 224, 224, 3])"
      ]
     },
     "execution_count": 21,
     "metadata": {},
     "output_type": "execute_result"
    }
   ],
   "source": [
    "sample_set_processed[0].shape"
   ]
  },
  {
   "cell_type": "code",
   "execution_count": 22,
   "metadata": {},
   "outputs": [],
   "source": [
    "name = ['bus','elf','petch','unknown']"
   ]
  },
  {
   "cell_type": "code",
   "execution_count": 26,
   "metadata": {},
   "outputs": [
    {
     "name": "stdout",
     "output_type": "stream",
     "text": [
      "1/1 [==============================] - 0s 16ms/step\n",
      "[0.06329039 0.75122833 0.04254247 0.14293869]\n",
      "num : 1\tclass : elf\tconf : 75.12283325195312%\n",
      "1/1 [==============================] - 0s 18ms/step\n",
      "[0.10758764 0.19758601 0.59756213 0.09726424]\n",
      "num : 2\tclass : petch\tconf : 59.756213426589966%\n",
      "1/1 [==============================] - 0s 18ms/step\n",
      "[0.06460182 0.68680227 0.06177691 0.18681897]\n",
      "num : 3\tclass : elf\tconf : 68.68022680282593%\n",
      "1/1 [==============================] - 0s 16ms/step\n",
      "[0.80379087 0.05166602 0.05190339 0.09263978]\n",
      "num : 4\tclass : bus\tconf : 80.37908673286438%\n",
      "1/1 [==============================] - 0s 18ms/step\n",
      "[0.26163453 0.16609798 0.10518102 0.4670865 ]\n",
      "num : 5\tclass : unknown\tconf : 46.70864939689636%\n",
      "1/1 [==============================] - 0s 15ms/step\n",
      "[0.310454   0.2051407  0.1673983  0.31700698]\n",
      "num : 6\tclass : unknown\tconf : 31.700697541236877%\n",
      "1/1 [==============================] - 0s 15ms/step\n",
      "[0.40709114 0.0982035  0.10841154 0.3862939 ]\n",
      "num : 7\tclass : bus\tconf : 40.70911407470703%\n",
      "1/1 [==============================] - 0s 15ms/step\n",
      "[0.06281905 0.49003503 0.27737284 0.169773  ]\n",
      "num : 8\tclass : elf\tconf : 49.00350272655487%\n",
      "1/1 [==============================] - 0s 15ms/step\n",
      "[0.1139     0.30168638 0.41712642 0.16728725]\n",
      "num : 9\tclass : petch\tconf : 41.71264171600342%\n",
      "1/1 [==============================] - 0s 18ms/step\n",
      "[0.17791583 0.13673252 0.4927105  0.19264112]\n",
      "num : 10\tclass : petch\tconf : 49.27105009555817%\n",
      "1/1 [==============================] - 0s 18ms/step\n",
      "[0.02535361 0.8161012  0.03045291 0.12809223]\n",
      "num : 11\tclass : elf\tconf : 81.61011934280396%\n",
      "1/1 [==============================] - 0s 17ms/step\n",
      "[0.06286585 0.12167735 0.6685478  0.14690906]\n",
      "num : 12\tclass : petch\tconf : 66.85478091239929%\n",
      "1/1 [==============================] - 0s 19ms/step\n",
      "[0.28727525 0.12335953 0.14447117 0.4448941 ]\n",
      "num : 13\tclass : unknown\tconf : 44.489410519599915%\n",
      "1/1 [==============================] - 0s 20ms/step\n",
      "[0.5107408  0.12850137 0.21106659 0.14969124]\n",
      "num : 14\tclass : bus\tconf : 51.07408165931702%\n",
      "1/1 [==============================] - 0s 18ms/step\n",
      "[0.1000396  0.6714596  0.09246586 0.136035  ]\n",
      "num : 15\tclass : elf\tconf : 67.14596152305603%\n",
      "1/1 [==============================] - 0s 17ms/step\n",
      "[0.08785285 0.08531074 0.7060747  0.12076174]\n",
      "num : 16\tclass : petch\tconf : 70.60747146606445%\n",
      "1/1 [==============================] - 0s 18ms/step\n",
      "[0.09151952 0.47663465 0.16715357 0.26469234]\n",
      "num : 17\tclass : elf\tconf : 47.66346514225006%\n",
      "1/1 [==============================] - 0s 16ms/step\n",
      "[0.1411457  0.14947872 0.14751087 0.5618647 ]\n",
      "num : 18\tclass : unknown\tconf : 56.18646740913391%\n",
      "1/1 [==============================] - 0s 16ms/step\n",
      "[0.15922417 0.14910285 0.12578917 0.56588376]\n",
      "num : 19\tclass : unknown\tconf : 56.58837556838989%\n",
      "1/1 [==============================] - 0s 16ms/step\n",
      "[0.3634691  0.17882843 0.21301492 0.24468756]\n",
      "num : 20\tclass : bus\tconf : 36.346909403800964%\n",
      "1/1 [==============================] - 0s 16ms/step\n",
      "[0.20085034 0.1436775  0.191247   0.46422514]\n",
      "num : 21\tclass : unknown\tconf : 46.42251431941986%\n",
      "1/1 [==============================] - 0s 16ms/step\n",
      "[0.24710241 0.14431387 0.18817171 0.42041197]\n",
      "num : 22\tclass : unknown\tconf : 42.041197419166565%\n",
      "1/1 [==============================] - 0s 16ms/step\n",
      "[0.04013119 0.62048256 0.212232   0.1271543 ]\n",
      "num : 23\tclass : elf\tconf : 62.048256397247314%\n",
      "1/1 [==============================] - 0s 17ms/step\n",
      "[0.48222312 0.10392043 0.16297199 0.25088447]\n",
      "num : 24\tclass : bus\tconf : 48.222312331199646%\n",
      "1/1 [==============================] - 0s 16ms/step\n",
      "[0.11387639 0.65256673 0.06826603 0.16529079]\n",
      "num : 25\tclass : elf\tconf : 65.25667309761047%\n",
      "1/1 [==============================] - 0s 17ms/step\n",
      "[0.12748468 0.35842475 0.29692134 0.21716921]\n",
      "num : 26\tclass : elf\tconf : 35.84247529506683%\n",
      "1/1 [==============================] - 0s 17ms/step\n",
      "[0.06201926 0.31853113 0.38824782 0.2312018 ]\n",
      "num : 27\tclass : petch\tconf : 38.82478177547455%\n",
      "1/1 [==============================] - 0s 19ms/step\n",
      "[0.1311382  0.33866102 0.3502317  0.17996904]\n",
      "num : 28\tclass : petch\tconf : 35.023170709609985%\n",
      "1/1 [==============================] - 0s 18ms/step\n",
      "[0.20634677 0.24840589 0.23737375 0.30787358]\n",
      "num : 29\tclass : unknown\tconf : 30.787357687950134%\n",
      "1/1 [==============================] - 0s 16ms/step\n",
      "[0.21855369 0.21193697 0.4285771  0.14093219]\n",
      "num : 30\tclass : petch\tconf : 42.857709527015686%\n"
     ]
    }
   ],
   "source": [
    "num = 0\n",
    "for sample in sample_set_processed :\n",
    "    num+=1\n",
    "    predictions = prob_model.predict(sample)\n",
    "    print(predictions[0])\n",
    "    print(f'num : {num}\\tclass : {name[predictions[0].argmax()]}\\tconf : {predictions[0][predictions[0].argmax()] * 100}%')"
   ]
  },
  {
   "cell_type": "code",
   "execution_count": 24,
   "metadata": {},
   "outputs": [],
   "source": [
    "#prob_model.save(\"third_model_face.tf\")"
   ]
  }
 ],
 "metadata": {
  "kernelspec": {
   "display_name": "ML",
   "language": "python",
   "name": "python3"
  },
  "language_info": {
   "codemirror_mode": {
    "name": "ipython",
    "version": 3
   },
   "file_extension": ".py",
   "mimetype": "text/x-python",
   "name": "python",
   "nbconvert_exporter": "python",
   "pygments_lexer": "ipython3",
   "version": "3.9.17"
  },
  "orig_nbformat": 4
 },
 "nbformat": 4,
 "nbformat_minor": 2
}
